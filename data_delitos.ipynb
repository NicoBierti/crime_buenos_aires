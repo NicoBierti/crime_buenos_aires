{
 "cells": [
  {
   "cell_type": "code",
   "execution_count": 1,
   "metadata": {},
   "outputs": [
    {
     "name": "stderr",
     "output_type": "stream",
     "text": [
      "C:\\Users\\Nico\\AppData\\Local\\Temp/ipykernel_25100/3430237162.py:4: FutureWarning: Passing a negative integer is deprecated in version 1.0 and will not be supported in future version. Instead, use None to not limit the column width.\n",
      "  pd.set_option('display.max_colwidth', -1)\n"
     ]
    }
   ],
   "source": [
    "import pandas as pd\n",
    "import numpy as np\n",
    "import xlsxwriter\n",
    "pd.set_option('display.max_colwidth', -1)"
   ]
  },
  {
   "cell_type": "code",
   "execution_count": 2,
   "metadata": {},
   "outputs": [],
   "source": [
    "path = r'C:/Users/Nico/Documents/repositories/crime_buenos_aires/Datasets/'"
   ]
  },
  {
   "cell_type": "code",
   "execution_count": 3,
   "metadata": {},
   "outputs": [],
   "source": [
    "df_2016 = pd.read_csv(path + 'delitos_2016.csv', sep=',')\n",
    "df_2017 = pd.read_csv(path + 'delitos_2017.csv', sep=',')\n",
    "df_2018 = pd.read_csv(path + 'delitos_2018.csv', sep=',')\n",
    "df_2019 = pd.read_csv(path + 'delitos_2019.csv', sep=',',low_memory=False)\n",
    "df_2020 = pd.read_csv(path + 'delitos_2020.csv', sep=',')\n",
    "df_2021 = pd.read_csv(path + 'delitos_2021.csv', sep=';')"
   ]
  },
  {
   "cell_type": "code",
   "execution_count": 4,
   "metadata": {},
   "outputs": [
    {
     "data": {
      "text/html": [
       "<div>\n",
       "<style scoped>\n",
       "    .dataframe tbody tr th:only-of-type {\n",
       "        vertical-align: middle;\n",
       "    }\n",
       "\n",
       "    .dataframe tbody tr th {\n",
       "        vertical-align: top;\n",
       "    }\n",
       "\n",
       "    .dataframe thead th {\n",
       "        text-align: right;\n",
       "    }\n",
       "</style>\n",
       "<table border=\"1\" class=\"dataframe\">\n",
       "  <thead>\n",
       "    <tr style=\"text-align: right;\">\n",
       "      <th></th>\n",
       "      <th>id</th>\n",
       "      <th>fecha</th>\n",
       "      <th>franja_horaria</th>\n",
       "      <th>tipo_delito</th>\n",
       "      <th>subtipo_delito</th>\n",
       "      <th>cantidad_registrada</th>\n",
       "      <th>comuna</th>\n",
       "      <th>barrio</th>\n",
       "      <th>lat</th>\n",
       "      <th>long</th>\n",
       "    </tr>\n",
       "  </thead>\n",
       "  <tbody>\n",
       "    <tr>\n",
       "      <th>0</th>\n",
       "      <td>51585</td>\n",
       "      <td>2016-01-01</td>\n",
       "      <td>13</td>\n",
       "      <td>Robo (con violencia)</td>\n",
       "      <td>NaN</td>\n",
       "      <td>1.0</td>\n",
       "      <td>9.0</td>\n",
       "      <td>Parque Avellaneda</td>\n",
       "      <td>-34.648730</td>\n",
       "      <td>-58.468536</td>\n",
       "    </tr>\n",
       "    <tr>\n",
       "      <th>1</th>\n",
       "      <td>83256</td>\n",
       "      <td>2016-01-01</td>\n",
       "      <td>22</td>\n",
       "      <td>Robo (con violencia)</td>\n",
       "      <td>NaN</td>\n",
       "      <td>1.0</td>\n",
       "      <td>14.0</td>\n",
       "      <td>Palermo</td>\n",
       "      <td>-34.576925</td>\n",
       "      <td>-58.407400</td>\n",
       "    </tr>\n",
       "    <tr>\n",
       "      <th>2</th>\n",
       "      <td>117697</td>\n",
       "      <td>2016-01-01</td>\n",
       "      <td>1</td>\n",
       "      <td>Lesiones</td>\n",
       "      <td>Siniestro Vial</td>\n",
       "      <td>1.0</td>\n",
       "      <td>4.0</td>\n",
       "      <td>Parque Patricios</td>\n",
       "      <td>-34.645197</td>\n",
       "      <td>-58.401099</td>\n",
       "    </tr>\n",
       "    <tr>\n",
       "      <th>3</th>\n",
       "      <td>43088</td>\n",
       "      <td>2016-01-01</td>\n",
       "      <td>19</td>\n",
       "      <td>Hurto (sin violencia)</td>\n",
       "      <td>NaN</td>\n",
       "      <td>1.0</td>\n",
       "      <td>9.0</td>\n",
       "      <td>Parque Avellaneda</td>\n",
       "      <td>-34.655760</td>\n",
       "      <td>-58.478681</td>\n",
       "    </tr>\n",
       "    <tr>\n",
       "      <th>4</th>\n",
       "      <td>68588</td>\n",
       "      <td>2016-01-01</td>\n",
       "      <td>4</td>\n",
       "      <td>Robo (con violencia)</td>\n",
       "      <td>Robo Automotor</td>\n",
       "      <td>1.0</td>\n",
       "      <td>6.0</td>\n",
       "      <td>Caballito</td>\n",
       "      <td>-34.624128</td>\n",
       "      <td>-58.436826</td>\n",
       "    </tr>\n",
       "  </tbody>\n",
       "</table>\n",
       "</div>"
      ],
      "text/plain": [
       "       id       fecha franja_horaria            tipo_delito  subtipo_delito  \\\n",
       "0  51585   2016-01-01  13             Robo (con violencia)   NaN              \n",
       "1  83256   2016-01-01  22             Robo (con violencia)   NaN              \n",
       "2  117697  2016-01-01  1              Lesiones               Siniestro Vial   \n",
       "3  43088   2016-01-01  19             Hurto (sin violencia)  NaN              \n",
       "4  68588   2016-01-01  4              Robo (con violencia)   Robo Automotor   \n",
       "\n",
       "   cantidad_registrada  comuna             barrio        lat       long  \n",
       "0  1.0                  9.0     Parque Avellaneda -34.648730 -58.468536  \n",
       "1  1.0                  14.0    Palermo           -34.576925 -58.407400  \n",
       "2  1.0                  4.0     Parque Patricios  -34.645197 -58.401099  \n",
       "3  1.0                  9.0     Parque Avellaneda -34.655760 -58.478681  \n",
       "4  1.0                  6.0     Caballito         -34.624128 -58.436826  "
      ]
     },
     "execution_count": 4,
     "metadata": {},
     "output_type": "execute_result"
    }
   ],
   "source": [
    "df_2016.head()"
   ]
  },
  {
   "cell_type": "code",
   "execution_count": 5,
   "metadata": {},
   "outputs": [
    {
     "data": {
      "text/plain": [
       "Index(['id', 'fecha', 'franja_horaria', 'tipo_delito', 'subtipo_delito',\n",
       "       'cantidad_registrada', 'comuna', 'barrio', 'lat', 'long'],\n",
       "      dtype='object')"
      ]
     },
     "execution_count": 5,
     "metadata": {},
     "output_type": "execute_result"
    }
   ],
   "source": [
    "df_2016.columns"
   ]
  },
  {
   "cell_type": "markdown",
   "metadata": {},
   "source": [
    "Columnas iniciales"
   ]
  },
  {
   "cell_type": "code",
   "execution_count": 6,
   "metadata": {},
   "outputs": [
    {
     "name": "stdout",
     "output_type": "stream",
     "text": [
      "2016 Index(['id', 'fecha', 'franja_horaria', 'tipo_delito', 'subtipo_delito',\n",
      "       'cantidad_registrada', 'comuna', 'barrio', 'lat', 'long'],\n",
      "      dtype='object')\n",
      "2017 Index(['id', 'fecha', 'franja_horaria', 'tipo_delito', 'subtipo_delito',\n",
      "       'cantidad_registrada', 'comuna', 'barrio', 'lat', 'long'],\n",
      "      dtype='object')\n",
      "2018 Index(['id', 'fecha', 'franja_horaria', 'tipo_delito', 'subtipo_delito',\n",
      "       'cantidad_registrada', 'comuna', 'barrio', 'lat', 'long'],\n",
      "      dtype='object')\n",
      "2019 Index(['id', 'fecha', 'franja_horaria', 'tipo_delito', 'subtipo_delito',\n",
      "       'cantidad_registrada', 'comuna', 'barrio', 'lat', 'long'],\n",
      "      dtype='object')\n",
      "2020 Index(['id_mapa', 'anio', 'mes', 'dia', 'fecha', 'franja', 'tipo', 'subtipo',\n",
      "       'uso_armas', 'barrio', 'comuna', 'latitud', 'longitud', 'victimas'],\n",
      "      dtype='object')\n",
      "2021 Index(['id-mapa', 'anio', 'mes', 'dia', 'fecha', 'franja', 'tipo', 'subtipo',\n",
      "       'uso_armas', 'barrio', 'comuna', 'latitud', 'longitud', 'cantidad'],\n",
      "      dtype='object')\n"
     ]
    }
   ],
   "source": [
    "print('2016', df_2016.columns) \n",
    "print('2017', df_2017.columns)\n",
    "print('2018', df_2018.columns)\n",
    "print('2019', df_2019.columns)\n",
    "print('2020', df_2020.columns)\n",
    "print('2021', df_2021.columns)"
   ]
  },
  {
   "cell_type": "markdown",
   "metadata": {},
   "source": [
    "Dropeamos columnas de mas "
   ]
  },
  {
   "cell_type": "markdown",
   "metadata": {},
   "source": [
    "**2020**"
   ]
  },
  {
   "cell_type": "code",
   "execution_count": 7,
   "metadata": {},
   "outputs": [],
   "source": [
    "df_2020.drop(columns=['anio', 'mes', 'dia', 'uso_armas'], inplace=True,errors='ignore')"
   ]
  },
  {
   "cell_type": "code",
   "execution_count": 8,
   "metadata": {},
   "outputs": [
    {
     "data": {
      "text/plain": [
       "Index(['id_mapa', 'fecha', 'franja', 'tipo', 'subtipo', 'barrio', 'comuna',\n",
       "       'latitud', 'longitud', 'victimas'],\n",
       "      dtype='object')"
      ]
     },
     "execution_count": 8,
     "metadata": {},
     "output_type": "execute_result"
    }
   ],
   "source": [
    "df_2020.columns"
   ]
  },
  {
   "cell_type": "markdown",
   "metadata": {},
   "source": [
    "**2021**"
   ]
  },
  {
   "cell_type": "code",
   "execution_count": 9,
   "metadata": {},
   "outputs": [
    {
     "data": {
      "text/plain": [
       "Index(['id-mapa', 'anio', 'mes', 'dia', 'fecha', 'franja', 'tipo', 'subtipo',\n",
       "       'uso_armas', 'barrio', 'comuna', 'latitud', 'longitud', 'cantidad'],\n",
       "      dtype='object')"
      ]
     },
     "execution_count": 9,
     "metadata": {},
     "output_type": "execute_result"
    }
   ],
   "source": [
    "df_2021.columns"
   ]
  },
  {
   "cell_type": "code",
   "execution_count": 10,
   "metadata": {},
   "outputs": [],
   "source": [
    "df_2021.drop(columns=['anio', 'mes', 'dia','uso_armas'], inplace=True,errors='ignore')"
   ]
  },
  {
   "cell_type": "code",
   "execution_count": 11,
   "metadata": {},
   "outputs": [
    {
     "data": {
      "text/plain": [
       "Index(['id-mapa', 'fecha', 'franja', 'tipo', 'subtipo', 'barrio', 'comuna',\n",
       "       'latitud', 'longitud', 'cantidad'],\n",
       "      dtype='object')"
      ]
     },
     "execution_count": 11,
     "metadata": {},
     "output_type": "execute_result"
    }
   ],
   "source": [
    "df_2021.columns"
   ]
  },
  {
   "cell_type": "markdown",
   "metadata": {},
   "source": [
    "columnas a mantener\n",
    "\n",
    "id, fecha, franja, tipo_delito, subtipo_delito, cantidad_registrada, barrio, comuna, latitud, longitud"
   ]
  },
  {
   "cell_type": "markdown",
   "metadata": {},
   "source": [
    "Columnas luego del dropeo"
   ]
  },
  {
   "cell_type": "code",
   "execution_count": 12,
   "metadata": {},
   "outputs": [
    {
     "name": "stdout",
     "output_type": "stream",
     "text": [
      "2016 Index(['id', 'fecha', 'franja_horaria', 'tipo_delito', 'subtipo_delito',\n",
      "       'cantidad_registrada', 'comuna', 'barrio', 'lat', 'long'],\n",
      "      dtype='object')\n",
      "2017 Index(['id', 'fecha', 'franja_horaria', 'tipo_delito', 'subtipo_delito',\n",
      "       'cantidad_registrada', 'comuna', 'barrio', 'lat', 'long'],\n",
      "      dtype='object')\n",
      "2018 Index(['id', 'fecha', 'franja_horaria', 'tipo_delito', 'subtipo_delito',\n",
      "       'cantidad_registrada', 'comuna', 'barrio', 'lat', 'long'],\n",
      "      dtype='object')\n",
      "2019 Index(['id', 'fecha', 'franja_horaria', 'tipo_delito', 'subtipo_delito',\n",
      "       'cantidad_registrada', 'comuna', 'barrio', 'lat', 'long'],\n",
      "      dtype='object')\n",
      "2020 Index(['id_mapa', 'fecha', 'franja', 'tipo', 'subtipo', 'barrio', 'comuna',\n",
      "       'latitud', 'longitud', 'victimas'],\n",
      "      dtype='object')\n",
      "2021 Index(['id-mapa', 'fecha', 'franja', 'tipo', 'subtipo', 'barrio', 'comuna',\n",
      "       'latitud', 'longitud', 'cantidad'],\n",
      "      dtype='object')\n"
     ]
    }
   ],
   "source": [
    "print('2016', df_2016.columns) \n",
    "print('2017', df_2017.columns)\n",
    "print('2018', df_2018.columns)\n",
    "print('2019', df_2019.columns)\n",
    "print('2020', df_2020.columns)\n",
    "print('2021', df_2021.columns)"
   ]
  },
  {
   "cell_type": "markdown",
   "metadata": {},
   "source": [
    "Cambiamos nombres de las columnas"
   ]
  },
  {
   "cell_type": "code",
   "execution_count": 13,
   "metadata": {},
   "outputs": [],
   "source": [
    "df_2020.rename(columns={'id_mapa':'id','franja':'franja_horaria',\n",
    "                        'tipo':'tipo_delito','subtipo':'subtipo_delito',\n",
    "                        'victimas':'cantidad_registrada','latitud':'lat',\n",
    "                        'longitud':'long'}, inplace=True)"
   ]
  },
  {
   "cell_type": "code",
   "execution_count": 14,
   "metadata": {},
   "outputs": [],
   "source": [
    "df_2021.rename(columns={'id-mapa':'id','franja':'franja_horaria',\n",
    "                        'tipo':'tipo_delito','subtipo':'subtipo_delito',\n",
    "                        'cantidad':'cantidad_registrada','latitud':'lat',\n",
    "                        'longitud':'long'}, inplace=True)"
   ]
  },
  {
   "cell_type": "markdown",
   "metadata": {},
   "source": [
    "Columnas finales"
   ]
  },
  {
   "cell_type": "code",
   "execution_count": 15,
   "metadata": {},
   "outputs": [
    {
     "name": "stdout",
     "output_type": "stream",
     "text": [
      "2016 Index(['id', 'fecha', 'franja_horaria', 'tipo_delito', 'subtipo_delito',\n",
      "       'cantidad_registrada', 'comuna', 'barrio', 'lat', 'long'],\n",
      "      dtype='object')\n",
      "2017 Index(['id', 'fecha', 'franja_horaria', 'tipo_delito', 'subtipo_delito',\n",
      "       'cantidad_registrada', 'comuna', 'barrio', 'lat', 'long'],\n",
      "      dtype='object')\n",
      "2018 Index(['id', 'fecha', 'franja_horaria', 'tipo_delito', 'subtipo_delito',\n",
      "       'cantidad_registrada', 'comuna', 'barrio', 'lat', 'long'],\n",
      "      dtype='object')\n",
      "2019 Index(['id', 'fecha', 'franja_horaria', 'tipo_delito', 'subtipo_delito',\n",
      "       'cantidad_registrada', 'comuna', 'barrio', 'lat', 'long'],\n",
      "      dtype='object')\n",
      "2020 Index(['id', 'fecha', 'franja_horaria', 'tipo_delito', 'subtipo_delito',\n",
      "       'barrio', 'comuna', 'lat', 'long', 'cantidad_registrada'],\n",
      "      dtype='object')\n",
      "2021 Index(['id', 'fecha', 'franja_horaria', 'tipo_delito', 'subtipo_delito',\n",
      "       'barrio', 'comuna', 'lat', 'long', 'cantidad_registrada'],\n",
      "      dtype='object')\n"
     ]
    }
   ],
   "source": [
    "print('2016', df_2016.columns) \n",
    "print('2017', df_2017.columns)\n",
    "print('2018', df_2018.columns)\n",
    "print('2019', df_2019.columns)\n",
    "print('2020', df_2020.columns)\n",
    "print('2021', df_2021.columns)"
   ]
  },
  {
   "cell_type": "markdown",
   "metadata": {},
   "source": [
    "## Fechas"
   ]
  },
  {
   "cell_type": "code",
   "execution_count": 16,
   "metadata": {},
   "outputs": [],
   "source": [
    "df_2016['fecha'] = pd.to_datetime(df_2016['fecha'], format='%Y-%m-%d')\n",
    "df_2017['fecha'] = pd.to_datetime(df_2017['fecha'], format='%Y-%m-%d')\n",
    "df_2018['fecha'] = pd.to_datetime(df_2018['fecha'], format='%Y-%m-%d')"
   ]
  },
  {
   "cell_type": "code",
   "execution_count": 17,
   "metadata": {},
   "outputs": [],
   "source": [
    "df_2019['fecha'] = pd.to_datetime(df_2019['fecha'], format='%d-%m-%y').dt.strftime('%Y-%m-%d')"
   ]
  },
  {
   "cell_type": "code",
   "execution_count": 18,
   "metadata": {},
   "outputs": [],
   "source": [
    "df_2020['fecha'] = pd.to_datetime(df_2020['fecha'], format='%d/%m/%y').dt.strftime('%Y-%m-%d')"
   ]
  },
  {
   "cell_type": "code",
   "execution_count": 19,
   "metadata": {},
   "outputs": [],
   "source": [
    "df_2021['fecha'] = pd.to_datetime(df_2021['fecha'], format='%d/%m/%Y').dt.strftime('%Y-%m-%d')"
   ]
  },
  {
   "cell_type": "markdown",
   "metadata": {},
   "source": [
    "## Franja horaria\n",
    "    Exploramos columnas franja horaria (ideal seria que este en formato str)"
   ]
  },
  {
   "cell_type": "code",
   "execution_count": 20,
   "metadata": {},
   "outputs": [],
   "source": [
    "df_2019['franja_horaria'] = df_2019['franja_horaria'].astype(str)"
   ]
  },
  {
   "cell_type": "code",
   "execution_count": 21,
   "metadata": {},
   "outputs": [],
   "source": [
    "dataframes = [df_2016, df_2017, df_2018, df_2019, df_2020, df_2021]\n",
    "\n",
    "for dataframe in dataframes:\n",
    "    dataframe.drop(dataframe[(dataframe['franja_horaria'] == 'S/D') | (dataframe['franja_horaria'] == 'SD') |  (dataframe['franja_horaria'] == 'sd')].index, inplace=True)"
   ]
  },
  {
   "cell_type": "markdown",
   "metadata": {},
   "source": [
    "## Tipo Delito"
   ]
  },
  {
   "cell_type": "code",
   "execution_count": 22,
   "metadata": {},
   "outputs": [
    {
     "data": {
      "text/plain": [
       "array(['Robo (con violencia)', 'Lesiones', 'Hurto (sin violencia)',\n",
       "       'Homicidio'], dtype=object)"
      ]
     },
     "metadata": {},
     "output_type": "display_data"
    },
    {
     "data": {
      "text/plain": [
       "array(['Robo (con violencia)', 'Hurto (sin violencia)', 'Lesiones',\n",
       "       'Homicidio'], dtype=object)"
      ]
     },
     "metadata": {},
     "output_type": "display_data"
    },
    {
     "data": {
      "text/plain": [
       "array(['Hurto (sin violencia)', 'Robo (con violencia)', 'Homicidio',\n",
       "       'Lesiones'], dtype=object)"
      ]
     },
     "metadata": {},
     "output_type": "display_data"
    },
    {
     "data": {
      "text/plain": [
       "array(['Robo (con violencia)', 'Hurto (sin violencia)', 'Homicidio',\n",
       "       'Lesiones'], dtype=object)"
      ]
     },
     "metadata": {},
     "output_type": "display_data"
    },
    {
     "data": {
      "text/plain": [
       "array(['Hurto (sin violencia)', 'Homicidio', 'Robo (con violencia)',\n",
       "       'Lesiones'], dtype=object)"
      ]
     },
     "metadata": {},
     "output_type": "display_data"
    },
    {
     "data": {
      "text/plain": [
       "array(['Homicidio', 'Lesiones', 'Robo (con violencia)',\n",
       "       'Hurto (sin violencia)'], dtype=object)"
      ]
     },
     "metadata": {},
     "output_type": "display_data"
    }
   ],
   "source": [
    "dataframes = [df_2016, df_2017, df_2018, df_2019, df_2020, df_2021]\n",
    "\n",
    "for dataframe in dataframes:\n",
    "    display(dataframe['tipo_delito'].unique())"
   ]
  },
  {
   "cell_type": "markdown",
   "metadata": {},
   "source": [
    "## Subtipo Delito"
   ]
  },
  {
   "cell_type": "code",
   "execution_count": 23,
   "metadata": {},
   "outputs": [
    {
     "data": {
      "text/plain": [
       "array([nan, 'Siniestro Vial', 'Robo Automotor', 'Hurto Automotor',\n",
       "       'Doloso'], dtype=object)"
      ]
     },
     "metadata": {},
     "output_type": "display_data"
    },
    {
     "data": {
      "text/plain": [
       "array([nan, 'Hurto Automotor', 'Robo Automotor', 'Siniestro Vial',\n",
       "       'Doloso'], dtype=object)"
      ]
     },
     "metadata": {},
     "output_type": "display_data"
    },
    {
     "data": {
      "text/plain": [
       "array([nan, 'Hurto Automotor', 'Robo Automotor', 'Siniestro Vial',\n",
       "       'Doloso'], dtype=object)"
      ]
     },
     "metadata": {},
     "output_type": "display_data"
    },
    {
     "data": {
      "text/plain": [
       "array([nan, 'Hurto Automotor', 'Doloso', 'Siniestro Vial',\n",
       "       'Robo Automotor'], dtype=object)"
      ]
     },
     "metadata": {},
     "output_type": "display_data"
    },
    {
     "data": {
      "text/plain": [
       "array([nan, 'Femicidio', 'Siniestro Vial', 'Con uso de moto',\n",
       "       'Hurto Automotor', 'Robo Automotor', 'Doloso',\n",
       "       'Femicidio Intrafamiliar', 'Travesticidio/Transfemicidio'],\n",
       "      dtype=object)"
      ]
     },
     "metadata": {},
     "output_type": "display_data"
    },
    {
     "data": {
      "text/plain": [
       "array(['Siniestro Vial', 'Doloso', 'Femicidio', nan, 'Robo Automotor',\n",
       "       'Hurto Automotor', 'Con uso de moto'], dtype=object)"
      ]
     },
     "metadata": {},
     "output_type": "display_data"
    }
   ],
   "source": [
    "dataframes = [df_2016, df_2017, df_2018, df_2019, df_2020, df_2021]\n",
    "\n",
    "for dataframe in dataframes:\n",
    "    display(dataframe['subtipo_delito'].unique())"
   ]
  },
  {
   "cell_type": "code",
   "execution_count": 24,
   "metadata": {},
   "outputs": [
    {
     "data": {
      "text/html": [
       "<div>\n",
       "<style scoped>\n",
       "    .dataframe tbody tr th:only-of-type {\n",
       "        vertical-align: middle;\n",
       "    }\n",
       "\n",
       "    .dataframe tbody tr th {\n",
       "        vertical-align: top;\n",
       "    }\n",
       "\n",
       "    .dataframe thead th {\n",
       "        text-align: right;\n",
       "    }\n",
       "</style>\n",
       "<table border=\"1\" class=\"dataframe\">\n",
       "  <thead>\n",
       "    <tr style=\"text-align: right;\">\n",
       "      <th></th>\n",
       "      <th>tipo_delito</th>\n",
       "      <th>subtipo_delito</th>\n",
       "    </tr>\n",
       "  </thead>\n",
       "  <tbody>\n",
       "    <tr>\n",
       "      <th>0</th>\n",
       "      <td>Homicidio</td>\n",
       "      <td>[Doloso, Siniestro Vial]</td>\n",
       "    </tr>\n",
       "    <tr>\n",
       "      <th>1</th>\n",
       "      <td>Hurto (sin violencia)</td>\n",
       "      <td>[nan, Hurto Automotor]</td>\n",
       "    </tr>\n",
       "    <tr>\n",
       "      <th>2</th>\n",
       "      <td>Lesiones</td>\n",
       "      <td>[Siniestro Vial]</td>\n",
       "    </tr>\n",
       "    <tr>\n",
       "      <th>3</th>\n",
       "      <td>Robo (con violencia)</td>\n",
       "      <td>[nan, Robo Automotor]</td>\n",
       "    </tr>\n",
       "  </tbody>\n",
       "</table>\n",
       "</div>"
      ],
      "text/plain": [
       "             tipo_delito            subtipo_delito\n",
       "0  Homicidio              [Doloso, Siniestro Vial]\n",
       "1  Hurto (sin violencia)  [nan, Hurto Automotor]  \n",
       "2  Lesiones               [Siniestro Vial]        \n",
       "3  Robo (con violencia)   [nan, Robo Automotor]   "
      ]
     },
     "metadata": {},
     "output_type": "display_data"
    },
    {
     "data": {
      "text/html": [
       "<div>\n",
       "<style scoped>\n",
       "    .dataframe tbody tr th:only-of-type {\n",
       "        vertical-align: middle;\n",
       "    }\n",
       "\n",
       "    .dataframe tbody tr th {\n",
       "        vertical-align: top;\n",
       "    }\n",
       "\n",
       "    .dataframe thead th {\n",
       "        text-align: right;\n",
       "    }\n",
       "</style>\n",
       "<table border=\"1\" class=\"dataframe\">\n",
       "  <thead>\n",
       "    <tr style=\"text-align: right;\">\n",
       "      <th></th>\n",
       "      <th>tipo_delito</th>\n",
       "      <th>subtipo_delito</th>\n",
       "    </tr>\n",
       "  </thead>\n",
       "  <tbody>\n",
       "    <tr>\n",
       "      <th>0</th>\n",
       "      <td>Homicidio</td>\n",
       "      <td>[Doloso, Siniestro Vial]</td>\n",
       "    </tr>\n",
       "    <tr>\n",
       "      <th>1</th>\n",
       "      <td>Hurto (sin violencia)</td>\n",
       "      <td>[nan, Hurto Automotor]</td>\n",
       "    </tr>\n",
       "    <tr>\n",
       "      <th>2</th>\n",
       "      <td>Lesiones</td>\n",
       "      <td>[Siniestro Vial]</td>\n",
       "    </tr>\n",
       "    <tr>\n",
       "      <th>3</th>\n",
       "      <td>Robo (con violencia)</td>\n",
       "      <td>[nan, Robo Automotor]</td>\n",
       "    </tr>\n",
       "  </tbody>\n",
       "</table>\n",
       "</div>"
      ],
      "text/plain": [
       "             tipo_delito            subtipo_delito\n",
       "0  Homicidio              [Doloso, Siniestro Vial]\n",
       "1  Hurto (sin violencia)  [nan, Hurto Automotor]  \n",
       "2  Lesiones               [Siniestro Vial]        \n",
       "3  Robo (con violencia)   [nan, Robo Automotor]   "
      ]
     },
     "metadata": {},
     "output_type": "display_data"
    },
    {
     "data": {
      "text/html": [
       "<div>\n",
       "<style scoped>\n",
       "    .dataframe tbody tr th:only-of-type {\n",
       "        vertical-align: middle;\n",
       "    }\n",
       "\n",
       "    .dataframe tbody tr th {\n",
       "        vertical-align: top;\n",
       "    }\n",
       "\n",
       "    .dataframe thead th {\n",
       "        text-align: right;\n",
       "    }\n",
       "</style>\n",
       "<table border=\"1\" class=\"dataframe\">\n",
       "  <thead>\n",
       "    <tr style=\"text-align: right;\">\n",
       "      <th></th>\n",
       "      <th>tipo_delito</th>\n",
       "      <th>subtipo_delito</th>\n",
       "    </tr>\n",
       "  </thead>\n",
       "  <tbody>\n",
       "    <tr>\n",
       "      <th>0</th>\n",
       "      <td>Homicidio</td>\n",
       "      <td>[Siniestro Vial, Doloso]</td>\n",
       "    </tr>\n",
       "    <tr>\n",
       "      <th>1</th>\n",
       "      <td>Hurto (sin violencia)</td>\n",
       "      <td>[nan, Hurto Automotor]</td>\n",
       "    </tr>\n",
       "    <tr>\n",
       "      <th>2</th>\n",
       "      <td>Lesiones</td>\n",
       "      <td>[Siniestro Vial]</td>\n",
       "    </tr>\n",
       "    <tr>\n",
       "      <th>3</th>\n",
       "      <td>Robo (con violencia)</td>\n",
       "      <td>[nan, Robo Automotor]</td>\n",
       "    </tr>\n",
       "  </tbody>\n",
       "</table>\n",
       "</div>"
      ],
      "text/plain": [
       "             tipo_delito            subtipo_delito\n",
       "0  Homicidio              [Siniestro Vial, Doloso]\n",
       "1  Hurto (sin violencia)  [nan, Hurto Automotor]  \n",
       "2  Lesiones               [Siniestro Vial]        \n",
       "3  Robo (con violencia)   [nan, Robo Automotor]   "
      ]
     },
     "metadata": {},
     "output_type": "display_data"
    },
    {
     "data": {
      "text/html": [
       "<div>\n",
       "<style scoped>\n",
       "    .dataframe tbody tr th:only-of-type {\n",
       "        vertical-align: middle;\n",
       "    }\n",
       "\n",
       "    .dataframe tbody tr th {\n",
       "        vertical-align: top;\n",
       "    }\n",
       "\n",
       "    .dataframe thead th {\n",
       "        text-align: right;\n",
       "    }\n",
       "</style>\n",
       "<table border=\"1\" class=\"dataframe\">\n",
       "  <thead>\n",
       "    <tr style=\"text-align: right;\">\n",
       "      <th></th>\n",
       "      <th>tipo_delito</th>\n",
       "      <th>subtipo_delito</th>\n",
       "    </tr>\n",
       "  </thead>\n",
       "  <tbody>\n",
       "    <tr>\n",
       "      <th>0</th>\n",
       "      <td>Homicidio</td>\n",
       "      <td>[Doloso, Siniestro Vial]</td>\n",
       "    </tr>\n",
       "    <tr>\n",
       "      <th>1</th>\n",
       "      <td>Hurto (sin violencia)</td>\n",
       "      <td>[nan, Hurto Automotor]</td>\n",
       "    </tr>\n",
       "    <tr>\n",
       "      <th>2</th>\n",
       "      <td>Lesiones</td>\n",
       "      <td>[nan]</td>\n",
       "    </tr>\n",
       "    <tr>\n",
       "      <th>3</th>\n",
       "      <td>Robo (con violencia)</td>\n",
       "      <td>[nan, Robo Automotor]</td>\n",
       "    </tr>\n",
       "  </tbody>\n",
       "</table>\n",
       "</div>"
      ],
      "text/plain": [
       "             tipo_delito            subtipo_delito\n",
       "0  Homicidio              [Doloso, Siniestro Vial]\n",
       "1  Hurto (sin violencia)  [nan, Hurto Automotor]  \n",
       "2  Lesiones               [nan]                   \n",
       "3  Robo (con violencia)   [nan, Robo Automotor]   "
      ]
     },
     "metadata": {},
     "output_type": "display_data"
    },
    {
     "data": {
      "text/html": [
       "<div>\n",
       "<style scoped>\n",
       "    .dataframe tbody tr th:only-of-type {\n",
       "        vertical-align: middle;\n",
       "    }\n",
       "\n",
       "    .dataframe tbody tr th {\n",
       "        vertical-align: top;\n",
       "    }\n",
       "\n",
       "    .dataframe thead th {\n",
       "        text-align: right;\n",
       "    }\n",
       "</style>\n",
       "<table border=\"1\" class=\"dataframe\">\n",
       "  <thead>\n",
       "    <tr style=\"text-align: right;\">\n",
       "      <th></th>\n",
       "      <th>tipo_delito</th>\n",
       "      <th>subtipo_delito</th>\n",
       "    </tr>\n",
       "  </thead>\n",
       "  <tbody>\n",
       "    <tr>\n",
       "      <th>0</th>\n",
       "      <td>Homicidio</td>\n",
       "      <td>[Femicidio, Siniestro Vial, Doloso, Femicidio Intrafamiliar, Travesticidio/Transfemicidio]</td>\n",
       "    </tr>\n",
       "    <tr>\n",
       "      <th>1</th>\n",
       "      <td>Hurto (sin violencia)</td>\n",
       "      <td>[nan, Hurto Automotor]</td>\n",
       "    </tr>\n",
       "    <tr>\n",
       "      <th>2</th>\n",
       "      <td>Lesiones</td>\n",
       "      <td>[Siniestro Vial]</td>\n",
       "    </tr>\n",
       "    <tr>\n",
       "      <th>3</th>\n",
       "      <td>Robo (con violencia)</td>\n",
       "      <td>[nan, Con uso de moto, Robo Automotor]</td>\n",
       "    </tr>\n",
       "  </tbody>\n",
       "</table>\n",
       "</div>"
      ],
      "text/plain": [
       "             tipo_delito  \\\n",
       "0  Homicidio               \n",
       "1  Hurto (sin violencia)   \n",
       "2  Lesiones                \n",
       "3  Robo (con violencia)    \n",
       "\n",
       "                                                                               subtipo_delito  \n",
       "0  [Femicidio, Siniestro Vial, Doloso, Femicidio Intrafamiliar, Travesticidio/Transfemicidio]  \n",
       "1  [nan, Hurto Automotor]                                                                      \n",
       "2  [Siniestro Vial]                                                                            \n",
       "3  [nan, Con uso de moto, Robo Automotor]                                                      "
      ]
     },
     "metadata": {},
     "output_type": "display_data"
    },
    {
     "data": {
      "text/html": [
       "<div>\n",
       "<style scoped>\n",
       "    .dataframe tbody tr th:only-of-type {\n",
       "        vertical-align: middle;\n",
       "    }\n",
       "\n",
       "    .dataframe tbody tr th {\n",
       "        vertical-align: top;\n",
       "    }\n",
       "\n",
       "    .dataframe thead th {\n",
       "        text-align: right;\n",
       "    }\n",
       "</style>\n",
       "<table border=\"1\" class=\"dataframe\">\n",
       "  <thead>\n",
       "    <tr style=\"text-align: right;\">\n",
       "      <th></th>\n",
       "      <th>tipo_delito</th>\n",
       "      <th>subtipo_delito</th>\n",
       "    </tr>\n",
       "  </thead>\n",
       "  <tbody>\n",
       "    <tr>\n",
       "      <th>0</th>\n",
       "      <td>Homicidio</td>\n",
       "      <td>[Siniestro Vial, Doloso, Femicidio]</td>\n",
       "    </tr>\n",
       "    <tr>\n",
       "      <th>1</th>\n",
       "      <td>Hurto (sin violencia)</td>\n",
       "      <td>[nan, Hurto Automotor]</td>\n",
       "    </tr>\n",
       "    <tr>\n",
       "      <th>2</th>\n",
       "      <td>Lesiones</td>\n",
       "      <td>[Siniestro Vial]</td>\n",
       "    </tr>\n",
       "    <tr>\n",
       "      <th>3</th>\n",
       "      <td>Robo (con violencia)</td>\n",
       "      <td>[nan, Robo Automotor, Con uso de moto]</td>\n",
       "    </tr>\n",
       "  </tbody>\n",
       "</table>\n",
       "</div>"
      ],
      "text/plain": [
       "             tipo_delito                          subtipo_delito\n",
       "0  Homicidio              [Siniestro Vial, Doloso, Femicidio]   \n",
       "1  Hurto (sin violencia)  [nan, Hurto Automotor]                \n",
       "2  Lesiones               [Siniestro Vial]                      \n",
       "3  Robo (con violencia)   [nan, Robo Automotor, Con uso de moto]"
      ]
     },
     "metadata": {},
     "output_type": "display_data"
    }
   ],
   "source": [
    "dataframes = [df_2016, df_2017, df_2018, df_2019, df_2020, df_2021]\n",
    "\n",
    "for dataframe in dataframes:\n",
    "    display(dataframe.groupby(['tipo_delito']).agg({'subtipo_delito':'unique'}).reset_index())"
   ]
  },
  {
   "cell_type": "code",
   "execution_count": 25,
   "metadata": {},
   "outputs": [],
   "source": [
    "df_2019.loc[df_2019['tipo_delito']=='Lesiones', 'subtipo_delito'] = 'Siniestro Vial'\n",
    "\n",
    "df_2020['subtipo_delito'] = df_2020['subtipo_delito'].replace('Travesticidio/Transfemicidio','Doloso')\n",
    "df_2020['subtipo_delito'] = df_2020['subtipo_delito'].replace('Femicidio Intrafamiliar','Doloso')\n",
    "df_2020['subtipo_delito'] = df_2020['subtipo_delito'].replace('Femicidio','Doloso')\n",
    "df_2020['subtipo_delito'] = df_2020['subtipo_delito'].replace('Con uso de moto',np.nan)\n",
    "\n",
    "df_2021['subtipo_delito'] = df_2021['subtipo_delito'].replace('Femicidio','Doloso')\n",
    "df_2021['subtipo_delito'] = df_2021['subtipo_delito'].replace('Con uso de moto',np.nan)\n"
   ]
  },
  {
   "cell_type": "markdown",
   "metadata": {},
   "source": [
    "Unificamos los datos de subtipo de lesiones"
   ]
  },
  {
   "cell_type": "code",
   "execution_count": 26,
   "metadata": {},
   "outputs": [
    {
     "data": {
      "text/html": [
       "<div>\n",
       "<style scoped>\n",
       "    .dataframe tbody tr th:only-of-type {\n",
       "        vertical-align: middle;\n",
       "    }\n",
       "\n",
       "    .dataframe tbody tr th {\n",
       "        vertical-align: top;\n",
       "    }\n",
       "\n",
       "    .dataframe thead th {\n",
       "        text-align: right;\n",
       "    }\n",
       "</style>\n",
       "<table border=\"1\" class=\"dataframe\">\n",
       "  <thead>\n",
       "    <tr style=\"text-align: right;\">\n",
       "      <th></th>\n",
       "      <th>tipo_delito</th>\n",
       "      <th>subtipo_delito</th>\n",
       "    </tr>\n",
       "  </thead>\n",
       "  <tbody>\n",
       "    <tr>\n",
       "      <th>0</th>\n",
       "      <td>Homicidio</td>\n",
       "      <td>[Doloso, Siniestro Vial]</td>\n",
       "    </tr>\n",
       "    <tr>\n",
       "      <th>1</th>\n",
       "      <td>Hurto (sin violencia)</td>\n",
       "      <td>[nan, Hurto Automotor]</td>\n",
       "    </tr>\n",
       "    <tr>\n",
       "      <th>2</th>\n",
       "      <td>Lesiones</td>\n",
       "      <td>[Siniestro Vial]</td>\n",
       "    </tr>\n",
       "    <tr>\n",
       "      <th>3</th>\n",
       "      <td>Robo (con violencia)</td>\n",
       "      <td>[nan, Robo Automotor]</td>\n",
       "    </tr>\n",
       "  </tbody>\n",
       "</table>\n",
       "</div>"
      ],
      "text/plain": [
       "             tipo_delito            subtipo_delito\n",
       "0  Homicidio              [Doloso, Siniestro Vial]\n",
       "1  Hurto (sin violencia)  [nan, Hurto Automotor]  \n",
       "2  Lesiones               [Siniestro Vial]        \n",
       "3  Robo (con violencia)   [nan, Robo Automotor]   "
      ]
     },
     "metadata": {},
     "output_type": "display_data"
    },
    {
     "data": {
      "text/html": [
       "<div>\n",
       "<style scoped>\n",
       "    .dataframe tbody tr th:only-of-type {\n",
       "        vertical-align: middle;\n",
       "    }\n",
       "\n",
       "    .dataframe tbody tr th {\n",
       "        vertical-align: top;\n",
       "    }\n",
       "\n",
       "    .dataframe thead th {\n",
       "        text-align: right;\n",
       "    }\n",
       "</style>\n",
       "<table border=\"1\" class=\"dataframe\">\n",
       "  <thead>\n",
       "    <tr style=\"text-align: right;\">\n",
       "      <th></th>\n",
       "      <th>tipo_delito</th>\n",
       "      <th>subtipo_delito</th>\n",
       "    </tr>\n",
       "  </thead>\n",
       "  <tbody>\n",
       "    <tr>\n",
       "      <th>0</th>\n",
       "      <td>Homicidio</td>\n",
       "      <td>[Doloso, Siniestro Vial]</td>\n",
       "    </tr>\n",
       "    <tr>\n",
       "      <th>1</th>\n",
       "      <td>Hurto (sin violencia)</td>\n",
       "      <td>[nan, Hurto Automotor]</td>\n",
       "    </tr>\n",
       "    <tr>\n",
       "      <th>2</th>\n",
       "      <td>Lesiones</td>\n",
       "      <td>[Siniestro Vial]</td>\n",
       "    </tr>\n",
       "    <tr>\n",
       "      <th>3</th>\n",
       "      <td>Robo (con violencia)</td>\n",
       "      <td>[nan, Robo Automotor]</td>\n",
       "    </tr>\n",
       "  </tbody>\n",
       "</table>\n",
       "</div>"
      ],
      "text/plain": [
       "             tipo_delito            subtipo_delito\n",
       "0  Homicidio              [Doloso, Siniestro Vial]\n",
       "1  Hurto (sin violencia)  [nan, Hurto Automotor]  \n",
       "2  Lesiones               [Siniestro Vial]        \n",
       "3  Robo (con violencia)   [nan, Robo Automotor]   "
      ]
     },
     "metadata": {},
     "output_type": "display_data"
    },
    {
     "data": {
      "text/html": [
       "<div>\n",
       "<style scoped>\n",
       "    .dataframe tbody tr th:only-of-type {\n",
       "        vertical-align: middle;\n",
       "    }\n",
       "\n",
       "    .dataframe tbody tr th {\n",
       "        vertical-align: top;\n",
       "    }\n",
       "\n",
       "    .dataframe thead th {\n",
       "        text-align: right;\n",
       "    }\n",
       "</style>\n",
       "<table border=\"1\" class=\"dataframe\">\n",
       "  <thead>\n",
       "    <tr style=\"text-align: right;\">\n",
       "      <th></th>\n",
       "      <th>tipo_delito</th>\n",
       "      <th>subtipo_delito</th>\n",
       "    </tr>\n",
       "  </thead>\n",
       "  <tbody>\n",
       "    <tr>\n",
       "      <th>0</th>\n",
       "      <td>Homicidio</td>\n",
       "      <td>[Siniestro Vial, Doloso]</td>\n",
       "    </tr>\n",
       "    <tr>\n",
       "      <th>1</th>\n",
       "      <td>Hurto (sin violencia)</td>\n",
       "      <td>[nan, Hurto Automotor]</td>\n",
       "    </tr>\n",
       "    <tr>\n",
       "      <th>2</th>\n",
       "      <td>Lesiones</td>\n",
       "      <td>[Siniestro Vial]</td>\n",
       "    </tr>\n",
       "    <tr>\n",
       "      <th>3</th>\n",
       "      <td>Robo (con violencia)</td>\n",
       "      <td>[nan, Robo Automotor]</td>\n",
       "    </tr>\n",
       "  </tbody>\n",
       "</table>\n",
       "</div>"
      ],
      "text/plain": [
       "             tipo_delito            subtipo_delito\n",
       "0  Homicidio              [Siniestro Vial, Doloso]\n",
       "1  Hurto (sin violencia)  [nan, Hurto Automotor]  \n",
       "2  Lesiones               [Siniestro Vial]        \n",
       "3  Robo (con violencia)   [nan, Robo Automotor]   "
      ]
     },
     "metadata": {},
     "output_type": "display_data"
    },
    {
     "data": {
      "text/html": [
       "<div>\n",
       "<style scoped>\n",
       "    .dataframe tbody tr th:only-of-type {\n",
       "        vertical-align: middle;\n",
       "    }\n",
       "\n",
       "    .dataframe tbody tr th {\n",
       "        vertical-align: top;\n",
       "    }\n",
       "\n",
       "    .dataframe thead th {\n",
       "        text-align: right;\n",
       "    }\n",
       "</style>\n",
       "<table border=\"1\" class=\"dataframe\">\n",
       "  <thead>\n",
       "    <tr style=\"text-align: right;\">\n",
       "      <th></th>\n",
       "      <th>tipo_delito</th>\n",
       "      <th>subtipo_delito</th>\n",
       "    </tr>\n",
       "  </thead>\n",
       "  <tbody>\n",
       "    <tr>\n",
       "      <th>0</th>\n",
       "      <td>Homicidio</td>\n",
       "      <td>[Doloso, Siniestro Vial]</td>\n",
       "    </tr>\n",
       "    <tr>\n",
       "      <th>1</th>\n",
       "      <td>Hurto (sin violencia)</td>\n",
       "      <td>[nan, Hurto Automotor]</td>\n",
       "    </tr>\n",
       "    <tr>\n",
       "      <th>2</th>\n",
       "      <td>Lesiones</td>\n",
       "      <td>[Siniestro Vial]</td>\n",
       "    </tr>\n",
       "    <tr>\n",
       "      <th>3</th>\n",
       "      <td>Robo (con violencia)</td>\n",
       "      <td>[nan, Robo Automotor]</td>\n",
       "    </tr>\n",
       "  </tbody>\n",
       "</table>\n",
       "</div>"
      ],
      "text/plain": [
       "             tipo_delito            subtipo_delito\n",
       "0  Homicidio              [Doloso, Siniestro Vial]\n",
       "1  Hurto (sin violencia)  [nan, Hurto Automotor]  \n",
       "2  Lesiones               [Siniestro Vial]        \n",
       "3  Robo (con violencia)   [nan, Robo Automotor]   "
      ]
     },
     "metadata": {},
     "output_type": "display_data"
    },
    {
     "data": {
      "text/html": [
       "<div>\n",
       "<style scoped>\n",
       "    .dataframe tbody tr th:only-of-type {\n",
       "        vertical-align: middle;\n",
       "    }\n",
       "\n",
       "    .dataframe tbody tr th {\n",
       "        vertical-align: top;\n",
       "    }\n",
       "\n",
       "    .dataframe thead th {\n",
       "        text-align: right;\n",
       "    }\n",
       "</style>\n",
       "<table border=\"1\" class=\"dataframe\">\n",
       "  <thead>\n",
       "    <tr style=\"text-align: right;\">\n",
       "      <th></th>\n",
       "      <th>tipo_delito</th>\n",
       "      <th>subtipo_delito</th>\n",
       "    </tr>\n",
       "  </thead>\n",
       "  <tbody>\n",
       "    <tr>\n",
       "      <th>0</th>\n",
       "      <td>Homicidio</td>\n",
       "      <td>[Doloso, Siniestro Vial]</td>\n",
       "    </tr>\n",
       "    <tr>\n",
       "      <th>1</th>\n",
       "      <td>Hurto (sin violencia)</td>\n",
       "      <td>[nan, Hurto Automotor]</td>\n",
       "    </tr>\n",
       "    <tr>\n",
       "      <th>2</th>\n",
       "      <td>Lesiones</td>\n",
       "      <td>[Siniestro Vial]</td>\n",
       "    </tr>\n",
       "    <tr>\n",
       "      <th>3</th>\n",
       "      <td>Robo (con violencia)</td>\n",
       "      <td>[nan, Robo Automotor]</td>\n",
       "    </tr>\n",
       "  </tbody>\n",
       "</table>\n",
       "</div>"
      ],
      "text/plain": [
       "             tipo_delito            subtipo_delito\n",
       "0  Homicidio              [Doloso, Siniestro Vial]\n",
       "1  Hurto (sin violencia)  [nan, Hurto Automotor]  \n",
       "2  Lesiones               [Siniestro Vial]        \n",
       "3  Robo (con violencia)   [nan, Robo Automotor]   "
      ]
     },
     "metadata": {},
     "output_type": "display_data"
    },
    {
     "data": {
      "text/html": [
       "<div>\n",
       "<style scoped>\n",
       "    .dataframe tbody tr th:only-of-type {\n",
       "        vertical-align: middle;\n",
       "    }\n",
       "\n",
       "    .dataframe tbody tr th {\n",
       "        vertical-align: top;\n",
       "    }\n",
       "\n",
       "    .dataframe thead th {\n",
       "        text-align: right;\n",
       "    }\n",
       "</style>\n",
       "<table border=\"1\" class=\"dataframe\">\n",
       "  <thead>\n",
       "    <tr style=\"text-align: right;\">\n",
       "      <th></th>\n",
       "      <th>tipo_delito</th>\n",
       "      <th>subtipo_delito</th>\n",
       "    </tr>\n",
       "  </thead>\n",
       "  <tbody>\n",
       "    <tr>\n",
       "      <th>0</th>\n",
       "      <td>Homicidio</td>\n",
       "      <td>[Siniestro Vial, Doloso]</td>\n",
       "    </tr>\n",
       "    <tr>\n",
       "      <th>1</th>\n",
       "      <td>Hurto (sin violencia)</td>\n",
       "      <td>[nan, Hurto Automotor]</td>\n",
       "    </tr>\n",
       "    <tr>\n",
       "      <th>2</th>\n",
       "      <td>Lesiones</td>\n",
       "      <td>[Siniestro Vial]</td>\n",
       "    </tr>\n",
       "    <tr>\n",
       "      <th>3</th>\n",
       "      <td>Robo (con violencia)</td>\n",
       "      <td>[nan, Robo Automotor]</td>\n",
       "    </tr>\n",
       "  </tbody>\n",
       "</table>\n",
       "</div>"
      ],
      "text/plain": [
       "             tipo_delito            subtipo_delito\n",
       "0  Homicidio              [Siniestro Vial, Doloso]\n",
       "1  Hurto (sin violencia)  [nan, Hurto Automotor]  \n",
       "2  Lesiones               [Siniestro Vial]        \n",
       "3  Robo (con violencia)   [nan, Robo Automotor]   "
      ]
     },
     "metadata": {},
     "output_type": "display_data"
    }
   ],
   "source": [
    "dataframes = [df_2016, df_2017, df_2018, df_2019, df_2020, df_2021]\n",
    "\n",
    "for dataframe in dataframes:\n",
    "    display(dataframe.groupby(['tipo_delito']).agg({'subtipo_delito':'unique'}).reset_index())"
   ]
  },
  {
   "cell_type": "markdown",
   "metadata": {},
   "source": [
    "## Barrio"
   ]
  },
  {
   "cell_type": "markdown",
   "metadata": {},
   "source": [
    "eliminamos todos los nan"
   ]
  },
  {
   "cell_type": "code",
   "execution_count": 27,
   "metadata": {},
   "outputs": [],
   "source": [
    "dataframes = [df_2016, df_2017, df_2018, df_2019, df_2020, df_2021]\n",
    "\n",
    "for dataframe in dataframes:\n",
    "    dataframe.drop(dataframe[(dataframe['barrio'].isna())].index, inplace=True)"
   ]
  },
  {
   "cell_type": "markdown",
   "metadata": {},
   "source": [
    "## Comuna"
   ]
  },
  {
   "cell_type": "markdown",
   "metadata": {},
   "source": [
    "los valores van del 1 al 15"
   ]
  },
  {
   "cell_type": "code",
   "execution_count": 28,
   "metadata": {},
   "outputs": [
    {
     "data": {
      "text/plain": [
       "array([ 9., 14.,  4.,  6.,  1.,  3., 10.,  8., 11.,  7.,  2., 12., 13.,\n",
       "        5., 15.])"
      ]
     },
     "metadata": {},
     "output_type": "display_data"
    },
    {
     "data": {
      "text/plain": [
       "array([ 6.,  1.,  4., 14., 11., 13.,  7., 15.,  3.,  9., 12.,  8.,  5.,\n",
       "        2., 10.])"
      ]
     },
     "metadata": {},
     "output_type": "display_data"
    },
    {
     "data": {
      "text/plain": [
       "array([10.,  8., 13.,  4.,  1.,  3., 14., 15.,  2., 12.,  9., 11.,  7.,\n",
       "        5.,  6.])"
      ]
     },
     "metadata": {},
     "output_type": "display_data"
    },
    {
     "data": {
      "text/plain": [
       "array([ 6.,  3.,  1., 11., 15.,  5.,  2., 14., 13., 12.,  8.,  9.,  4.,\n",
       "        7., 10.])"
      ]
     },
     "metadata": {},
     "output_type": "display_data"
    },
    {
     "data": {
      "text/plain": [
       "array([10., 11.,  9., 12., 15.,  8., 13.,  7.,  6., 14.,  5.,  4.,  3.,\n",
       "        2.,  1.])"
      ]
     },
     "metadata": {},
     "output_type": "display_data"
    },
    {
     "data": {
      "text/plain": [
       "array([ 1.,  9.,  7.,  5., 14., 15.,  4.,  6., 12.,  2.,  8., 10.,  3.,\n",
       "       13., 11.])"
      ]
     },
     "metadata": {},
     "output_type": "display_data"
    }
   ],
   "source": [
    "dataframes = [df_2016, df_2017, df_2018, df_2019, df_2020, df_2021]\n",
    "\n",
    "for dataframe in dataframes:\n",
    "    display(dataframe['comuna'].unique())\n",
    "    "
   ]
  },
  {
   "cell_type": "markdown",
   "metadata": {},
   "source": [
    "## ID"
   ]
  },
  {
   "cell_type": "code",
   "execution_count": 29,
   "metadata": {},
   "outputs": [
    {
     "data": {
      "text/plain": [
       "array([ 51585,  83256, 117697, ...,  79693,  81292,  81314], dtype=int64)"
      ]
     },
     "metadata": {},
     "output_type": "display_data"
    },
    {
     "data": {
      "text/plain": [
       "array([178852, 132140, 189963, ..., 243798, 243802, 243801], dtype=int64)"
      ]
     },
     "metadata": {},
     "output_type": "display_data"
    },
    {
     "data": {
      "text/plain": [
       "array([269335, 248498, 248172, ..., 367224, 367223, 360640], dtype=int64)"
      ]
     },
     "metadata": {},
     "output_type": "display_data"
    },
    {
     "data": {
      "text/plain": [
       "array([1038983, 1038986, 1038989, ..., 1038975, 1038977, 1038982],\n",
       "      dtype=int64)"
      ]
     },
     "metadata": {},
     "output_type": "display_data"
    },
    {
     "data": {
      "text/plain": [
       "array(['RH-2020-0000480', 'HD-2020-0001119', 'RH-2020-0001140', ...,\n",
       "       'RH-2020-0684431', 'RH-2021-0004353', 'RH-2020-0684320'],\n",
       "      dtype=object)"
      ]
     },
     "metadata": {},
     "output_type": "display_data"
    },
    {
     "data": {
      "text/plain": [
       "array(['HC-2021-1008202', 'HC-2021-1009094', 'HC-2021-1013236', ...,\n",
       "       'RH-2021-3768589', 'RH-2021-3783716', 'RH-2021-3807019'],\n",
       "      dtype=object)"
      ]
     },
     "metadata": {},
     "output_type": "display_data"
    }
   ],
   "source": [
    "dataframes = [df_2016, df_2017, df_2018, df_2019, df_2020, df_2021]\n",
    "\n",
    "for dataframe in dataframes:\n",
    "    display(dataframe['id'].unique())"
   ]
  },
  {
   "cell_type": "markdown",
   "metadata": {},
   "source": [
    "## Unimos los datasets"
   ]
  },
  {
   "cell_type": "code",
   "execution_count": 30,
   "metadata": {},
   "outputs": [],
   "source": [
    "df = pd.concat([df_2016, df_2017, df_2018, df_2019, df_2020, df_2021])"
   ]
  },
  {
   "cell_type": "code",
   "execution_count": 31,
   "metadata": {},
   "outputs": [
    {
     "data": {
      "text/html": [
       "<div>\n",
       "<style scoped>\n",
       "    .dataframe tbody tr th:only-of-type {\n",
       "        vertical-align: middle;\n",
       "    }\n",
       "\n",
       "    .dataframe tbody tr th {\n",
       "        vertical-align: top;\n",
       "    }\n",
       "\n",
       "    .dataframe thead th {\n",
       "        text-align: right;\n",
       "    }\n",
       "</style>\n",
       "<table border=\"1\" class=\"dataframe\">\n",
       "  <thead>\n",
       "    <tr style=\"text-align: right;\">\n",
       "      <th></th>\n",
       "      <th>id</th>\n",
       "      <th>fecha</th>\n",
       "      <th>franja_horaria</th>\n",
       "      <th>tipo_delito</th>\n",
       "      <th>subtipo_delito</th>\n",
       "      <th>cantidad_registrada</th>\n",
       "      <th>comuna</th>\n",
       "      <th>barrio</th>\n",
       "      <th>lat</th>\n",
       "      <th>long</th>\n",
       "    </tr>\n",
       "  </thead>\n",
       "  <tbody>\n",
       "    <tr>\n",
       "      <th>0</th>\n",
       "      <td>51585</td>\n",
       "      <td>2016-01-01 00:00:00</td>\n",
       "      <td>13</td>\n",
       "      <td>Robo (con violencia)</td>\n",
       "      <td>NaN</td>\n",
       "      <td>1.0</td>\n",
       "      <td>9.0</td>\n",
       "      <td>Parque Avellaneda</td>\n",
       "      <td>-34.64873</td>\n",
       "      <td>-58.468536</td>\n",
       "    </tr>\n",
       "    <tr>\n",
       "      <th>1</th>\n",
       "      <td>83256</td>\n",
       "      <td>2016-01-01 00:00:00</td>\n",
       "      <td>22</td>\n",
       "      <td>Robo (con violencia)</td>\n",
       "      <td>NaN</td>\n",
       "      <td>1.0</td>\n",
       "      <td>14.0</td>\n",
       "      <td>Palermo</td>\n",
       "      <td>-34.576925</td>\n",
       "      <td>-58.4074</td>\n",
       "    </tr>\n",
       "    <tr>\n",
       "      <th>2</th>\n",
       "      <td>117697</td>\n",
       "      <td>2016-01-01 00:00:00</td>\n",
       "      <td>1</td>\n",
       "      <td>Lesiones</td>\n",
       "      <td>Siniestro Vial</td>\n",
       "      <td>1.0</td>\n",
       "      <td>4.0</td>\n",
       "      <td>Parque Patricios</td>\n",
       "      <td>-34.645197</td>\n",
       "      <td>-58.401099</td>\n",
       "    </tr>\n",
       "    <tr>\n",
       "      <th>3</th>\n",
       "      <td>43088</td>\n",
       "      <td>2016-01-01 00:00:00</td>\n",
       "      <td>19</td>\n",
       "      <td>Hurto (sin violencia)</td>\n",
       "      <td>NaN</td>\n",
       "      <td>1.0</td>\n",
       "      <td>9.0</td>\n",
       "      <td>Parque Avellaneda</td>\n",
       "      <td>-34.65576</td>\n",
       "      <td>-58.478681</td>\n",
       "    </tr>\n",
       "    <tr>\n",
       "      <th>4</th>\n",
       "      <td>68588</td>\n",
       "      <td>2016-01-01 00:00:00</td>\n",
       "      <td>4</td>\n",
       "      <td>Robo (con violencia)</td>\n",
       "      <td>Robo Automotor</td>\n",
       "      <td>1.0</td>\n",
       "      <td>6.0</td>\n",
       "      <td>Caballito</td>\n",
       "      <td>-34.624128</td>\n",
       "      <td>-58.436826</td>\n",
       "    </tr>\n",
       "  </tbody>\n",
       "</table>\n",
       "</div>"
      ],
      "text/plain": [
       "       id                fecha franja_horaria            tipo_delito  \\\n",
       "0  51585   2016-01-01 00:00:00  13             Robo (con violencia)    \n",
       "1  83256   2016-01-01 00:00:00  22             Robo (con violencia)    \n",
       "2  117697  2016-01-01 00:00:00  1              Lesiones                \n",
       "3  43088   2016-01-01 00:00:00  19             Hurto (sin violencia)   \n",
       "4  68588   2016-01-01 00:00:00  4              Robo (con violencia)    \n",
       "\n",
       "   subtipo_delito  cantidad_registrada  comuna             barrio        lat  \\\n",
       "0  NaN             1.0                  9.0     Parque Avellaneda -34.64873    \n",
       "1  NaN             1.0                  14.0    Palermo           -34.576925   \n",
       "2  Siniestro Vial  1.0                  4.0     Parque Patricios  -34.645197   \n",
       "3  NaN             1.0                  9.0     Parque Avellaneda -34.65576    \n",
       "4  Robo Automotor  1.0                  6.0     Caballito         -34.624128   \n",
       "\n",
       "        long  \n",
       "0 -58.468536  \n",
       "1 -58.4074    \n",
       "2 -58.401099  \n",
       "3 -58.478681  \n",
       "4 -58.436826  "
      ]
     },
     "execution_count": 31,
     "metadata": {},
     "output_type": "execute_result"
    }
   ],
   "source": [
    "df.head()"
   ]
  },
  {
   "cell_type": "code",
   "execution_count": 32,
   "metadata": {},
   "outputs": [],
   "source": [
    "# Se observan 2 'Villa del Parque', reemplazamos para dejar solo uno\n",
    "df['barrio'] = df['barrio'].replace('Villa Del Parque','Villa del Parque')\n",
    "df['barrio'] = df['barrio'].replace('Boca','La Boca')\n",
    "df['barrio'] = df['barrio'].replace('Paternal','La Paternal')\n",
    "df['barrio'] = df['barrio'].replace('Nueva pompeya','Nueva Pompeya')"
   ]
  },
  {
   "cell_type": "code",
   "execution_count": 33,
   "metadata": {},
   "outputs": [
    {
     "data": {
      "text/plain": [
       "array(['Parque Avellaneda', 'Palermo', 'Parque Patricios', 'Caballito',\n",
       "       'Monserrat', 'Barracas', 'Mataderos', 'Balvanera', 'Constitución',\n",
       "       'Floresta', 'Villa Soldati', 'Villa Devoto', 'Flores', 'La Boca',\n",
       "       'San Cristóbal', 'Recoleta', 'San Nicolás', 'Villa Santa Rita',\n",
       "       'Villa Pueyrredón', 'Monte Castro', 'Liniers', 'Vélez Sársfield',\n",
       "       'Villa Urquiza', 'Versalles', 'Colegiales', 'Retiro',\n",
       "       'Nueva Pompeya', 'Nuñez', 'Boedo', 'San Telmo', 'Almagro',\n",
       "       'Villa Real', 'Villa Luro', 'Coghlan', 'Villa Lugano',\n",
       "       'Villa Gral. Mitre', 'Villa Riachuelo', 'Parque Chacabuco',\n",
       "       'Chacarita', 'Belgrano', 'Villa del Parque', 'Saavedra',\n",
       "       'La Paternal', 'Villa Crespo', 'Villa Ortuzar', 'Parque Chas',\n",
       "       'Agronomía', 'Puerto Madero'], dtype=object)"
      ]
     },
     "execution_count": 33,
     "metadata": {},
     "output_type": "execute_result"
    }
   ],
   "source": [
    "df['barrio'].unique()"
   ]
  },
  {
   "cell_type": "markdown",
   "metadata": {},
   "source": [
    "### Creamos la tabla **COMUNAS**"
   ]
  },
  {
   "cell_type": "code",
   "execution_count": 34,
   "metadata": {},
   "outputs": [],
   "source": [
    "comunas = pd.DataFrame(data={'id_comuna':np.arange(1,16),'nombre_comuna':['Retiro, San Nicolás, Puerto Madero, San Telmo, Monserrat y Constitución',\n",
    "                                                                'Recoleta',\n",
    "                                                                'Balvanera y San Cristóbal',\n",
    "                                                                'La Boca, Barracas, Parque Patricios y Nueva Pompeya',\n",
    "                                                                'Almagro y Boedo',\n",
    "                                                               'Caballito',\n",
    "                                                               'Flores y Parque Chacabuco',\n",
    "                                                               'Villa Soldati, Villa Riachuelo y Villa Lugano',\n",
    "                                                               'Liniers, Mataderos y Parque Avellaneda',\n",
    "                                                               'Villa Real, Monte Castro, Versalles, Floresta, Vélez Sársfield y Villa Luro',\n",
    "                                                               'Villa Gral. Mitre, Villa Devoto, Villa del Parque y Villa Santa Rita',\n",
    "                                                               'Coghlan, Saavedra, Villa Urquiza y Villa Pueyrredón',\n",
    "                                                               'Nuñez, Belgrano y Colegiales',\n",
    "                                                               'Palermo',\n",
    "                                                               'Chacarita, Villa Crespo, La Paternal, Villa Ortuzar, Agronomía y Parque Chas']})"
   ]
  },
  {
   "cell_type": "code",
   "execution_count": 35,
   "metadata": {},
   "outputs": [
    {
     "data": {
      "text/html": [
       "<div>\n",
       "<style scoped>\n",
       "    .dataframe tbody tr th:only-of-type {\n",
       "        vertical-align: middle;\n",
       "    }\n",
       "\n",
       "    .dataframe tbody tr th {\n",
       "        vertical-align: top;\n",
       "    }\n",
       "\n",
       "    .dataframe thead th {\n",
       "        text-align: right;\n",
       "    }\n",
       "</style>\n",
       "<table border=\"1\" class=\"dataframe\">\n",
       "  <thead>\n",
       "    <tr style=\"text-align: right;\">\n",
       "      <th></th>\n",
       "      <th>id_comuna</th>\n",
       "      <th>nombre_comuna</th>\n",
       "    </tr>\n",
       "  </thead>\n",
       "  <tbody>\n",
       "    <tr>\n",
       "      <th>0</th>\n",
       "      <td>1</td>\n",
       "      <td>Retiro, San Nicolás, Puerto Madero, San Telmo, Monserrat y Constitución</td>\n",
       "    </tr>\n",
       "    <tr>\n",
       "      <th>1</th>\n",
       "      <td>2</td>\n",
       "      <td>Recoleta</td>\n",
       "    </tr>\n",
       "    <tr>\n",
       "      <th>2</th>\n",
       "      <td>3</td>\n",
       "      <td>Balvanera y San Cristóbal</td>\n",
       "    </tr>\n",
       "    <tr>\n",
       "      <th>3</th>\n",
       "      <td>4</td>\n",
       "      <td>La Boca, Barracas, Parque Patricios y Nueva Pompeya</td>\n",
       "    </tr>\n",
       "    <tr>\n",
       "      <th>4</th>\n",
       "      <td>5</td>\n",
       "      <td>Almagro y Boedo</td>\n",
       "    </tr>\n",
       "    <tr>\n",
       "      <th>5</th>\n",
       "      <td>6</td>\n",
       "      <td>Caballito</td>\n",
       "    </tr>\n",
       "    <tr>\n",
       "      <th>6</th>\n",
       "      <td>7</td>\n",
       "      <td>Flores y Parque Chacabuco</td>\n",
       "    </tr>\n",
       "    <tr>\n",
       "      <th>7</th>\n",
       "      <td>8</td>\n",
       "      <td>Villa Soldati, Villa Riachuelo y Villa Lugano</td>\n",
       "    </tr>\n",
       "    <tr>\n",
       "      <th>8</th>\n",
       "      <td>9</td>\n",
       "      <td>Liniers, Mataderos y Parque Avellaneda</td>\n",
       "    </tr>\n",
       "    <tr>\n",
       "      <th>9</th>\n",
       "      <td>10</td>\n",
       "      <td>Villa Real, Monte Castro, Versalles, Floresta, Vélez Sársfield y Villa Luro</td>\n",
       "    </tr>\n",
       "    <tr>\n",
       "      <th>10</th>\n",
       "      <td>11</td>\n",
       "      <td>Villa Gral. Mitre, Villa Devoto, Villa del Parque y Villa Santa Rita</td>\n",
       "    </tr>\n",
       "    <tr>\n",
       "      <th>11</th>\n",
       "      <td>12</td>\n",
       "      <td>Coghlan, Saavedra, Villa Urquiza y Villa Pueyrredón</td>\n",
       "    </tr>\n",
       "    <tr>\n",
       "      <th>12</th>\n",
       "      <td>13</td>\n",
       "      <td>Nuñez, Belgrano y Colegiales</td>\n",
       "    </tr>\n",
       "    <tr>\n",
       "      <th>13</th>\n",
       "      <td>14</td>\n",
       "      <td>Palermo</td>\n",
       "    </tr>\n",
       "    <tr>\n",
       "      <th>14</th>\n",
       "      <td>15</td>\n",
       "      <td>Chacarita, Villa Crespo, La Paternal, Villa Ortuzar, Agronomía y Parque Chas</td>\n",
       "    </tr>\n",
       "  </tbody>\n",
       "</table>\n",
       "</div>"
      ],
      "text/plain": [
       "    id_comuna  \\\n",
       "0   1           \n",
       "1   2           \n",
       "2   3           \n",
       "3   4           \n",
       "4   5           \n",
       "5   6           \n",
       "6   7           \n",
       "7   8           \n",
       "8   9           \n",
       "9   10          \n",
       "10  11          \n",
       "11  12          \n",
       "12  13          \n",
       "13  14          \n",
       "14  15          \n",
       "\n",
       "                                                                   nombre_comuna  \n",
       "0   Retiro, San Nicolás, Puerto Madero, San Telmo, Monserrat y Constitución       \n",
       "1   Recoleta                                                                      \n",
       "2   Balvanera y San Cristóbal                                                     \n",
       "3   La Boca, Barracas, Parque Patricios y Nueva Pompeya                           \n",
       "4   Almagro y Boedo                                                               \n",
       "5   Caballito                                                                     \n",
       "6   Flores y Parque Chacabuco                                                     \n",
       "7   Villa Soldati, Villa Riachuelo y Villa Lugano                                 \n",
       "8   Liniers, Mataderos y Parque Avellaneda                                        \n",
       "9   Villa Real, Monte Castro, Versalles, Floresta, Vélez Sársfield y Villa Luro   \n",
       "10  Villa Gral. Mitre, Villa Devoto, Villa del Parque y Villa Santa Rita          \n",
       "11  Coghlan, Saavedra, Villa Urquiza y Villa Pueyrredón                           \n",
       "12  Nuñez, Belgrano y Colegiales                                                  \n",
       "13  Palermo                                                                       \n",
       "14  Chacarita, Villa Crespo, La Paternal, Villa Ortuzar, Agronomía y Parque Chas  "
      ]
     },
     "execution_count": 35,
     "metadata": {},
     "output_type": "execute_result"
    }
   ],
   "source": [
    "comunas"
   ]
  },
  {
   "cell_type": "markdown",
   "metadata": {},
   "source": [
    "### Creamos tabla **BARRIOS**"
   ]
  },
  {
   "cell_type": "code",
   "execution_count": 36,
   "metadata": {},
   "outputs": [
    {
     "data": {
      "text/plain": [
       "array(['Parque Avellaneda', 'Palermo', 'Parque Patricios', 'Caballito',\n",
       "       'Monserrat', 'Barracas', 'Mataderos', 'Balvanera', 'Constitución',\n",
       "       'Floresta', 'Villa Soldati', 'Villa Devoto', 'Flores', 'La Boca',\n",
       "       'San Cristóbal', 'Recoleta', 'San Nicolás', 'Villa Santa Rita',\n",
       "       'Villa Pueyrredón', 'Monte Castro', 'Liniers', 'Vélez Sársfield',\n",
       "       'Villa Urquiza', 'Versalles', 'Colegiales', 'Retiro',\n",
       "       'Nueva Pompeya', 'Nuñez', 'Boedo', 'San Telmo', 'Almagro',\n",
       "       'Villa Real', 'Villa Luro', 'Coghlan', 'Villa Lugano',\n",
       "       'Villa Gral. Mitre', 'Villa Riachuelo', 'Parque Chacabuco',\n",
       "       'Chacarita', 'Belgrano', 'Villa del Parque', 'Saavedra',\n",
       "       'La Paternal', 'Villa Crespo', 'Villa Ortuzar', 'Parque Chas',\n",
       "       'Agronomía', 'Puerto Madero'], dtype=object)"
      ]
     },
     "execution_count": 36,
     "metadata": {},
     "output_type": "execute_result"
    }
   ],
   "source": [
    "df['barrio'].unique()"
   ]
  },
  {
   "cell_type": "code",
   "execution_count": 37,
   "metadata": {},
   "outputs": [],
   "source": [
    "lista_barrios = df['barrio'].unique().tolist()\n",
    "\n",
    "barrios = pd.DataFrame(data={'id_barrio':np.arange(1,49),'nombre_barrio':lista_barrios})"
   ]
  },
  {
   "cell_type": "code",
   "execution_count": 38,
   "metadata": {},
   "outputs": [],
   "source": [
    "barrios['id_comuna'] =\"\"\n",
    "\n",
    "for barrio in lista_barrios:\n",
    "    for comuna in comunas['nombre_comuna']:\n",
    "        if barrio in comuna:\n",
    "            value = comunas.loc[comunas['nombre_comuna'] == comuna]['id_comuna'].values[0]\n",
    "            barrios.loc[barrios['nombre_barrio'] == barrio, 'id_comuna'] = value\n"
   ]
  },
  {
   "cell_type": "code",
   "execution_count": 39,
   "metadata": {},
   "outputs": [
    {
     "data": {
      "text/html": [
       "<div>\n",
       "<style scoped>\n",
       "    .dataframe tbody tr th:only-of-type {\n",
       "        vertical-align: middle;\n",
       "    }\n",
       "\n",
       "    .dataframe tbody tr th {\n",
       "        vertical-align: top;\n",
       "    }\n",
       "\n",
       "    .dataframe thead th {\n",
       "        text-align: right;\n",
       "    }\n",
       "</style>\n",
       "<table border=\"1\" class=\"dataframe\">\n",
       "  <thead>\n",
       "    <tr style=\"text-align: right;\">\n",
       "      <th></th>\n",
       "      <th>id_barrio</th>\n",
       "      <th>nombre_barrio</th>\n",
       "      <th>id_comuna</th>\n",
       "    </tr>\n",
       "  </thead>\n",
       "  <tbody>\n",
       "    <tr>\n",
       "      <th>0</th>\n",
       "      <td>1</td>\n",
       "      <td>Parque Avellaneda</td>\n",
       "      <td>9</td>\n",
       "    </tr>\n",
       "    <tr>\n",
       "      <th>1</th>\n",
       "      <td>2</td>\n",
       "      <td>Palermo</td>\n",
       "      <td>14</td>\n",
       "    </tr>\n",
       "    <tr>\n",
       "      <th>2</th>\n",
       "      <td>3</td>\n",
       "      <td>Parque Patricios</td>\n",
       "      <td>4</td>\n",
       "    </tr>\n",
       "    <tr>\n",
       "      <th>3</th>\n",
       "      <td>4</td>\n",
       "      <td>Caballito</td>\n",
       "      <td>6</td>\n",
       "    </tr>\n",
       "    <tr>\n",
       "      <th>4</th>\n",
       "      <td>5</td>\n",
       "      <td>Monserrat</td>\n",
       "      <td>1</td>\n",
       "    </tr>\n",
       "    <tr>\n",
       "      <th>5</th>\n",
       "      <td>6</td>\n",
       "      <td>Barracas</td>\n",
       "      <td>4</td>\n",
       "    </tr>\n",
       "    <tr>\n",
       "      <th>6</th>\n",
       "      <td>7</td>\n",
       "      <td>Mataderos</td>\n",
       "      <td>9</td>\n",
       "    </tr>\n",
       "    <tr>\n",
       "      <th>7</th>\n",
       "      <td>8</td>\n",
       "      <td>Balvanera</td>\n",
       "      <td>3</td>\n",
       "    </tr>\n",
       "    <tr>\n",
       "      <th>8</th>\n",
       "      <td>9</td>\n",
       "      <td>Constitución</td>\n",
       "      <td>1</td>\n",
       "    </tr>\n",
       "    <tr>\n",
       "      <th>9</th>\n",
       "      <td>10</td>\n",
       "      <td>Floresta</td>\n",
       "      <td>10</td>\n",
       "    </tr>\n",
       "    <tr>\n",
       "      <th>10</th>\n",
       "      <td>11</td>\n",
       "      <td>Villa Soldati</td>\n",
       "      <td>8</td>\n",
       "    </tr>\n",
       "    <tr>\n",
       "      <th>11</th>\n",
       "      <td>12</td>\n",
       "      <td>Villa Devoto</td>\n",
       "      <td>11</td>\n",
       "    </tr>\n",
       "    <tr>\n",
       "      <th>12</th>\n",
       "      <td>13</td>\n",
       "      <td>Flores</td>\n",
       "      <td>10</td>\n",
       "    </tr>\n",
       "    <tr>\n",
       "      <th>13</th>\n",
       "      <td>14</td>\n",
       "      <td>La Boca</td>\n",
       "      <td>4</td>\n",
       "    </tr>\n",
       "    <tr>\n",
       "      <th>14</th>\n",
       "      <td>15</td>\n",
       "      <td>San Cristóbal</td>\n",
       "      <td>3</td>\n",
       "    </tr>\n",
       "    <tr>\n",
       "      <th>15</th>\n",
       "      <td>16</td>\n",
       "      <td>Recoleta</td>\n",
       "      <td>2</td>\n",
       "    </tr>\n",
       "    <tr>\n",
       "      <th>16</th>\n",
       "      <td>17</td>\n",
       "      <td>San Nicolás</td>\n",
       "      <td>1</td>\n",
       "    </tr>\n",
       "    <tr>\n",
       "      <th>17</th>\n",
       "      <td>18</td>\n",
       "      <td>Villa Santa Rita</td>\n",
       "      <td>11</td>\n",
       "    </tr>\n",
       "    <tr>\n",
       "      <th>18</th>\n",
       "      <td>19</td>\n",
       "      <td>Villa Pueyrredón</td>\n",
       "      <td>12</td>\n",
       "    </tr>\n",
       "    <tr>\n",
       "      <th>19</th>\n",
       "      <td>20</td>\n",
       "      <td>Monte Castro</td>\n",
       "      <td>10</td>\n",
       "    </tr>\n",
       "    <tr>\n",
       "      <th>20</th>\n",
       "      <td>21</td>\n",
       "      <td>Liniers</td>\n",
       "      <td>9</td>\n",
       "    </tr>\n",
       "    <tr>\n",
       "      <th>21</th>\n",
       "      <td>22</td>\n",
       "      <td>Vélez Sársfield</td>\n",
       "      <td>10</td>\n",
       "    </tr>\n",
       "    <tr>\n",
       "      <th>22</th>\n",
       "      <td>23</td>\n",
       "      <td>Villa Urquiza</td>\n",
       "      <td>12</td>\n",
       "    </tr>\n",
       "    <tr>\n",
       "      <th>23</th>\n",
       "      <td>24</td>\n",
       "      <td>Versalles</td>\n",
       "      <td>10</td>\n",
       "    </tr>\n",
       "    <tr>\n",
       "      <th>24</th>\n",
       "      <td>25</td>\n",
       "      <td>Colegiales</td>\n",
       "      <td>13</td>\n",
       "    </tr>\n",
       "    <tr>\n",
       "      <th>25</th>\n",
       "      <td>26</td>\n",
       "      <td>Retiro</td>\n",
       "      <td>1</td>\n",
       "    </tr>\n",
       "    <tr>\n",
       "      <th>26</th>\n",
       "      <td>27</td>\n",
       "      <td>Nueva Pompeya</td>\n",
       "      <td>4</td>\n",
       "    </tr>\n",
       "    <tr>\n",
       "      <th>27</th>\n",
       "      <td>28</td>\n",
       "      <td>Nuñez</td>\n",
       "      <td>13</td>\n",
       "    </tr>\n",
       "    <tr>\n",
       "      <th>28</th>\n",
       "      <td>29</td>\n",
       "      <td>Boedo</td>\n",
       "      <td>5</td>\n",
       "    </tr>\n",
       "    <tr>\n",
       "      <th>29</th>\n",
       "      <td>30</td>\n",
       "      <td>San Telmo</td>\n",
       "      <td>1</td>\n",
       "    </tr>\n",
       "    <tr>\n",
       "      <th>30</th>\n",
       "      <td>31</td>\n",
       "      <td>Almagro</td>\n",
       "      <td>5</td>\n",
       "    </tr>\n",
       "    <tr>\n",
       "      <th>31</th>\n",
       "      <td>32</td>\n",
       "      <td>Villa Real</td>\n",
       "      <td>10</td>\n",
       "    </tr>\n",
       "    <tr>\n",
       "      <th>32</th>\n",
       "      <td>33</td>\n",
       "      <td>Villa Luro</td>\n",
       "      <td>10</td>\n",
       "    </tr>\n",
       "    <tr>\n",
       "      <th>33</th>\n",
       "      <td>34</td>\n",
       "      <td>Coghlan</td>\n",
       "      <td>12</td>\n",
       "    </tr>\n",
       "    <tr>\n",
       "      <th>34</th>\n",
       "      <td>35</td>\n",
       "      <td>Villa Lugano</td>\n",
       "      <td>8</td>\n",
       "    </tr>\n",
       "    <tr>\n",
       "      <th>35</th>\n",
       "      <td>36</td>\n",
       "      <td>Villa Gral. Mitre</td>\n",
       "      <td>11</td>\n",
       "    </tr>\n",
       "    <tr>\n",
       "      <th>36</th>\n",
       "      <td>37</td>\n",
       "      <td>Villa Riachuelo</td>\n",
       "      <td>8</td>\n",
       "    </tr>\n",
       "    <tr>\n",
       "      <th>37</th>\n",
       "      <td>38</td>\n",
       "      <td>Parque Chacabuco</td>\n",
       "      <td>7</td>\n",
       "    </tr>\n",
       "    <tr>\n",
       "      <th>38</th>\n",
       "      <td>39</td>\n",
       "      <td>Chacarita</td>\n",
       "      <td>15</td>\n",
       "    </tr>\n",
       "    <tr>\n",
       "      <th>39</th>\n",
       "      <td>40</td>\n",
       "      <td>Belgrano</td>\n",
       "      <td>13</td>\n",
       "    </tr>\n",
       "    <tr>\n",
       "      <th>40</th>\n",
       "      <td>41</td>\n",
       "      <td>Villa del Parque</td>\n",
       "      <td>11</td>\n",
       "    </tr>\n",
       "    <tr>\n",
       "      <th>41</th>\n",
       "      <td>42</td>\n",
       "      <td>Saavedra</td>\n",
       "      <td>12</td>\n",
       "    </tr>\n",
       "    <tr>\n",
       "      <th>42</th>\n",
       "      <td>43</td>\n",
       "      <td>La Paternal</td>\n",
       "      <td>15</td>\n",
       "    </tr>\n",
       "    <tr>\n",
       "      <th>43</th>\n",
       "      <td>44</td>\n",
       "      <td>Villa Crespo</td>\n",
       "      <td>15</td>\n",
       "    </tr>\n",
       "    <tr>\n",
       "      <th>44</th>\n",
       "      <td>45</td>\n",
       "      <td>Villa Ortuzar</td>\n",
       "      <td>15</td>\n",
       "    </tr>\n",
       "    <tr>\n",
       "      <th>45</th>\n",
       "      <td>46</td>\n",
       "      <td>Parque Chas</td>\n",
       "      <td>15</td>\n",
       "    </tr>\n",
       "    <tr>\n",
       "      <th>46</th>\n",
       "      <td>47</td>\n",
       "      <td>Agronomía</td>\n",
       "      <td>15</td>\n",
       "    </tr>\n",
       "    <tr>\n",
       "      <th>47</th>\n",
       "      <td>48</td>\n",
       "      <td>Puerto Madero</td>\n",
       "      <td>1</td>\n",
       "    </tr>\n",
       "  </tbody>\n",
       "</table>\n",
       "</div>"
      ],
      "text/plain": [
       "    id_barrio      nombre_barrio id_comuna\n",
       "0   1          Parque Avellaneda  9       \n",
       "1   2          Palermo            14      \n",
       "2   3          Parque Patricios   4       \n",
       "3   4          Caballito          6       \n",
       "4   5          Monserrat          1       \n",
       "5   6          Barracas           4       \n",
       "6   7          Mataderos          9       \n",
       "7   8          Balvanera          3       \n",
       "8   9          Constitución       1       \n",
       "9   10         Floresta           10      \n",
       "10  11         Villa Soldati      8       \n",
       "11  12         Villa Devoto       11      \n",
       "12  13         Flores             10      \n",
       "13  14         La Boca            4       \n",
       "14  15         San Cristóbal      3       \n",
       "15  16         Recoleta           2       \n",
       "16  17         San Nicolás        1       \n",
       "17  18         Villa Santa Rita   11      \n",
       "18  19         Villa Pueyrredón   12      \n",
       "19  20         Monte Castro       10      \n",
       "20  21         Liniers            9       \n",
       "21  22         Vélez Sársfield    10      \n",
       "22  23         Villa Urquiza      12      \n",
       "23  24         Versalles          10      \n",
       "24  25         Colegiales         13      \n",
       "25  26         Retiro             1       \n",
       "26  27         Nueva Pompeya      4       \n",
       "27  28         Nuñez              13      \n",
       "28  29         Boedo              5       \n",
       "29  30         San Telmo          1       \n",
       "30  31         Almagro            5       \n",
       "31  32         Villa Real         10      \n",
       "32  33         Villa Luro         10      \n",
       "33  34         Coghlan            12      \n",
       "34  35         Villa Lugano       8       \n",
       "35  36         Villa Gral. Mitre  11      \n",
       "36  37         Villa Riachuelo    8       \n",
       "37  38         Parque Chacabuco   7       \n",
       "38  39         Chacarita          15      \n",
       "39  40         Belgrano           13      \n",
       "40  41         Villa del Parque   11      \n",
       "41  42         Saavedra           12      \n",
       "42  43         La Paternal        15      \n",
       "43  44         Villa Crespo       15      \n",
       "44  45         Villa Ortuzar      15      \n",
       "45  46         Parque Chas        15      \n",
       "46  47         Agronomía          15      \n",
       "47  48         Puerto Madero      1       "
      ]
     },
     "execution_count": 39,
     "metadata": {},
     "output_type": "execute_result"
    }
   ],
   "source": [
    "barrios"
   ]
  },
  {
   "cell_type": "markdown",
   "metadata": {},
   "source": [
    "### Creamos tabla **TIPO DELITO**"
   ]
  },
  {
   "cell_type": "code",
   "execution_count": 40,
   "metadata": {},
   "outputs": [
    {
     "data": {
      "text/html": [
       "<div>\n",
       "<style scoped>\n",
       "    .dataframe tbody tr th:only-of-type {\n",
       "        vertical-align: middle;\n",
       "    }\n",
       "\n",
       "    .dataframe tbody tr th {\n",
       "        vertical-align: top;\n",
       "    }\n",
       "\n",
       "    .dataframe thead th {\n",
       "        text-align: right;\n",
       "    }\n",
       "</style>\n",
       "<table border=\"1\" class=\"dataframe\">\n",
       "  <thead>\n",
       "    <tr style=\"text-align: right;\">\n",
       "      <th></th>\n",
       "      <th>tipo_delito</th>\n",
       "      <th>subtipo_delito</th>\n",
       "    </tr>\n",
       "  </thead>\n",
       "  <tbody>\n",
       "    <tr>\n",
       "      <th>0</th>\n",
       "      <td>Homicidio</td>\n",
       "      <td>[Doloso, Siniestro Vial]</td>\n",
       "    </tr>\n",
       "    <tr>\n",
       "      <th>1</th>\n",
       "      <td>Hurto (sin violencia)</td>\n",
       "      <td>[nan, Hurto Automotor]</td>\n",
       "    </tr>\n",
       "    <tr>\n",
       "      <th>2</th>\n",
       "      <td>Lesiones</td>\n",
       "      <td>[Siniestro Vial]</td>\n",
       "    </tr>\n",
       "    <tr>\n",
       "      <th>3</th>\n",
       "      <td>Robo (con violencia)</td>\n",
       "      <td>[nan, Robo Automotor]</td>\n",
       "    </tr>\n",
       "  </tbody>\n",
       "</table>\n",
       "</div>"
      ],
      "text/plain": [
       "             tipo_delito            subtipo_delito\n",
       "0  Homicidio              [Doloso, Siniestro Vial]\n",
       "1  Hurto (sin violencia)  [nan, Hurto Automotor]  \n",
       "2  Lesiones               [Siniestro Vial]        \n",
       "3  Robo (con violencia)   [nan, Robo Automotor]   "
      ]
     },
     "execution_count": 40,
     "metadata": {},
     "output_type": "execute_result"
    }
   ],
   "source": [
    "df.groupby(['tipo_delito']).agg({'subtipo_delito':'unique'}).reset_index()"
   ]
  },
  {
   "cell_type": "markdown",
   "metadata": {},
   "source": [
    "Para la tabla tipo delito unificamos las columnas 'tipo delito' y 'subtipo delito' creando una columna llamada delito que luego sera una tabla"
   ]
  },
  {
   "cell_type": "code",
   "execution_count": 41,
   "metadata": {},
   "outputs": [],
   "source": [
    "df['delito'] = \"\"\n",
    "\n",
    "df.loc[(df['tipo_delito'] == 'Homicidio')&(df['subtipo_delito'] == 'Doloso'), 'delito'] = 'Homicidio Doloso'\n",
    "df.loc[(df['tipo_delito'] == 'Homicidio')&(df['subtipo_delito'] == 'Siniestro Vial'), 'delito'] = 'Homicidio Siniestro Vial'\n",
    "df.loc[(df['tipo_delito'] == 'Hurto (sin violencia)')&(df['subtipo_delito'].isna()), 'delito'] = 'Hurto'\n",
    "df.loc[(df['tipo_delito'] == 'Hurto (sin violencia)')&(df['subtipo_delito']== 'Hurto Automotor'), 'delito'] = 'Hurto Automotor'\n",
    "df.loc[(df['tipo_delito'] == 'Lesiones')&(df['subtipo_delito']== 'Siniestro Vial'), 'delito'] = 'Lesiones Siniestro Vial'\n",
    "df.loc[(df['tipo_delito'] == 'Robo (con violencia)')&(df['subtipo_delito'].isna()), 'delito'] = 'Robo'\n",
    "df.loc[(df['tipo_delito'] == 'Robo (con violencia)')&(df['subtipo_delito']=='Robo Automotor'), 'delito'] = 'Robo Automotor'"
   ]
  },
  {
   "cell_type": "code",
   "execution_count": 42,
   "metadata": {},
   "outputs": [
    {
     "data": {
      "text/plain": [
       "array(['Robo', 'Lesiones Siniestro Vial', 'Hurto', 'Robo Automotor',\n",
       "       'Hurto Automotor', 'Homicidio Doloso', 'Homicidio Siniestro Vial'],\n",
       "      dtype=object)"
      ]
     },
     "execution_count": 42,
     "metadata": {},
     "output_type": "execute_result"
    }
   ],
   "source": [
    "df['delito'].unique()"
   ]
  },
  {
   "cell_type": "code",
   "execution_count": 43,
   "metadata": {},
   "outputs": [],
   "source": [
    "delitos = pd.DataFrame(data={'id_delito':np.arange(1,8),\n",
    "                             'nombre_delito':['Robo', 'Lesiones Siniestro Vial', 'Hurto', 'Robo Automotor',\n",
    "                             'Hurto Automotor', 'Homicidio Doloso', 'Homicidio Siniestro Vial'],\n",
    "                             'descripcion_delito':['Apoderarse ilegítimamente de un bien ajeno, a través de la fuerza en las cosas o violencia en las personas',\n",
    "                                                    'Siniestro vial, cuya víctima resulta en lesiones (y no resulte fallecida en el acto o hasta 30 días después del hecho)',\n",
    "                                                    'Apoderarse ilegítimamente de un bien ajeno, sin el uso de fuerza en las cosas o violencia en las personas',\n",
    "                                                    'Apoderarse de un vehículo (rodado) completo, con motor y 4 o más ruedas; a través de la fuerza en las cosas o violencia en las personas',\n",
    "                                                    'Apoderarse de un vehículo (rodado) completo, con motor y 4 o más ruedas; sin el uso de fuerza en las cosas o violencia en las personas',\n",
    "                                                    'Muerte violenta según art. 79 C.P',\n",
    "                                                    'Siniestro víal cuya victima resulta en fallecimiento (en el acto o hasta 30 días después del hecho)']})\n",
    "                                                                                            "
   ]
  },
  {
   "cell_type": "code",
   "execution_count": 44,
   "metadata": {},
   "outputs": [
    {
     "data": {
      "text/html": [
       "<div>\n",
       "<style scoped>\n",
       "    .dataframe tbody tr th:only-of-type {\n",
       "        vertical-align: middle;\n",
       "    }\n",
       "\n",
       "    .dataframe tbody tr th {\n",
       "        vertical-align: top;\n",
       "    }\n",
       "\n",
       "    .dataframe thead th {\n",
       "        text-align: right;\n",
       "    }\n",
       "</style>\n",
       "<table border=\"1\" class=\"dataframe\">\n",
       "  <thead>\n",
       "    <tr style=\"text-align: right;\">\n",
       "      <th></th>\n",
       "      <th>id_delito</th>\n",
       "      <th>nombre_delito</th>\n",
       "      <th>descripcion_delito</th>\n",
       "    </tr>\n",
       "  </thead>\n",
       "  <tbody>\n",
       "    <tr>\n",
       "      <th>0</th>\n",
       "      <td>1</td>\n",
       "      <td>Robo</td>\n",
       "      <td>Apoderarse ilegítimamente de un bien ajeno, a través de la fuerza en las cosas o violencia en las personas</td>\n",
       "    </tr>\n",
       "    <tr>\n",
       "      <th>1</th>\n",
       "      <td>2</td>\n",
       "      <td>Lesiones Siniestro Vial</td>\n",
       "      <td>Siniestro vial, cuya víctima resulta en lesiones (y no resulte fallecida en el acto o hasta 30 días después del hecho)</td>\n",
       "    </tr>\n",
       "    <tr>\n",
       "      <th>2</th>\n",
       "      <td>3</td>\n",
       "      <td>Hurto</td>\n",
       "      <td>Apoderarse ilegítimamente de un bien ajeno, sin el uso de fuerza en las cosas o violencia en las personas</td>\n",
       "    </tr>\n",
       "    <tr>\n",
       "      <th>3</th>\n",
       "      <td>4</td>\n",
       "      <td>Robo Automotor</td>\n",
       "      <td>Apoderarse de un vehículo (rodado) completo, con motor y 4 o más ruedas; a través de la fuerza en las cosas o violencia en las personas</td>\n",
       "    </tr>\n",
       "    <tr>\n",
       "      <th>4</th>\n",
       "      <td>5</td>\n",
       "      <td>Hurto Automotor</td>\n",
       "      <td>Apoderarse de un vehículo (rodado) completo, con motor y 4 o más ruedas; sin el uso de fuerza en las cosas o violencia en las personas</td>\n",
       "    </tr>\n",
       "    <tr>\n",
       "      <th>5</th>\n",
       "      <td>6</td>\n",
       "      <td>Homicidio Doloso</td>\n",
       "      <td>Muerte violenta según art. 79 C.P</td>\n",
       "    </tr>\n",
       "    <tr>\n",
       "      <th>6</th>\n",
       "      <td>7</td>\n",
       "      <td>Homicidio Siniestro Vial</td>\n",
       "      <td>Siniestro víal cuya victima resulta en fallecimiento (en el acto o hasta 30 días después del hecho)</td>\n",
       "    </tr>\n",
       "  </tbody>\n",
       "</table>\n",
       "</div>"
      ],
      "text/plain": [
       "   id_delito             nombre_delito  \\\n",
       "0  1          Robo                       \n",
       "1  2          Lesiones Siniestro Vial    \n",
       "2  3          Hurto                      \n",
       "3  4          Robo Automotor             \n",
       "4  5          Hurto Automotor            \n",
       "5  6          Homicidio Doloso           \n",
       "6  7          Homicidio Siniestro Vial   \n",
       "\n",
       "                                                                                                                        descripcion_delito  \n",
       "0  Apoderarse ilegítimamente de un bien ajeno, a través de la fuerza en las cosas o violencia en las personas                               \n",
       "1  Siniestro vial, cuya víctima resulta en lesiones (y no resulte fallecida en el acto o hasta 30 días después del hecho)                   \n",
       "2  Apoderarse ilegítimamente de un bien ajeno, sin el uso de fuerza en las cosas o violencia en las personas                                \n",
       "3  Apoderarse de un vehículo (rodado) completo, con motor y 4 o más ruedas; a través de la fuerza en las cosas o violencia en las personas  \n",
       "4  Apoderarse de un vehículo (rodado) completo, con motor y 4 o más ruedas; sin el uso de fuerza en las cosas o violencia en las personas   \n",
       "5  Muerte violenta según art. 79 C.P                                                                                                        \n",
       "6  Siniestro víal cuya victima resulta en fallecimiento (en el acto o hasta 30 días después del hecho)                                      "
      ]
     },
     "execution_count": 44,
     "metadata": {},
     "output_type": "execute_result"
    }
   ],
   "source": [
    "delitos"
   ]
  },
  {
   "cell_type": "markdown",
   "metadata": {},
   "source": [
    "### Fecha"
   ]
  },
  {
   "cell_type": "code",
   "execution_count": 45,
   "metadata": {},
   "outputs": [],
   "source": [
    "df['fecha'] = pd.to_datetime(df['fecha'], format='%Y-%m-%d')"
   ]
  },
  {
   "cell_type": "markdown",
   "metadata": {},
   "source": [
    "## Datasets Finales"
   ]
  },
  {
   "cell_type": "markdown",
   "metadata": {},
   "source": [
    "Los dataset finales son 5:\n",
    "- main\n",
    "- barrios\n",
    "- delitos\n",
    "- comunas\n",
    "- fecha"
   ]
  },
  {
   "cell_type": "code",
   "execution_count": 46,
   "metadata": {},
   "outputs": [],
   "source": [
    "main = df.copy()"
   ]
  },
  {
   "cell_type": "code",
   "execution_count": 47,
   "metadata": {},
   "outputs": [],
   "source": [
    "main.drop(columns=['tipo_delito','subtipo_delito','cantidad_registrada'],inplace=True)"
   ]
  },
  {
   "cell_type": "code",
   "execution_count": 48,
   "metadata": {},
   "outputs": [],
   "source": [
    "main.rename(columns={'id':'id_legajo'},inplace=True)"
   ]
  },
  {
   "cell_type": "code",
   "execution_count": 50,
   "metadata": {},
   "outputs": [],
   "source": [
    "main['id_legajo'] = main['id_legajo'].astype(str)\n",
    "main['comuna'] = main['comuna'].astype(str)\n"
   ]
  },
  {
   "cell_type": "markdown",
   "metadata": {},
   "source": [
    "### Duplicados"
   ]
  },
  {
   "cell_type": "markdown",
   "metadata": {},
   "source": [
    "Ya teniendo las tablas casi listas. chequeremos si hay duplicados y procederemos a lidiar con ellos"
   ]
  },
  {
   "cell_type": "code",
   "execution_count": 51,
   "metadata": {},
   "outputs": [
    {
     "data": {
      "text/plain": [
       "2"
      ]
     },
     "execution_count": 51,
     "metadata": {},
     "output_type": "execute_result"
    }
   ],
   "source": [
    "main.duplicated().nunique()"
   ]
  },
  {
   "cell_type": "code",
   "execution_count": 52,
   "metadata": {},
   "outputs": [],
   "source": [
    "main_no_duplicates = main.copy().drop_duplicates(keep='first')"
   ]
  },
  {
   "cell_type": "markdown",
   "metadata": {},
   "source": [
    "Se econtraron 2 filas repetidas y se elimino una de ellas."
   ]
  },
  {
   "cell_type": "code",
   "execution_count": 53,
   "metadata": {},
   "outputs": [
    {
     "data": {
      "text/plain": [
       "(42, 8)"
      ]
     },
     "execution_count": 53,
     "metadata": {},
     "output_type": "execute_result"
    }
   ],
   "source": [
    "main_no_duplicates[main_no_duplicates.duplicated(['id_legajo'],keep=False)].shape"
   ]
  },
  {
   "cell_type": "markdown",
   "metadata": {},
   "source": [
    "Hay 21 legajos duplicados. No los eliminaremos sino que agregaremos prefijos a los id_legajo para mantener toda la data."
   ]
  },
  {
   "cell_type": "code",
   "execution_count": 54,
   "metadata": {},
   "outputs": [],
   "source": [
    "nth = ['1-', '2-', '3-', '4-','5-','6-']\n",
    "\n",
    "def prefix(d):\n",
    "    n = len(d)\n",
    "    if n > 1:\n",
    "        return d.radd([nth[i] for i in range(n)])\n",
    "    else:\n",
    "        return d\n",
    "\n",
    "main_no_duplicates = main_no_duplicates.assign(id_legajo=main_no_duplicates.groupby('id_legajo').id_legajo.transform(prefix))"
   ]
  },
  {
   "cell_type": "code",
   "execution_count": 55,
   "metadata": {},
   "outputs": [
    {
     "data": {
      "text/html": [
       "<div>\n",
       "<style scoped>\n",
       "    .dataframe tbody tr th:only-of-type {\n",
       "        vertical-align: middle;\n",
       "    }\n",
       "\n",
       "    .dataframe tbody tr th {\n",
       "        vertical-align: top;\n",
       "    }\n",
       "\n",
       "    .dataframe thead th {\n",
       "        text-align: right;\n",
       "    }\n",
       "</style>\n",
       "<table border=\"1\" class=\"dataframe\">\n",
       "  <thead>\n",
       "    <tr style=\"text-align: right;\">\n",
       "      <th></th>\n",
       "      <th>id_legajo</th>\n",
       "      <th>fecha</th>\n",
       "      <th>franja_horaria</th>\n",
       "      <th>comuna</th>\n",
       "      <th>barrio</th>\n",
       "      <th>lat</th>\n",
       "      <th>long</th>\n",
       "      <th>delito</th>\n",
       "    </tr>\n",
       "  </thead>\n",
       "  <tbody>\n",
       "  </tbody>\n",
       "</table>\n",
       "</div>"
      ],
      "text/plain": [
       "Empty DataFrame\n",
       "Columns: [id_legajo, fecha, franja_horaria, comuna, barrio, lat, long, delito]\n",
       "Index: []"
      ]
     },
     "execution_count": 55,
     "metadata": {},
     "output_type": "execute_result"
    }
   ],
   "source": [
    "# comprobamos que no haya legajos duplicados\n",
    "main_no_duplicates[main_no_duplicates.duplicated(['id_legajo'],keep=False)].head()"
   ]
  },
  {
   "cell_type": "markdown",
   "metadata": {},
   "source": [
    "## Armado de base de datos relacional"
   ]
  },
  {
   "cell_type": "markdown",
   "metadata": {},
   "source": [
    "Procedemos a armar las tablas de manera que esten relacionadas con sus PK y FK correspondientes"
   ]
  },
  {
   "cell_type": "code",
   "execution_count": 56,
   "metadata": {},
   "outputs": [
    {
     "data": {
      "text/html": [
       "<div>\n",
       "<style scoped>\n",
       "    .dataframe tbody tr th:only-of-type {\n",
       "        vertical-align: middle;\n",
       "    }\n",
       "\n",
       "    .dataframe tbody tr th {\n",
       "        vertical-align: top;\n",
       "    }\n",
       "\n",
       "    .dataframe thead th {\n",
       "        text-align: right;\n",
       "    }\n",
       "</style>\n",
       "<table border=\"1\" class=\"dataframe\">\n",
       "  <thead>\n",
       "    <tr style=\"text-align: right;\">\n",
       "      <th></th>\n",
       "      <th>id_barrio</th>\n",
       "      <th>nombre_barrio</th>\n",
       "      <th>id_comuna</th>\n",
       "    </tr>\n",
       "  </thead>\n",
       "  <tbody>\n",
       "    <tr>\n",
       "      <th>0</th>\n",
       "      <td>1</td>\n",
       "      <td>Parque Avellaneda</td>\n",
       "      <td>9</td>\n",
       "    </tr>\n",
       "    <tr>\n",
       "      <th>1</th>\n",
       "      <td>2</td>\n",
       "      <td>Palermo</td>\n",
       "      <td>14</td>\n",
       "    </tr>\n",
       "    <tr>\n",
       "      <th>2</th>\n",
       "      <td>3</td>\n",
       "      <td>Parque Patricios</td>\n",
       "      <td>4</td>\n",
       "    </tr>\n",
       "    <tr>\n",
       "      <th>3</th>\n",
       "      <td>4</td>\n",
       "      <td>Caballito</td>\n",
       "      <td>6</td>\n",
       "    </tr>\n",
       "    <tr>\n",
       "      <th>4</th>\n",
       "      <td>5</td>\n",
       "      <td>Monserrat</td>\n",
       "      <td>1</td>\n",
       "    </tr>\n",
       "  </tbody>\n",
       "</table>\n",
       "</div>"
      ],
      "text/plain": [
       "   id_barrio      nombre_barrio id_comuna\n",
       "0  1          Parque Avellaneda  9       \n",
       "1  2          Palermo            14      \n",
       "2  3          Parque Patricios   4       \n",
       "3  4          Caballito          6       \n",
       "4  5          Monserrat          1       "
      ]
     },
     "execution_count": 56,
     "metadata": {},
     "output_type": "execute_result"
    }
   ],
   "source": [
    "barrios.head()"
   ]
  },
  {
   "cell_type": "code",
   "execution_count": 57,
   "metadata": {},
   "outputs": [],
   "source": [
    "dict_delitos = dict(zip(delitos['nombre_delito'],delitos['id_delito']))\n",
    "dict_barrios = dict(zip(barrios['nombre_barrio'],barrios['id_barrio']))"
   ]
  },
  {
   "cell_type": "code",
   "execution_count": 58,
   "metadata": {},
   "outputs": [],
   "source": [
    "main_no_duplicates['id_delito'] = main_no_duplicates['delito'].map(dict_delitos)\n",
    "main_no_duplicates['id_barrio'] = main_no_duplicates['barrio'].map(dict_barrios)"
   ]
  },
  {
   "cell_type": "code",
   "execution_count": 59,
   "metadata": {},
   "outputs": [],
   "source": [
    "main_no_duplicates.drop(columns=['delito','barrio'],inplace=True)"
   ]
  },
  {
   "cell_type": "code",
   "execution_count": 60,
   "metadata": {},
   "outputs": [],
   "source": [
    "main_no_duplicates['comuna'] = main_no_duplicates['comuna'].astype(float).astype(int)"
   ]
  },
  {
   "cell_type": "code",
   "execution_count": 61,
   "metadata": {},
   "outputs": [
    {
     "data": {
      "text/html": [
       "<div>\n",
       "<style scoped>\n",
       "    .dataframe tbody tr th:only-of-type {\n",
       "        vertical-align: middle;\n",
       "    }\n",
       "\n",
       "    .dataframe tbody tr th {\n",
       "        vertical-align: top;\n",
       "    }\n",
       "\n",
       "    .dataframe thead th {\n",
       "        text-align: right;\n",
       "    }\n",
       "</style>\n",
       "<table border=\"1\" class=\"dataframe\">\n",
       "  <thead>\n",
       "    <tr style=\"text-align: right;\">\n",
       "      <th></th>\n",
       "      <th>id_legajo</th>\n",
       "      <th>fecha</th>\n",
       "      <th>franja_horaria</th>\n",
       "      <th>comuna</th>\n",
       "      <th>lat</th>\n",
       "      <th>long</th>\n",
       "      <th>id_delito</th>\n",
       "      <th>id_barrio</th>\n",
       "    </tr>\n",
       "  </thead>\n",
       "  <tbody>\n",
       "    <tr>\n",
       "      <th>0</th>\n",
       "      <td>51585</td>\n",
       "      <td>2016-01-01</td>\n",
       "      <td>13</td>\n",
       "      <td>9</td>\n",
       "      <td>-34.64873</td>\n",
       "      <td>-58.468536</td>\n",
       "      <td>1</td>\n",
       "      <td>1</td>\n",
       "    </tr>\n",
       "    <tr>\n",
       "      <th>1</th>\n",
       "      <td>83256</td>\n",
       "      <td>2016-01-01</td>\n",
       "      <td>22</td>\n",
       "      <td>14</td>\n",
       "      <td>-34.576925</td>\n",
       "      <td>-58.4074</td>\n",
       "      <td>1</td>\n",
       "      <td>2</td>\n",
       "    </tr>\n",
       "    <tr>\n",
       "      <th>2</th>\n",
       "      <td>117697</td>\n",
       "      <td>2016-01-01</td>\n",
       "      <td>1</td>\n",
       "      <td>4</td>\n",
       "      <td>-34.645197</td>\n",
       "      <td>-58.401099</td>\n",
       "      <td>2</td>\n",
       "      <td>3</td>\n",
       "    </tr>\n",
       "    <tr>\n",
       "      <th>3</th>\n",
       "      <td>43088</td>\n",
       "      <td>2016-01-01</td>\n",
       "      <td>19</td>\n",
       "      <td>9</td>\n",
       "      <td>-34.65576</td>\n",
       "      <td>-58.478681</td>\n",
       "      <td>3</td>\n",
       "      <td>1</td>\n",
       "    </tr>\n",
       "    <tr>\n",
       "      <th>4</th>\n",
       "      <td>68588</td>\n",
       "      <td>2016-01-01</td>\n",
       "      <td>4</td>\n",
       "      <td>6</td>\n",
       "      <td>-34.624128</td>\n",
       "      <td>-58.436826</td>\n",
       "      <td>4</td>\n",
       "      <td>4</td>\n",
       "    </tr>\n",
       "    <tr>\n",
       "      <th>...</th>\n",
       "      <td>...</td>\n",
       "      <td>...</td>\n",
       "      <td>...</td>\n",
       "      <td>...</td>\n",
       "      <td>...</td>\n",
       "      <td>...</td>\n",
       "      <td>...</td>\n",
       "      <td>...</td>\n",
       "    </tr>\n",
       "    <tr>\n",
       "      <th>88562</th>\n",
       "      <td>RH-2021-3751758</td>\n",
       "      <td>2021-05-08</td>\n",
       "      <td>10</td>\n",
       "      <td>3</td>\n",
       "      <td>-34,605751</td>\n",
       "      <td>-58,395375</td>\n",
       "      <td>3</td>\n",
       "      <td>8</td>\n",
       "    </tr>\n",
       "    <tr>\n",
       "      <th>88563</th>\n",
       "      <td>RH-2021-3768141</td>\n",
       "      <td>2021-06-29</td>\n",
       "      <td>21</td>\n",
       "      <td>14</td>\n",
       "      <td>-34,59266</td>\n",
       "      <td>-58,422338</td>\n",
       "      <td>1</td>\n",
       "      <td>2</td>\n",
       "    </tr>\n",
       "    <tr>\n",
       "      <th>88564</th>\n",
       "      <td>RH-2021-3768589</td>\n",
       "      <td>2021-06-30</td>\n",
       "      <td>13</td>\n",
       "      <td>3</td>\n",
       "      <td>-34,608791</td>\n",
       "      <td>-58,404617</td>\n",
       "      <td>1</td>\n",
       "      <td>8</td>\n",
       "    </tr>\n",
       "    <tr>\n",
       "      <th>88565</th>\n",
       "      <td>RH-2021-3783716</td>\n",
       "      <td>2021-07-31</td>\n",
       "      <td>1</td>\n",
       "      <td>3</td>\n",
       "      <td>-34,603284</td>\n",
       "      <td>-58,394526</td>\n",
       "      <td>3</td>\n",
       "      <td>8</td>\n",
       "    </tr>\n",
       "    <tr>\n",
       "      <th>88566</th>\n",
       "      <td>RH-2021-3807019</td>\n",
       "      <td>2021-10-06</td>\n",
       "      <td>14</td>\n",
       "      <td>1</td>\n",
       "      <td>-34,604575</td>\n",
       "      <td>-58,392075</td>\n",
       "      <td>3</td>\n",
       "      <td>17</td>\n",
       "    </tr>\n",
       "  </tbody>\n",
       "</table>\n",
       "<p>636597 rows × 8 columns</p>\n",
       "</div>"
      ],
      "text/plain": [
       "             id_legajo      fecha franja_horaria  comuna         lat  \\\n",
       "0      51585           2016-01-01  13             9      -34.64873     \n",
       "1      83256           2016-01-01  22             14     -34.576925    \n",
       "2      117697          2016-01-01  1              4      -34.645197    \n",
       "3      43088           2016-01-01  19             9      -34.65576     \n",
       "4      68588           2016-01-01  4              6      -34.624128    \n",
       "...      ...                  ... ..             ..             ...    \n",
       "88562  RH-2021-3751758 2021-05-08  10             3       -34,605751   \n",
       "88563  RH-2021-3768141 2021-06-29  21             14      -34,59266    \n",
       "88564  RH-2021-3768589 2021-06-30  13             3       -34,608791   \n",
       "88565  RH-2021-3783716 2021-07-31  1              3       -34,603284   \n",
       "88566  RH-2021-3807019 2021-10-06  14             1       -34,604575   \n",
       "\n",
       "             long  id_delito  id_barrio  \n",
       "0     -58.468536   1          1          \n",
       "1     -58.4074     1          2          \n",
       "2     -58.401099   2          3          \n",
       "3     -58.478681   3          1          \n",
       "4     -58.436826   4          4          \n",
       "...          ...  ..         ..          \n",
       "88562  -58,395375  3          8          \n",
       "88563  -58,422338  1          2          \n",
       "88564  -58,404617  1          8          \n",
       "88565  -58,394526  3          8          \n",
       "88566  -58,392075  3          17         \n",
       "\n",
       "[636597 rows x 8 columns]"
      ]
     },
     "execution_count": 61,
     "metadata": {},
     "output_type": "execute_result"
    }
   ],
   "source": [
    "main_no_duplicates"
   ]
  },
  {
   "cell_type": "code",
   "execution_count": 62,
   "metadata": {},
   "outputs": [
    {
     "data": {
      "text/plain": [
       "(Timestamp('2016-01-01 00:00:00'), Timestamp('2021-12-31 00:00:00'))"
      ]
     },
     "execution_count": 62,
     "metadata": {},
     "output_type": "execute_result"
    }
   ],
   "source": [
    "main_no_duplicates['fecha'].min(), main_no_duplicates['fecha'].max()"
   ]
  },
  {
   "cell_type": "markdown",
   "metadata": {},
   "source": [
    "Creamos la tabla de dimension 'Fecha'"
   ]
  },
  {
   "cell_type": "code",
   "execution_count": 68,
   "metadata": {},
   "outputs": [],
   "source": [
    "def create_date_table(start='2016-01-01', end='2021-12-31'):\n",
    "        df_new = pd.DataFrame({\"Date\": pd.date_range(start, end)})\n",
    "        df_new[\"dia\"] = df_new.Date.dt.day\n",
    "        df_new['dia_nombre'] = df_new['Date'].dt.day_name()\n",
    "        df_new[\"mes\"] = df_new.Date.dt.month\n",
    "        df_new['mes_nombre'] = df_new['Date'].dt.month_name()\n",
    "        df_new[\"año\"] = df_new.Date.dt.year\n",
    "        return df_new"
   ]
  },
  {
   "cell_type": "code",
   "execution_count": 70,
   "metadata": {},
   "outputs": [
    {
     "data": {
      "text/html": [
       "<div>\n",
       "<style scoped>\n",
       "    .dataframe tbody tr th:only-of-type {\n",
       "        vertical-align: middle;\n",
       "    }\n",
       "\n",
       "    .dataframe tbody tr th {\n",
       "        vertical-align: top;\n",
       "    }\n",
       "\n",
       "    .dataframe thead th {\n",
       "        text-align: right;\n",
       "    }\n",
       "</style>\n",
       "<table border=\"1\" class=\"dataframe\">\n",
       "  <thead>\n",
       "    <tr style=\"text-align: right;\">\n",
       "      <th></th>\n",
       "      <th>Date</th>\n",
       "      <th>dia</th>\n",
       "      <th>dia_nombre</th>\n",
       "      <th>mes</th>\n",
       "      <th>mes_nombre</th>\n",
       "      <th>año</th>\n",
       "    </tr>\n",
       "  </thead>\n",
       "  <tbody>\n",
       "    <tr>\n",
       "      <th>0</th>\n",
       "      <td>2016-01-01</td>\n",
       "      <td>1</td>\n",
       "      <td>Friday</td>\n",
       "      <td>1</td>\n",
       "      <td>January</td>\n",
       "      <td>2016</td>\n",
       "    </tr>\n",
       "    <tr>\n",
       "      <th>1</th>\n",
       "      <td>2016-01-02</td>\n",
       "      <td>2</td>\n",
       "      <td>Saturday</td>\n",
       "      <td>1</td>\n",
       "      <td>January</td>\n",
       "      <td>2016</td>\n",
       "    </tr>\n",
       "    <tr>\n",
       "      <th>2</th>\n",
       "      <td>2016-01-03</td>\n",
       "      <td>3</td>\n",
       "      <td>Sunday</td>\n",
       "      <td>1</td>\n",
       "      <td>January</td>\n",
       "      <td>2016</td>\n",
       "    </tr>\n",
       "    <tr>\n",
       "      <th>3</th>\n",
       "      <td>2016-01-04</td>\n",
       "      <td>4</td>\n",
       "      <td>Monday</td>\n",
       "      <td>1</td>\n",
       "      <td>January</td>\n",
       "      <td>2016</td>\n",
       "    </tr>\n",
       "    <tr>\n",
       "      <th>4</th>\n",
       "      <td>2016-01-05</td>\n",
       "      <td>5</td>\n",
       "      <td>Tuesday</td>\n",
       "      <td>1</td>\n",
       "      <td>January</td>\n",
       "      <td>2016</td>\n",
       "    </tr>\n",
       "    <tr>\n",
       "      <th>...</th>\n",
       "      <td>...</td>\n",
       "      <td>...</td>\n",
       "      <td>...</td>\n",
       "      <td>...</td>\n",
       "      <td>...</td>\n",
       "      <td>...</td>\n",
       "    </tr>\n",
       "    <tr>\n",
       "      <th>2187</th>\n",
       "      <td>2021-12-27</td>\n",
       "      <td>27</td>\n",
       "      <td>Monday</td>\n",
       "      <td>12</td>\n",
       "      <td>December</td>\n",
       "      <td>2021</td>\n",
       "    </tr>\n",
       "    <tr>\n",
       "      <th>2188</th>\n",
       "      <td>2021-12-28</td>\n",
       "      <td>28</td>\n",
       "      <td>Tuesday</td>\n",
       "      <td>12</td>\n",
       "      <td>December</td>\n",
       "      <td>2021</td>\n",
       "    </tr>\n",
       "    <tr>\n",
       "      <th>2189</th>\n",
       "      <td>2021-12-29</td>\n",
       "      <td>29</td>\n",
       "      <td>Wednesday</td>\n",
       "      <td>12</td>\n",
       "      <td>December</td>\n",
       "      <td>2021</td>\n",
       "    </tr>\n",
       "    <tr>\n",
       "      <th>2190</th>\n",
       "      <td>2021-12-30</td>\n",
       "      <td>30</td>\n",
       "      <td>Thursday</td>\n",
       "      <td>12</td>\n",
       "      <td>December</td>\n",
       "      <td>2021</td>\n",
       "    </tr>\n",
       "    <tr>\n",
       "      <th>2191</th>\n",
       "      <td>2021-12-31</td>\n",
       "      <td>31</td>\n",
       "      <td>Friday</td>\n",
       "      <td>12</td>\n",
       "      <td>December</td>\n",
       "      <td>2021</td>\n",
       "    </tr>\n",
       "  </tbody>\n",
       "</table>\n",
       "<p>2192 rows × 6 columns</p>\n",
       "</div>"
      ],
      "text/plain": [
       "           Date  dia dia_nombre  mes mes_nombre   año\n",
       "0    2016-01-01  1    Friday     1    January    2016\n",
       "1    2016-01-02  2    Saturday   1    January    2016\n",
       "2    2016-01-03  3    Sunday     1    January    2016\n",
       "3    2016-01-04  4    Monday     1    January    2016\n",
       "4    2016-01-05  5    Tuesday    1    January    2016\n",
       "...         ... ..        ...   ..        ...     ...\n",
       "2187 2021-12-27  27   Monday     12   December   2021\n",
       "2188 2021-12-28  28   Tuesday    12   December   2021\n",
       "2189 2021-12-29  29   Wednesday  12   December   2021\n",
       "2190 2021-12-30  30   Thursday   12   December   2021\n",
       "2191 2021-12-31  31   Friday     12   December   2021\n",
       "\n",
       "[2192 rows x 6 columns]"
      ]
     },
     "execution_count": 70,
     "metadata": {},
     "output_type": "execute_result"
    }
   ],
   "source": [
    "fecha = create_date_table()\n",
    "fecha"
   ]
  },
  {
   "cell_type": "code",
   "execution_count": 71,
   "metadata": {},
   "outputs": [],
   "source": [
    "fecha['dia_nombre'] = fecha['dia_nombre'].replace({'Monday':'Lunes', \n",
    "                        'Tuesday':'Martes',\n",
    "                        'Wednesday':'Miercoles', \n",
    "                        'Thursday':'Jueves', \n",
    "                        'Friday':'Viernes', \n",
    "                        'Saturday':'Sabado', \n",
    "                        'Sunday':'Domingo'})"
   ]
  },
  {
   "cell_type": "code",
   "execution_count": 74,
   "metadata": {},
   "outputs": [],
   "source": [
    "fecha['mes_nombre'] = fecha['mes_nombre'].replace({'January':'Enero',\n",
    "                                'February':'Febrero',   \n",
    "                                'March':'Marzo',\n",
    "                                'April':'Abril',\n",
    "                                'May':'Mayo',\n",
    "                                'June':'Junio',\n",
    "                                'July':'Julio',\n",
    "                                'August':'Agosto',\n",
    "                                'September':'Septiembre',\n",
    "                                'October':'Octubre',\n",
    "                                'November':'Noviembre',\n",
    "                                'December':'Diciembre'})\n",
    "                                "
   ]
  },
  {
   "cell_type": "code",
   "execution_count": 75,
   "metadata": {},
   "outputs": [
    {
     "data": {
      "text/html": [
       "<div>\n",
       "<style scoped>\n",
       "    .dataframe tbody tr th:only-of-type {\n",
       "        vertical-align: middle;\n",
       "    }\n",
       "\n",
       "    .dataframe tbody tr th {\n",
       "        vertical-align: top;\n",
       "    }\n",
       "\n",
       "    .dataframe thead th {\n",
       "        text-align: right;\n",
       "    }\n",
       "</style>\n",
       "<table border=\"1\" class=\"dataframe\">\n",
       "  <thead>\n",
       "    <tr style=\"text-align: right;\">\n",
       "      <th></th>\n",
       "      <th>Date</th>\n",
       "      <th>dia</th>\n",
       "      <th>dia_nombre</th>\n",
       "      <th>mes</th>\n",
       "      <th>mes_nombre</th>\n",
       "      <th>año</th>\n",
       "    </tr>\n",
       "  </thead>\n",
       "  <tbody>\n",
       "    <tr>\n",
       "      <th>0</th>\n",
       "      <td>2016-01-01</td>\n",
       "      <td>1</td>\n",
       "      <td>Viernes</td>\n",
       "      <td>1</td>\n",
       "      <td>Enero</td>\n",
       "      <td>2016</td>\n",
       "    </tr>\n",
       "    <tr>\n",
       "      <th>1</th>\n",
       "      <td>2016-01-02</td>\n",
       "      <td>2</td>\n",
       "      <td>Sabado</td>\n",
       "      <td>1</td>\n",
       "      <td>Enero</td>\n",
       "      <td>2016</td>\n",
       "    </tr>\n",
       "    <tr>\n",
       "      <th>2</th>\n",
       "      <td>2016-01-03</td>\n",
       "      <td>3</td>\n",
       "      <td>Domingo</td>\n",
       "      <td>1</td>\n",
       "      <td>Enero</td>\n",
       "      <td>2016</td>\n",
       "    </tr>\n",
       "    <tr>\n",
       "      <th>3</th>\n",
       "      <td>2016-01-04</td>\n",
       "      <td>4</td>\n",
       "      <td>Lunes</td>\n",
       "      <td>1</td>\n",
       "      <td>Enero</td>\n",
       "      <td>2016</td>\n",
       "    </tr>\n",
       "    <tr>\n",
       "      <th>4</th>\n",
       "      <td>2016-01-05</td>\n",
       "      <td>5</td>\n",
       "      <td>Martes</td>\n",
       "      <td>1</td>\n",
       "      <td>Enero</td>\n",
       "      <td>2016</td>\n",
       "    </tr>\n",
       "    <tr>\n",
       "      <th>...</th>\n",
       "      <td>...</td>\n",
       "      <td>...</td>\n",
       "      <td>...</td>\n",
       "      <td>...</td>\n",
       "      <td>...</td>\n",
       "      <td>...</td>\n",
       "    </tr>\n",
       "    <tr>\n",
       "      <th>2187</th>\n",
       "      <td>2021-12-27</td>\n",
       "      <td>27</td>\n",
       "      <td>Lunes</td>\n",
       "      <td>12</td>\n",
       "      <td>Diciembre</td>\n",
       "      <td>2021</td>\n",
       "    </tr>\n",
       "    <tr>\n",
       "      <th>2188</th>\n",
       "      <td>2021-12-28</td>\n",
       "      <td>28</td>\n",
       "      <td>Martes</td>\n",
       "      <td>12</td>\n",
       "      <td>Diciembre</td>\n",
       "      <td>2021</td>\n",
       "    </tr>\n",
       "    <tr>\n",
       "      <th>2189</th>\n",
       "      <td>2021-12-29</td>\n",
       "      <td>29</td>\n",
       "      <td>Miercoles</td>\n",
       "      <td>12</td>\n",
       "      <td>Diciembre</td>\n",
       "      <td>2021</td>\n",
       "    </tr>\n",
       "    <tr>\n",
       "      <th>2190</th>\n",
       "      <td>2021-12-30</td>\n",
       "      <td>30</td>\n",
       "      <td>Jueves</td>\n",
       "      <td>12</td>\n",
       "      <td>Diciembre</td>\n",
       "      <td>2021</td>\n",
       "    </tr>\n",
       "    <tr>\n",
       "      <th>2191</th>\n",
       "      <td>2021-12-31</td>\n",
       "      <td>31</td>\n",
       "      <td>Viernes</td>\n",
       "      <td>12</td>\n",
       "      <td>Diciembre</td>\n",
       "      <td>2021</td>\n",
       "    </tr>\n",
       "  </tbody>\n",
       "</table>\n",
       "<p>2192 rows × 6 columns</p>\n",
       "</div>"
      ],
      "text/plain": [
       "           Date  dia dia_nombre  mes mes_nombre   año\n",
       "0    2016-01-01  1    Viernes    1    Enero      2016\n",
       "1    2016-01-02  2    Sabado     1    Enero      2016\n",
       "2    2016-01-03  3    Domingo    1    Enero      2016\n",
       "3    2016-01-04  4    Lunes      1    Enero      2016\n",
       "4    2016-01-05  5    Martes     1    Enero      2016\n",
       "...         ... ..       ...    ..      ...       ...\n",
       "2187 2021-12-27  27   Lunes      12   Diciembre  2021\n",
       "2188 2021-12-28  28   Martes     12   Diciembre  2021\n",
       "2189 2021-12-29  29   Miercoles  12   Diciembre  2021\n",
       "2190 2021-12-30  30   Jueves     12   Diciembre  2021\n",
       "2191 2021-12-31  31   Viernes    12   Diciembre  2021\n",
       "\n",
       "[2192 rows x 6 columns]"
      ]
     },
     "execution_count": 75,
     "metadata": {},
     "output_type": "execute_result"
    }
   ],
   "source": [
    "fecha"
   ]
  },
  {
   "cell_type": "code",
   "execution_count": 77,
   "metadata": {},
   "outputs": [
    {
     "data": {
      "text/html": [
       "<div>\n",
       "<style scoped>\n",
       "    .dataframe tbody tr th:only-of-type {\n",
       "        vertical-align: middle;\n",
       "    }\n",
       "\n",
       "    .dataframe tbody tr th {\n",
       "        vertical-align: top;\n",
       "    }\n",
       "\n",
       "    .dataframe thead th {\n",
       "        text-align: right;\n",
       "    }\n",
       "</style>\n",
       "<table border=\"1\" class=\"dataframe\">\n",
       "  <thead>\n",
       "    <tr style=\"text-align: right;\">\n",
       "      <th></th>\n",
       "      <th>id_legajo</th>\n",
       "      <th>fecha</th>\n",
       "      <th>franja_horaria</th>\n",
       "      <th>comuna</th>\n",
       "      <th>lat</th>\n",
       "      <th>long</th>\n",
       "      <th>id_delito</th>\n",
       "      <th>id_barrio</th>\n",
       "    </tr>\n",
       "  </thead>\n",
       "  <tbody>\n",
       "    <tr>\n",
       "      <th>0</th>\n",
       "      <td>51585</td>\n",
       "      <td>2016-01-01</td>\n",
       "      <td>13</td>\n",
       "      <td>9</td>\n",
       "      <td>-34.64873</td>\n",
       "      <td>-58.468536</td>\n",
       "      <td>1</td>\n",
       "      <td>1</td>\n",
       "    </tr>\n",
       "    <tr>\n",
       "      <th>1</th>\n",
       "      <td>83256</td>\n",
       "      <td>2016-01-01</td>\n",
       "      <td>22</td>\n",
       "      <td>14</td>\n",
       "      <td>-34.576925</td>\n",
       "      <td>-58.4074</td>\n",
       "      <td>1</td>\n",
       "      <td>2</td>\n",
       "    </tr>\n",
       "    <tr>\n",
       "      <th>2</th>\n",
       "      <td>117697</td>\n",
       "      <td>2016-01-01</td>\n",
       "      <td>1</td>\n",
       "      <td>4</td>\n",
       "      <td>-34.645197</td>\n",
       "      <td>-58.401099</td>\n",
       "      <td>2</td>\n",
       "      <td>3</td>\n",
       "    </tr>\n",
       "    <tr>\n",
       "      <th>3</th>\n",
       "      <td>43088</td>\n",
       "      <td>2016-01-01</td>\n",
       "      <td>19</td>\n",
       "      <td>9</td>\n",
       "      <td>-34.65576</td>\n",
       "      <td>-58.478681</td>\n",
       "      <td>3</td>\n",
       "      <td>1</td>\n",
       "    </tr>\n",
       "    <tr>\n",
       "      <th>4</th>\n",
       "      <td>68588</td>\n",
       "      <td>2016-01-01</td>\n",
       "      <td>4</td>\n",
       "      <td>6</td>\n",
       "      <td>-34.624128</td>\n",
       "      <td>-58.436826</td>\n",
       "      <td>4</td>\n",
       "      <td>4</td>\n",
       "    </tr>\n",
       "    <tr>\n",
       "      <th>...</th>\n",
       "      <td>...</td>\n",
       "      <td>...</td>\n",
       "      <td>...</td>\n",
       "      <td>...</td>\n",
       "      <td>...</td>\n",
       "      <td>...</td>\n",
       "      <td>...</td>\n",
       "      <td>...</td>\n",
       "    </tr>\n",
       "    <tr>\n",
       "      <th>88562</th>\n",
       "      <td>RH-2021-3751758</td>\n",
       "      <td>2021-05-08</td>\n",
       "      <td>10</td>\n",
       "      <td>3</td>\n",
       "      <td>-34,605751</td>\n",
       "      <td>-58,395375</td>\n",
       "      <td>3</td>\n",
       "      <td>8</td>\n",
       "    </tr>\n",
       "    <tr>\n",
       "      <th>88563</th>\n",
       "      <td>RH-2021-3768141</td>\n",
       "      <td>2021-06-29</td>\n",
       "      <td>21</td>\n",
       "      <td>14</td>\n",
       "      <td>-34,59266</td>\n",
       "      <td>-58,422338</td>\n",
       "      <td>1</td>\n",
       "      <td>2</td>\n",
       "    </tr>\n",
       "    <tr>\n",
       "      <th>88564</th>\n",
       "      <td>RH-2021-3768589</td>\n",
       "      <td>2021-06-30</td>\n",
       "      <td>13</td>\n",
       "      <td>3</td>\n",
       "      <td>-34,608791</td>\n",
       "      <td>-58,404617</td>\n",
       "      <td>1</td>\n",
       "      <td>8</td>\n",
       "    </tr>\n",
       "    <tr>\n",
       "      <th>88565</th>\n",
       "      <td>RH-2021-3783716</td>\n",
       "      <td>2021-07-31</td>\n",
       "      <td>1</td>\n",
       "      <td>3</td>\n",
       "      <td>-34,603284</td>\n",
       "      <td>-58,394526</td>\n",
       "      <td>3</td>\n",
       "      <td>8</td>\n",
       "    </tr>\n",
       "    <tr>\n",
       "      <th>88566</th>\n",
       "      <td>RH-2021-3807019</td>\n",
       "      <td>2021-10-06</td>\n",
       "      <td>14</td>\n",
       "      <td>1</td>\n",
       "      <td>-34,604575</td>\n",
       "      <td>-58,392075</td>\n",
       "      <td>3</td>\n",
       "      <td>17</td>\n",
       "    </tr>\n",
       "  </tbody>\n",
       "</table>\n",
       "<p>636597 rows × 8 columns</p>\n",
       "</div>"
      ],
      "text/plain": [
       "             id_legajo      fecha franja_horaria  comuna         lat  \\\n",
       "0      51585           2016-01-01  13             9      -34.64873     \n",
       "1      83256           2016-01-01  22             14     -34.576925    \n",
       "2      117697          2016-01-01  1              4      -34.645197    \n",
       "3      43088           2016-01-01  19             9      -34.65576     \n",
       "4      68588           2016-01-01  4              6      -34.624128    \n",
       "...      ...                  ... ..             ..             ...    \n",
       "88562  RH-2021-3751758 2021-05-08  10             3       -34,605751   \n",
       "88563  RH-2021-3768141 2021-06-29  21             14      -34,59266    \n",
       "88564  RH-2021-3768589 2021-06-30  13             3       -34,608791   \n",
       "88565  RH-2021-3783716 2021-07-31  1              3       -34,603284   \n",
       "88566  RH-2021-3807019 2021-10-06  14             1       -34,604575   \n",
       "\n",
       "             long  id_delito  id_barrio  \n",
       "0     -58.468536   1          1          \n",
       "1     -58.4074     1          2          \n",
       "2     -58.401099   2          3          \n",
       "3     -58.478681   3          1          \n",
       "4     -58.436826   4          4          \n",
       "...          ...  ..         ..          \n",
       "88562  -58,395375  3          8          \n",
       "88563  -58,422338  1          2          \n",
       "88564  -58,404617  1          8          \n",
       "88565  -58,394526  3          8          \n",
       "88566  -58,392075  3          17         \n",
       "\n",
       "[636597 rows x 8 columns]"
      ]
     },
     "execution_count": 77,
     "metadata": {},
     "output_type": "execute_result"
    }
   ],
   "source": [
    "main_no_duplicates"
   ]
  },
  {
   "cell_type": "markdown",
   "metadata": {},
   "source": [
    "## Exportamos los Datasets"
   ]
  },
  {
   "cell_type": "code",
   "execution_count": 76,
   "metadata": {},
   "outputs": [
    {
     "name": "stderr",
     "output_type": "stream",
     "text": [
      "C:\\Users\\Nico\\anaconda3\\lib\\site-packages\\xlsxwriter\\workbook.py:339: UserWarning: Calling close() on already closed file.\n",
      "  warn(\"Calling close() on already closed file.\")\n"
     ]
    }
   ],
   "source": [
    "with pd.ExcelWriter('Delitos_Caba.xlsx') as writer:\n",
    "    main_no_duplicates.to_excel(writer, sheet_name='Delitos_CABA',index=False)\n",
    "    barrios.to_excel(writer,sheet_name='Barrios',index=False)\n",
    "    comunas.to_excel(writer,sheet_name='Comunas',index=False)\n",
    "    delitos.to_excel(writer,sheet_name='Delitos',index=False)\n",
    "    fecha.to_excel(writer,sheet_name='Fecha',index=False)\n",
    "\n",
    "writer.save()"
   ]
  },
  {
   "cell_type": "markdown",
   "metadata": {},
   "source": [
    "## Cambios implementados: \n",
    "\n",
    "- Se eliminaron las filas con 'franja_horaria' = 'S/D', 'SD', 'sd'. Aprox 2100 filas\n",
    "- Se eliminaron las filas con 'barrio' = nan\n",
    "- En subtipo de lesiones se unificaron los datos. Por ejemplo se paso los femicidios a homicidio doloso, porque solo hay datos de femicidios de un solo año, lo mismo con los transvesticidios. Los robos con moto se los pone como roobo con violencia, etc\n",
    "- Se corrigieron algunas inconsistencias en los datos de diferentes años, por ejemplo barrios ingresados de manera distinta (La Paternal, Paternal)\n",
    "- Se unificaron las tablas 'tipo delito' y 'subtipo delito' en delito\n",
    "- Se creo una columna con el dia de la semana\n",
    "- La columna 'cantidad_registrada', en la fuente de los datos no se especifica bien su significado\n",
    "- Implementacion de las FK en la tabla de hechos asociadas a las PK de las tablas de dimensiones\n"
   ]
  }
 ],
 "metadata": {
  "interpreter": {
   "hash": "062274e7162bb420c99cc7ca51c80b3d41f6466fb46f2923fcfecd2b904f14af"
  },
  "kernelspec": {
   "display_name": "Python 3.8.12 ('base')",
   "language": "python",
   "name": "python3"
  },
  "language_info": {
   "codemirror_mode": {
    "name": "ipython",
    "version": 3
   },
   "file_extension": ".py",
   "mimetype": "text/x-python",
   "name": "python",
   "nbconvert_exporter": "python",
   "pygments_lexer": "ipython3",
   "version": "3.8.12"
  },
  "orig_nbformat": 4
 },
 "nbformat": 4,
 "nbformat_minor": 2
}
