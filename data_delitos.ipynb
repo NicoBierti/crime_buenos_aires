{
 "cells": [
  {
   "cell_type": "code",
   "execution_count": 9,
   "metadata": {},
   "outputs": [
    {
     "name": "stderr",
     "output_type": "stream",
     "text": [
      "C:\\Users\\Nico\\AppData\\Local\\Temp/ipykernel_9428/800813630.py:4: FutureWarning: Passing a negative integer is deprecated in version 1.0 and will not be supported in future version. Instead, use None to not limit the column width.\n",
      "  pd.set_option('display.max_colwidth', -1)\n"
     ]
    }
   ],
   "source": [
    "import pandas as pd\n",
    "import numpy as np\n",
    "import glob\n",
    "pd.set_option('display.max_colwidth', -1)"
   ]
  },
  {
   "cell_type": "code",
   "execution_count": 10,
   "metadata": {},
   "outputs": [],
   "source": [
    "path = r'C:/Users/Nico/Documents/repositories/crime_buenos_aires/Datasets/'"
   ]
  },
  {
   "cell_type": "code",
   "execution_count": 11,
   "metadata": {},
   "outputs": [],
   "source": [
    "df_2016 = pd.read_csv(path + 'delitos_2016.csv', sep=',')\n",
    "df_2017 = pd.read_csv(path + 'delitos_2017.csv', sep=',')\n",
    "df_2018 = pd.read_csv(path + 'delitos_2018.csv', sep=',')\n",
    "df_2019 = pd.read_csv(path + 'delitos_2019.csv', sep=',',low_memory=False)\n",
    "df_2020 = pd.read_csv(path + 'delitos_2020.csv', sep=',')\n",
    "df_2021 = pd.read_csv(path + 'delitos_2021.csv', sep=';')"
   ]
  },
  {
   "cell_type": "code",
   "execution_count": 12,
   "metadata": {},
   "outputs": [
    {
     "data": {
      "text/html": [
       "<div>\n",
       "<style scoped>\n",
       "    .dataframe tbody tr th:only-of-type {\n",
       "        vertical-align: middle;\n",
       "    }\n",
       "\n",
       "    .dataframe tbody tr th {\n",
       "        vertical-align: top;\n",
       "    }\n",
       "\n",
       "    .dataframe thead th {\n",
       "        text-align: right;\n",
       "    }\n",
       "</style>\n",
       "<table border=\"1\" class=\"dataframe\">\n",
       "  <thead>\n",
       "    <tr style=\"text-align: right;\">\n",
       "      <th></th>\n",
       "      <th>id</th>\n",
       "      <th>fecha</th>\n",
       "      <th>franja_horaria</th>\n",
       "      <th>tipo_delito</th>\n",
       "      <th>subtipo_delito</th>\n",
       "      <th>cantidad_registrada</th>\n",
       "      <th>comuna</th>\n",
       "      <th>barrio</th>\n",
       "      <th>lat</th>\n",
       "      <th>long</th>\n",
       "    </tr>\n",
       "  </thead>\n",
       "  <tbody>\n",
       "    <tr>\n",
       "      <th>0</th>\n",
       "      <td>51585</td>\n",
       "      <td>2016-01-01</td>\n",
       "      <td>13</td>\n",
       "      <td>Robo (con violencia)</td>\n",
       "      <td>NaN</td>\n",
       "      <td>1.0</td>\n",
       "      <td>9.0</td>\n",
       "      <td>Parque Avellaneda</td>\n",
       "      <td>-34.648730</td>\n",
       "      <td>-58.468536</td>\n",
       "    </tr>\n",
       "    <tr>\n",
       "      <th>1</th>\n",
       "      <td>83256</td>\n",
       "      <td>2016-01-01</td>\n",
       "      <td>22</td>\n",
       "      <td>Robo (con violencia)</td>\n",
       "      <td>NaN</td>\n",
       "      <td>1.0</td>\n",
       "      <td>14.0</td>\n",
       "      <td>Palermo</td>\n",
       "      <td>-34.576925</td>\n",
       "      <td>-58.407400</td>\n",
       "    </tr>\n",
       "    <tr>\n",
       "      <th>2</th>\n",
       "      <td>117697</td>\n",
       "      <td>2016-01-01</td>\n",
       "      <td>1</td>\n",
       "      <td>Lesiones</td>\n",
       "      <td>Siniestro Vial</td>\n",
       "      <td>1.0</td>\n",
       "      <td>4.0</td>\n",
       "      <td>Parque Patricios</td>\n",
       "      <td>-34.645197</td>\n",
       "      <td>-58.401099</td>\n",
       "    </tr>\n",
       "    <tr>\n",
       "      <th>3</th>\n",
       "      <td>43088</td>\n",
       "      <td>2016-01-01</td>\n",
       "      <td>19</td>\n",
       "      <td>Hurto (sin violencia)</td>\n",
       "      <td>NaN</td>\n",
       "      <td>1.0</td>\n",
       "      <td>9.0</td>\n",
       "      <td>Parque Avellaneda</td>\n",
       "      <td>-34.655760</td>\n",
       "      <td>-58.478681</td>\n",
       "    </tr>\n",
       "    <tr>\n",
       "      <th>4</th>\n",
       "      <td>68588</td>\n",
       "      <td>2016-01-01</td>\n",
       "      <td>4</td>\n",
       "      <td>Robo (con violencia)</td>\n",
       "      <td>Robo Automotor</td>\n",
       "      <td>1.0</td>\n",
       "      <td>6.0</td>\n",
       "      <td>Caballito</td>\n",
       "      <td>-34.624128</td>\n",
       "      <td>-58.436826</td>\n",
       "    </tr>\n",
       "  </tbody>\n",
       "</table>\n",
       "</div>"
      ],
      "text/plain": [
       "       id       fecha franja_horaria            tipo_delito  subtipo_delito  \\\n",
       "0  51585   2016-01-01  13             Robo (con violencia)   NaN              \n",
       "1  83256   2016-01-01  22             Robo (con violencia)   NaN              \n",
       "2  117697  2016-01-01  1              Lesiones               Siniestro Vial   \n",
       "3  43088   2016-01-01  19             Hurto (sin violencia)  NaN              \n",
       "4  68588   2016-01-01  4              Robo (con violencia)   Robo Automotor   \n",
       "\n",
       "   cantidad_registrada  comuna             barrio        lat       long  \n",
       "0  1.0                  9.0     Parque Avellaneda -34.648730 -58.468536  \n",
       "1  1.0                  14.0    Palermo           -34.576925 -58.407400  \n",
       "2  1.0                  4.0     Parque Patricios  -34.645197 -58.401099  \n",
       "3  1.0                  9.0     Parque Avellaneda -34.655760 -58.478681  \n",
       "4  1.0                  6.0     Caballito         -34.624128 -58.436826  "
      ]
     },
     "execution_count": 12,
     "metadata": {},
     "output_type": "execute_result"
    }
   ],
   "source": [
    "df_2016.head()"
   ]
  },
  {
   "cell_type": "code",
   "execution_count": 13,
   "metadata": {},
   "outputs": [
    {
     "data": {
      "text/plain": [
       "Index(['id', 'fecha', 'franja_horaria', 'tipo_delito', 'subtipo_delito',\n",
       "       'cantidad_registrada', 'comuna', 'barrio', 'lat', 'long'],\n",
       "      dtype='object')"
      ]
     },
     "execution_count": 13,
     "metadata": {},
     "output_type": "execute_result"
    }
   ],
   "source": [
    "df_2016.columns"
   ]
  },
  {
   "cell_type": "markdown",
   "metadata": {},
   "source": [
    "Columnas iniciales"
   ]
  },
  {
   "cell_type": "code",
   "execution_count": 14,
   "metadata": {},
   "outputs": [
    {
     "name": "stdout",
     "output_type": "stream",
     "text": [
      "2016 Index(['id', 'fecha', 'franja_horaria', 'tipo_delito', 'subtipo_delito',\n",
      "       'cantidad_registrada', 'comuna', 'barrio', 'lat', 'long'],\n",
      "      dtype='object')\n",
      "2017 Index(['id', 'fecha', 'franja_horaria', 'tipo_delito', 'subtipo_delito',\n",
      "       'cantidad_registrada', 'comuna', 'barrio', 'lat', 'long'],\n",
      "      dtype='object')\n",
      "2018 Index(['id', 'fecha', 'franja_horaria', 'tipo_delito', 'subtipo_delito',\n",
      "       'cantidad_registrada', 'comuna', 'barrio', 'lat', 'long'],\n",
      "      dtype='object')\n",
      "2019 Index(['id', 'fecha', 'franja_horaria', 'tipo_delito', 'subtipo_delito',\n",
      "       'cantidad_registrada', 'comuna', 'barrio', 'lat', 'long'],\n",
      "      dtype='object')\n",
      "2020 Index(['id_mapa', 'anio', 'mes', 'dia', 'fecha', 'franja', 'tipo', 'subtipo',\n",
      "       'uso_armas', 'barrio', 'comuna', 'latitud', 'longitud', 'victimas'],\n",
      "      dtype='object')\n",
      "2021 Index(['id-mapa', 'anio', 'mes', 'dia', 'fecha', 'franja', 'tipo', 'subtipo',\n",
      "       'uso_armas', 'barrio', 'comuna', 'latitud', 'longitud', 'cantidad'],\n",
      "      dtype='object')\n"
     ]
    }
   ],
   "source": [
    "print('2016', df_2016.columns) \n",
    "print('2017', df_2017.columns)\n",
    "print('2018', df_2018.columns)\n",
    "print('2019', df_2019.columns)\n",
    "print('2020', df_2020.columns)\n",
    "print('2021', df_2021.columns)"
   ]
  },
  {
   "cell_type": "markdown",
   "metadata": {},
   "source": [
    "Dropeamos columnas de mas "
   ]
  },
  {
   "cell_type": "markdown",
   "metadata": {},
   "source": [
    "**2020**"
   ]
  },
  {
   "cell_type": "code",
   "execution_count": 15,
   "metadata": {},
   "outputs": [],
   "source": [
    "df_2020.drop(columns=['anio', 'mes', 'dia', 'uso_armas'], inplace=True,errors='ignore')"
   ]
  },
  {
   "cell_type": "code",
   "execution_count": 16,
   "metadata": {},
   "outputs": [
    {
     "data": {
      "text/plain": [
       "Index(['id_mapa', 'fecha', 'franja', 'tipo', 'subtipo', 'barrio', 'comuna',\n",
       "       'latitud', 'longitud', 'victimas'],\n",
       "      dtype='object')"
      ]
     },
     "execution_count": 16,
     "metadata": {},
     "output_type": "execute_result"
    }
   ],
   "source": [
    "df_2020.columns"
   ]
  },
  {
   "cell_type": "markdown",
   "metadata": {},
   "source": [
    "**2021**"
   ]
  },
  {
   "cell_type": "code",
   "execution_count": 17,
   "metadata": {},
   "outputs": [
    {
     "data": {
      "text/plain": [
       "Index(['id-mapa', 'anio', 'mes', 'dia', 'fecha', 'franja', 'tipo', 'subtipo',\n",
       "       'uso_armas', 'barrio', 'comuna', 'latitud', 'longitud', 'cantidad'],\n",
       "      dtype='object')"
      ]
     },
     "execution_count": 17,
     "metadata": {},
     "output_type": "execute_result"
    }
   ],
   "source": [
    "df_2021.columns"
   ]
  },
  {
   "cell_type": "code",
   "execution_count": 18,
   "metadata": {},
   "outputs": [],
   "source": [
    "df_2021.drop(columns=['anio', 'mes', 'dia','uso_armas'], inplace=True,errors='ignore')"
   ]
  },
  {
   "cell_type": "code",
   "execution_count": 19,
   "metadata": {},
   "outputs": [
    {
     "data": {
      "text/plain": [
       "Index(['id-mapa', 'fecha', 'franja', 'tipo', 'subtipo', 'barrio', 'comuna',\n",
       "       'latitud', 'longitud', 'cantidad'],\n",
       "      dtype='object')"
      ]
     },
     "execution_count": 19,
     "metadata": {},
     "output_type": "execute_result"
    }
   ],
   "source": [
    "df_2021.columns"
   ]
  },
  {
   "cell_type": "markdown",
   "metadata": {},
   "source": [
    "columnas a mantener\n",
    "\n",
    "id, fecha, franja, tipo_delito, subtipo_delito, cantidad_registrada, barrio, comuna, latitud, longitud"
   ]
  },
  {
   "cell_type": "markdown",
   "metadata": {},
   "source": [
    "Columnas luego del dropeo"
   ]
  },
  {
   "cell_type": "code",
   "execution_count": 20,
   "metadata": {},
   "outputs": [
    {
     "name": "stdout",
     "output_type": "stream",
     "text": [
      "2016 Index(['id', 'fecha', 'franja_horaria', 'tipo_delito', 'subtipo_delito',\n",
      "       'cantidad_registrada', 'comuna', 'barrio', 'lat', 'long'],\n",
      "      dtype='object')\n",
      "2017 Index(['id', 'fecha', 'franja_horaria', 'tipo_delito', 'subtipo_delito',\n",
      "       'cantidad_registrada', 'comuna', 'barrio', 'lat', 'long'],\n",
      "      dtype='object')\n",
      "2018 Index(['id', 'fecha', 'franja_horaria', 'tipo_delito', 'subtipo_delito',\n",
      "       'cantidad_registrada', 'comuna', 'barrio', 'lat', 'long'],\n",
      "      dtype='object')\n",
      "2019 Index(['id', 'fecha', 'franja_horaria', 'tipo_delito', 'subtipo_delito',\n",
      "       'cantidad_registrada', 'comuna', 'barrio', 'lat', 'long'],\n",
      "      dtype='object')\n",
      "2020 Index(['id_mapa', 'fecha', 'franja', 'tipo', 'subtipo', 'barrio', 'comuna',\n",
      "       'latitud', 'longitud', 'victimas'],\n",
      "      dtype='object')\n",
      "2021 Index(['id-mapa', 'fecha', 'franja', 'tipo', 'subtipo', 'barrio', 'comuna',\n",
      "       'latitud', 'longitud', 'cantidad'],\n",
      "      dtype='object')\n"
     ]
    }
   ],
   "source": [
    "print('2016', df_2016.columns) \n",
    "print('2017', df_2017.columns)\n",
    "print('2018', df_2018.columns)\n",
    "print('2019', df_2019.columns)\n",
    "print('2020', df_2020.columns)\n",
    "print('2021', df_2021.columns)"
   ]
  },
  {
   "cell_type": "markdown",
   "metadata": {},
   "source": [
    "Cambiamos nombres de las columnas"
   ]
  },
  {
   "cell_type": "code",
   "execution_count": 21,
   "metadata": {},
   "outputs": [],
   "source": [
    "df_2020.rename(columns={'id_mapa':'id','franja':'franja_horaria',\n",
    "                        'tipo':'tipo_delito','subtipo':'subtipo_delito',\n",
    "                        'victimas':'cantidad_registrada','latitud':'lat',\n",
    "                        'longitud':'long'}, inplace=True)"
   ]
  },
  {
   "cell_type": "code",
   "execution_count": 22,
   "metadata": {},
   "outputs": [],
   "source": [
    "df_2021.rename(columns={'id-mapa':'id','franja':'franja_horaria',\n",
    "                        'tipo':'tipo_delito','subtipo':'subtipo_delito',\n",
    "                        'cantidad':'cantidad_registrada','latitud':'lat',\n",
    "                        'longitud':'long'}, inplace=True)"
   ]
  },
  {
   "cell_type": "markdown",
   "metadata": {},
   "source": [
    "Columnas finales"
   ]
  },
  {
   "cell_type": "code",
   "execution_count": 23,
   "metadata": {},
   "outputs": [
    {
     "name": "stdout",
     "output_type": "stream",
     "text": [
      "2016 Index(['id', 'fecha', 'franja_horaria', 'tipo_delito', 'subtipo_delito',\n",
      "       'cantidad_registrada', 'comuna', 'barrio', 'lat', 'long'],\n",
      "      dtype='object')\n",
      "2017 Index(['id', 'fecha', 'franja_horaria', 'tipo_delito', 'subtipo_delito',\n",
      "       'cantidad_registrada', 'comuna', 'barrio', 'lat', 'long'],\n",
      "      dtype='object')\n",
      "2018 Index(['id', 'fecha', 'franja_horaria', 'tipo_delito', 'subtipo_delito',\n",
      "       'cantidad_registrada', 'comuna', 'barrio', 'lat', 'long'],\n",
      "      dtype='object')\n",
      "2019 Index(['id', 'fecha', 'franja_horaria', 'tipo_delito', 'subtipo_delito',\n",
      "       'cantidad_registrada', 'comuna', 'barrio', 'lat', 'long'],\n",
      "      dtype='object')\n",
      "2020 Index(['id', 'fecha', 'franja_horaria', 'tipo_delito', 'subtipo_delito',\n",
      "       'barrio', 'comuna', 'lat', 'long', 'cantidad_registrada'],\n",
      "      dtype='object')\n",
      "2021 Index(['id', 'fecha', 'franja_horaria', 'tipo_delito', 'subtipo_delito',\n",
      "       'barrio', 'comuna', 'lat', 'long', 'cantidad_registrada'],\n",
      "      dtype='object')\n"
     ]
    }
   ],
   "source": [
    "print('2016', df_2016.columns) \n",
    "print('2017', df_2017.columns)\n",
    "print('2018', df_2018.columns)\n",
    "print('2019', df_2019.columns)\n",
    "print('2020', df_2020.columns)\n",
    "print('2021', df_2021.columns)"
   ]
  },
  {
   "cell_type": "markdown",
   "metadata": {},
   "source": [
    "## Fechas"
   ]
  },
  {
   "cell_type": "code",
   "execution_count": 24,
   "metadata": {},
   "outputs": [],
   "source": [
    "df_2016['fecha'] = pd.to_datetime(df_2016['fecha'], format='%Y-%m-%d')\n",
    "df_2017['fecha'] = pd.to_datetime(df_2017['fecha'], format='%Y-%m-%d')\n",
    "df_2018['fecha'] = pd.to_datetime(df_2018['fecha'], format='%Y-%m-%d')"
   ]
  },
  {
   "cell_type": "code",
   "execution_count": 25,
   "metadata": {},
   "outputs": [],
   "source": [
    "df_2019['fecha'] = pd.to_datetime(df_2019['fecha'], format='%d-%m-%y').dt.strftime('%Y-%m-%d')"
   ]
  },
  {
   "cell_type": "code",
   "execution_count": 26,
   "metadata": {},
   "outputs": [],
   "source": [
    "df_2020['fecha'] = pd.to_datetime(df_2020['fecha'], format='%d/%m/%y').dt.strftime('%Y-%m-%d')"
   ]
  },
  {
   "cell_type": "code",
   "execution_count": 27,
   "metadata": {},
   "outputs": [],
   "source": [
    "df_2021['fecha'] = pd.to_datetime(df_2021['fecha'], format='%d/%m/%Y').dt.strftime('%Y-%m-%d')"
   ]
  },
  {
   "cell_type": "markdown",
   "metadata": {},
   "source": [
    "## Franja horaria\n",
    "    Exploramos columnas franja horaria (ideal seria que este en formato str)"
   ]
  },
  {
   "cell_type": "code",
   "execution_count": 28,
   "metadata": {},
   "outputs": [],
   "source": [
    "df_2019['franja_horaria'] = df_2019['franja_horaria'].astype(str)"
   ]
  },
  {
   "cell_type": "code",
   "execution_count": 29,
   "metadata": {},
   "outputs": [],
   "source": [
    "dataframes = [df_2016, df_2017, df_2018, df_2019, df_2020, df_2021]\n",
    "\n",
    "for dataframe in dataframes:\n",
    "    dataframe.drop(dataframe[(dataframe['franja_horaria'] == 'S/D') | (dataframe['franja_horaria'] == 'SD') |  (dataframe['franja_horaria'] == 'sd')].index, inplace=True)"
   ]
  },
  {
   "cell_type": "markdown",
   "metadata": {},
   "source": [
    "## Tipo Delito"
   ]
  },
  {
   "cell_type": "code",
   "execution_count": 30,
   "metadata": {},
   "outputs": [
    {
     "data": {
      "text/plain": [
       "array(['Robo (con violencia)', 'Lesiones', 'Hurto (sin violencia)',\n",
       "       'Homicidio'], dtype=object)"
      ]
     },
     "metadata": {},
     "output_type": "display_data"
    },
    {
     "data": {
      "text/plain": [
       "array(['Robo (con violencia)', 'Hurto (sin violencia)', 'Lesiones',\n",
       "       'Homicidio'], dtype=object)"
      ]
     },
     "metadata": {},
     "output_type": "display_data"
    },
    {
     "data": {
      "text/plain": [
       "array(['Hurto (sin violencia)', 'Robo (con violencia)', 'Homicidio',\n",
       "       'Lesiones'], dtype=object)"
      ]
     },
     "metadata": {},
     "output_type": "display_data"
    },
    {
     "data": {
      "text/plain": [
       "array(['Robo (con violencia)', 'Hurto (sin violencia)', 'Homicidio',\n",
       "       'Lesiones'], dtype=object)"
      ]
     },
     "metadata": {},
     "output_type": "display_data"
    },
    {
     "data": {
      "text/plain": [
       "array(['Hurto (sin violencia)', 'Homicidio', 'Robo (con violencia)',\n",
       "       'Lesiones'], dtype=object)"
      ]
     },
     "metadata": {},
     "output_type": "display_data"
    },
    {
     "data": {
      "text/plain": [
       "array(['Homicidio', 'Lesiones', 'Robo (con violencia)',\n",
       "       'Hurto (sin violencia)'], dtype=object)"
      ]
     },
     "metadata": {},
     "output_type": "display_data"
    }
   ],
   "source": [
    "dataframes = [df_2016, df_2017, df_2018, df_2019, df_2020, df_2021]\n",
    "\n",
    "for dataframe in dataframes:\n",
    "    display(dataframe['tipo_delito'].unique())"
   ]
  },
  {
   "cell_type": "markdown",
   "metadata": {},
   "source": [
    "## Subtipo Delito"
   ]
  },
  {
   "cell_type": "code",
   "execution_count": 31,
   "metadata": {},
   "outputs": [
    {
     "data": {
      "text/plain": [
       "array([nan, 'Siniestro Vial', 'Robo Automotor', 'Hurto Automotor',\n",
       "       'Doloso'], dtype=object)"
      ]
     },
     "metadata": {},
     "output_type": "display_data"
    },
    {
     "data": {
      "text/plain": [
       "array([nan, 'Hurto Automotor', 'Robo Automotor', 'Siniestro Vial',\n",
       "       'Doloso'], dtype=object)"
      ]
     },
     "metadata": {},
     "output_type": "display_data"
    },
    {
     "data": {
      "text/plain": [
       "array([nan, 'Hurto Automotor', 'Robo Automotor', 'Siniestro Vial',\n",
       "       'Doloso'], dtype=object)"
      ]
     },
     "metadata": {},
     "output_type": "display_data"
    },
    {
     "data": {
      "text/plain": [
       "array([nan, 'Hurto Automotor', 'Doloso', 'Siniestro Vial',\n",
       "       'Robo Automotor'], dtype=object)"
      ]
     },
     "metadata": {},
     "output_type": "display_data"
    },
    {
     "data": {
      "text/plain": [
       "array([nan, 'Femicidio', 'Siniestro Vial', 'Con uso de moto',\n",
       "       'Hurto Automotor', 'Robo Automotor', 'Doloso',\n",
       "       'Femicidio Intrafamiliar', 'Travesticidio/Transfemicidio'],\n",
       "      dtype=object)"
      ]
     },
     "metadata": {},
     "output_type": "display_data"
    },
    {
     "data": {
      "text/plain": [
       "array(['Siniestro Vial', 'Doloso', 'Femicidio', nan, 'Robo Automotor',\n",
       "       'Hurto Automotor', 'Con uso de moto'], dtype=object)"
      ]
     },
     "metadata": {},
     "output_type": "display_data"
    }
   ],
   "source": [
    "dataframes = [df_2016, df_2017, df_2018, df_2019, df_2020, df_2021]\n",
    "\n",
    "for dataframe in dataframes:\n",
    "    display(dataframe['subtipo_delito'].unique())"
   ]
  },
  {
   "cell_type": "code",
   "execution_count": 32,
   "metadata": {},
   "outputs": [
    {
     "data": {
      "text/html": [
       "<div>\n",
       "<style scoped>\n",
       "    .dataframe tbody tr th:only-of-type {\n",
       "        vertical-align: middle;\n",
       "    }\n",
       "\n",
       "    .dataframe tbody tr th {\n",
       "        vertical-align: top;\n",
       "    }\n",
       "\n",
       "    .dataframe thead th {\n",
       "        text-align: right;\n",
       "    }\n",
       "</style>\n",
       "<table border=\"1\" class=\"dataframe\">\n",
       "  <thead>\n",
       "    <tr style=\"text-align: right;\">\n",
       "      <th></th>\n",
       "      <th>tipo_delito</th>\n",
       "      <th>subtipo_delito</th>\n",
       "    </tr>\n",
       "  </thead>\n",
       "  <tbody>\n",
       "    <tr>\n",
       "      <th>0</th>\n",
       "      <td>Homicidio</td>\n",
       "      <td>[Doloso, Siniestro Vial]</td>\n",
       "    </tr>\n",
       "    <tr>\n",
       "      <th>1</th>\n",
       "      <td>Hurto (sin violencia)</td>\n",
       "      <td>[nan, Hurto Automotor]</td>\n",
       "    </tr>\n",
       "    <tr>\n",
       "      <th>2</th>\n",
       "      <td>Lesiones</td>\n",
       "      <td>[Siniestro Vial]</td>\n",
       "    </tr>\n",
       "    <tr>\n",
       "      <th>3</th>\n",
       "      <td>Robo (con violencia)</td>\n",
       "      <td>[nan, Robo Automotor]</td>\n",
       "    </tr>\n",
       "  </tbody>\n",
       "</table>\n",
       "</div>"
      ],
      "text/plain": [
       "             tipo_delito            subtipo_delito\n",
       "0  Homicidio              [Doloso, Siniestro Vial]\n",
       "1  Hurto (sin violencia)  [nan, Hurto Automotor]  \n",
       "2  Lesiones               [Siniestro Vial]        \n",
       "3  Robo (con violencia)   [nan, Robo Automotor]   "
      ]
     },
     "metadata": {},
     "output_type": "display_data"
    },
    {
     "data": {
      "text/html": [
       "<div>\n",
       "<style scoped>\n",
       "    .dataframe tbody tr th:only-of-type {\n",
       "        vertical-align: middle;\n",
       "    }\n",
       "\n",
       "    .dataframe tbody tr th {\n",
       "        vertical-align: top;\n",
       "    }\n",
       "\n",
       "    .dataframe thead th {\n",
       "        text-align: right;\n",
       "    }\n",
       "</style>\n",
       "<table border=\"1\" class=\"dataframe\">\n",
       "  <thead>\n",
       "    <tr style=\"text-align: right;\">\n",
       "      <th></th>\n",
       "      <th>tipo_delito</th>\n",
       "      <th>subtipo_delito</th>\n",
       "    </tr>\n",
       "  </thead>\n",
       "  <tbody>\n",
       "    <tr>\n",
       "      <th>0</th>\n",
       "      <td>Homicidio</td>\n",
       "      <td>[Doloso, Siniestro Vial]</td>\n",
       "    </tr>\n",
       "    <tr>\n",
       "      <th>1</th>\n",
       "      <td>Hurto (sin violencia)</td>\n",
       "      <td>[nan, Hurto Automotor]</td>\n",
       "    </tr>\n",
       "    <tr>\n",
       "      <th>2</th>\n",
       "      <td>Lesiones</td>\n",
       "      <td>[Siniestro Vial]</td>\n",
       "    </tr>\n",
       "    <tr>\n",
       "      <th>3</th>\n",
       "      <td>Robo (con violencia)</td>\n",
       "      <td>[nan, Robo Automotor]</td>\n",
       "    </tr>\n",
       "  </tbody>\n",
       "</table>\n",
       "</div>"
      ],
      "text/plain": [
       "             tipo_delito            subtipo_delito\n",
       "0  Homicidio              [Doloso, Siniestro Vial]\n",
       "1  Hurto (sin violencia)  [nan, Hurto Automotor]  \n",
       "2  Lesiones               [Siniestro Vial]        \n",
       "3  Robo (con violencia)   [nan, Robo Automotor]   "
      ]
     },
     "metadata": {},
     "output_type": "display_data"
    },
    {
     "data": {
      "text/html": [
       "<div>\n",
       "<style scoped>\n",
       "    .dataframe tbody tr th:only-of-type {\n",
       "        vertical-align: middle;\n",
       "    }\n",
       "\n",
       "    .dataframe tbody tr th {\n",
       "        vertical-align: top;\n",
       "    }\n",
       "\n",
       "    .dataframe thead th {\n",
       "        text-align: right;\n",
       "    }\n",
       "</style>\n",
       "<table border=\"1\" class=\"dataframe\">\n",
       "  <thead>\n",
       "    <tr style=\"text-align: right;\">\n",
       "      <th></th>\n",
       "      <th>tipo_delito</th>\n",
       "      <th>subtipo_delito</th>\n",
       "    </tr>\n",
       "  </thead>\n",
       "  <tbody>\n",
       "    <tr>\n",
       "      <th>0</th>\n",
       "      <td>Homicidio</td>\n",
       "      <td>[Siniestro Vial, Doloso]</td>\n",
       "    </tr>\n",
       "    <tr>\n",
       "      <th>1</th>\n",
       "      <td>Hurto (sin violencia)</td>\n",
       "      <td>[nan, Hurto Automotor]</td>\n",
       "    </tr>\n",
       "    <tr>\n",
       "      <th>2</th>\n",
       "      <td>Lesiones</td>\n",
       "      <td>[Siniestro Vial]</td>\n",
       "    </tr>\n",
       "    <tr>\n",
       "      <th>3</th>\n",
       "      <td>Robo (con violencia)</td>\n",
       "      <td>[nan, Robo Automotor]</td>\n",
       "    </tr>\n",
       "  </tbody>\n",
       "</table>\n",
       "</div>"
      ],
      "text/plain": [
       "             tipo_delito            subtipo_delito\n",
       "0  Homicidio              [Siniestro Vial, Doloso]\n",
       "1  Hurto (sin violencia)  [nan, Hurto Automotor]  \n",
       "2  Lesiones               [Siniestro Vial]        \n",
       "3  Robo (con violencia)   [nan, Robo Automotor]   "
      ]
     },
     "metadata": {},
     "output_type": "display_data"
    },
    {
     "data": {
      "text/html": [
       "<div>\n",
       "<style scoped>\n",
       "    .dataframe tbody tr th:only-of-type {\n",
       "        vertical-align: middle;\n",
       "    }\n",
       "\n",
       "    .dataframe tbody tr th {\n",
       "        vertical-align: top;\n",
       "    }\n",
       "\n",
       "    .dataframe thead th {\n",
       "        text-align: right;\n",
       "    }\n",
       "</style>\n",
       "<table border=\"1\" class=\"dataframe\">\n",
       "  <thead>\n",
       "    <tr style=\"text-align: right;\">\n",
       "      <th></th>\n",
       "      <th>tipo_delito</th>\n",
       "      <th>subtipo_delito</th>\n",
       "    </tr>\n",
       "  </thead>\n",
       "  <tbody>\n",
       "    <tr>\n",
       "      <th>0</th>\n",
       "      <td>Homicidio</td>\n",
       "      <td>[Doloso, Siniestro Vial]</td>\n",
       "    </tr>\n",
       "    <tr>\n",
       "      <th>1</th>\n",
       "      <td>Hurto (sin violencia)</td>\n",
       "      <td>[nan, Hurto Automotor]</td>\n",
       "    </tr>\n",
       "    <tr>\n",
       "      <th>2</th>\n",
       "      <td>Lesiones</td>\n",
       "      <td>[nan]</td>\n",
       "    </tr>\n",
       "    <tr>\n",
       "      <th>3</th>\n",
       "      <td>Robo (con violencia)</td>\n",
       "      <td>[nan, Robo Automotor]</td>\n",
       "    </tr>\n",
       "  </tbody>\n",
       "</table>\n",
       "</div>"
      ],
      "text/plain": [
       "             tipo_delito            subtipo_delito\n",
       "0  Homicidio              [Doloso, Siniestro Vial]\n",
       "1  Hurto (sin violencia)  [nan, Hurto Automotor]  \n",
       "2  Lesiones               [nan]                   \n",
       "3  Robo (con violencia)   [nan, Robo Automotor]   "
      ]
     },
     "metadata": {},
     "output_type": "display_data"
    },
    {
     "data": {
      "text/html": [
       "<div>\n",
       "<style scoped>\n",
       "    .dataframe tbody tr th:only-of-type {\n",
       "        vertical-align: middle;\n",
       "    }\n",
       "\n",
       "    .dataframe tbody tr th {\n",
       "        vertical-align: top;\n",
       "    }\n",
       "\n",
       "    .dataframe thead th {\n",
       "        text-align: right;\n",
       "    }\n",
       "</style>\n",
       "<table border=\"1\" class=\"dataframe\">\n",
       "  <thead>\n",
       "    <tr style=\"text-align: right;\">\n",
       "      <th></th>\n",
       "      <th>tipo_delito</th>\n",
       "      <th>subtipo_delito</th>\n",
       "    </tr>\n",
       "  </thead>\n",
       "  <tbody>\n",
       "    <tr>\n",
       "      <th>0</th>\n",
       "      <td>Homicidio</td>\n",
       "      <td>[Femicidio, Siniestro Vial, Doloso, Femicidio Intrafamiliar, Travesticidio/Transfemicidio]</td>\n",
       "    </tr>\n",
       "    <tr>\n",
       "      <th>1</th>\n",
       "      <td>Hurto (sin violencia)</td>\n",
       "      <td>[nan, Hurto Automotor]</td>\n",
       "    </tr>\n",
       "    <tr>\n",
       "      <th>2</th>\n",
       "      <td>Lesiones</td>\n",
       "      <td>[Siniestro Vial]</td>\n",
       "    </tr>\n",
       "    <tr>\n",
       "      <th>3</th>\n",
       "      <td>Robo (con violencia)</td>\n",
       "      <td>[nan, Con uso de moto, Robo Automotor]</td>\n",
       "    </tr>\n",
       "  </tbody>\n",
       "</table>\n",
       "</div>"
      ],
      "text/plain": [
       "             tipo_delito  \\\n",
       "0  Homicidio               \n",
       "1  Hurto (sin violencia)   \n",
       "2  Lesiones                \n",
       "3  Robo (con violencia)    \n",
       "\n",
       "                                                                               subtipo_delito  \n",
       "0  [Femicidio, Siniestro Vial, Doloso, Femicidio Intrafamiliar, Travesticidio/Transfemicidio]  \n",
       "1  [nan, Hurto Automotor]                                                                      \n",
       "2  [Siniestro Vial]                                                                            \n",
       "3  [nan, Con uso de moto, Robo Automotor]                                                      "
      ]
     },
     "metadata": {},
     "output_type": "display_data"
    },
    {
     "data": {
      "text/html": [
       "<div>\n",
       "<style scoped>\n",
       "    .dataframe tbody tr th:only-of-type {\n",
       "        vertical-align: middle;\n",
       "    }\n",
       "\n",
       "    .dataframe tbody tr th {\n",
       "        vertical-align: top;\n",
       "    }\n",
       "\n",
       "    .dataframe thead th {\n",
       "        text-align: right;\n",
       "    }\n",
       "</style>\n",
       "<table border=\"1\" class=\"dataframe\">\n",
       "  <thead>\n",
       "    <tr style=\"text-align: right;\">\n",
       "      <th></th>\n",
       "      <th>tipo_delito</th>\n",
       "      <th>subtipo_delito</th>\n",
       "    </tr>\n",
       "  </thead>\n",
       "  <tbody>\n",
       "    <tr>\n",
       "      <th>0</th>\n",
       "      <td>Homicidio</td>\n",
       "      <td>[Siniestro Vial, Doloso, Femicidio]</td>\n",
       "    </tr>\n",
       "    <tr>\n",
       "      <th>1</th>\n",
       "      <td>Hurto (sin violencia)</td>\n",
       "      <td>[nan, Hurto Automotor]</td>\n",
       "    </tr>\n",
       "    <tr>\n",
       "      <th>2</th>\n",
       "      <td>Lesiones</td>\n",
       "      <td>[Siniestro Vial]</td>\n",
       "    </tr>\n",
       "    <tr>\n",
       "      <th>3</th>\n",
       "      <td>Robo (con violencia)</td>\n",
       "      <td>[nan, Robo Automotor, Con uso de moto]</td>\n",
       "    </tr>\n",
       "  </tbody>\n",
       "</table>\n",
       "</div>"
      ],
      "text/plain": [
       "             tipo_delito                          subtipo_delito\n",
       "0  Homicidio              [Siniestro Vial, Doloso, Femicidio]   \n",
       "1  Hurto (sin violencia)  [nan, Hurto Automotor]                \n",
       "2  Lesiones               [Siniestro Vial]                      \n",
       "3  Robo (con violencia)   [nan, Robo Automotor, Con uso de moto]"
      ]
     },
     "metadata": {},
     "output_type": "display_data"
    }
   ],
   "source": [
    "dataframes = [df_2016, df_2017, df_2018, df_2019, df_2020, df_2021]\n",
    "\n",
    "for dataframe in dataframes:\n",
    "    display(dataframe.groupby(['tipo_delito']).agg({'subtipo_delito':'unique'}).reset_index())"
   ]
  },
  {
   "cell_type": "code",
   "execution_count": 33,
   "metadata": {},
   "outputs": [],
   "source": [
    "df_2019.loc[df_2019['tipo_delito']=='Lesiones', 'subtipo_delito'] = 'Siniestro Vial'\n",
    "\n",
    "df_2020['subtipo_delito'] = df_2020['subtipo_delito'].replace('Travesticidio/Transfemicidio','Doloso')\n",
    "df_2020['subtipo_delito'] = df_2020['subtipo_delito'].replace('Femicidio Intrafamiliar','Doloso')\n",
    "df_2020['subtipo_delito'] = df_2020['subtipo_delito'].replace('Femicidio','Doloso')\n",
    "df_2020['subtipo_delito'] = df_2020['subtipo_delito'].replace('Con uso de moto',np.nan)\n",
    "\n",
    "df_2021['subtipo_delito'] = df_2021['subtipo_delito'].replace('Femicidio','Doloso')\n",
    "df_2021['subtipo_delito'] = df_2021['subtipo_delito'].replace('Con uso de moto',np.nan)\n"
   ]
  },
  {
   "cell_type": "markdown",
   "metadata": {},
   "source": [
    "Unificamos los datos de subtipo de lesiones"
   ]
  },
  {
   "cell_type": "code",
   "execution_count": 34,
   "metadata": {},
   "outputs": [
    {
     "data": {
      "text/html": [
       "<div>\n",
       "<style scoped>\n",
       "    .dataframe tbody tr th:only-of-type {\n",
       "        vertical-align: middle;\n",
       "    }\n",
       "\n",
       "    .dataframe tbody tr th {\n",
       "        vertical-align: top;\n",
       "    }\n",
       "\n",
       "    .dataframe thead th {\n",
       "        text-align: right;\n",
       "    }\n",
       "</style>\n",
       "<table border=\"1\" class=\"dataframe\">\n",
       "  <thead>\n",
       "    <tr style=\"text-align: right;\">\n",
       "      <th></th>\n",
       "      <th>tipo_delito</th>\n",
       "      <th>subtipo_delito</th>\n",
       "    </tr>\n",
       "  </thead>\n",
       "  <tbody>\n",
       "    <tr>\n",
       "      <th>0</th>\n",
       "      <td>Homicidio</td>\n",
       "      <td>[Doloso, Siniestro Vial]</td>\n",
       "    </tr>\n",
       "    <tr>\n",
       "      <th>1</th>\n",
       "      <td>Hurto (sin violencia)</td>\n",
       "      <td>[nan, Hurto Automotor]</td>\n",
       "    </tr>\n",
       "    <tr>\n",
       "      <th>2</th>\n",
       "      <td>Lesiones</td>\n",
       "      <td>[Siniestro Vial]</td>\n",
       "    </tr>\n",
       "    <tr>\n",
       "      <th>3</th>\n",
       "      <td>Robo (con violencia)</td>\n",
       "      <td>[nan, Robo Automotor]</td>\n",
       "    </tr>\n",
       "  </tbody>\n",
       "</table>\n",
       "</div>"
      ],
      "text/plain": [
       "             tipo_delito            subtipo_delito\n",
       "0  Homicidio              [Doloso, Siniestro Vial]\n",
       "1  Hurto (sin violencia)  [nan, Hurto Automotor]  \n",
       "2  Lesiones               [Siniestro Vial]        \n",
       "3  Robo (con violencia)   [nan, Robo Automotor]   "
      ]
     },
     "metadata": {},
     "output_type": "display_data"
    },
    {
     "data": {
      "text/html": [
       "<div>\n",
       "<style scoped>\n",
       "    .dataframe tbody tr th:only-of-type {\n",
       "        vertical-align: middle;\n",
       "    }\n",
       "\n",
       "    .dataframe tbody tr th {\n",
       "        vertical-align: top;\n",
       "    }\n",
       "\n",
       "    .dataframe thead th {\n",
       "        text-align: right;\n",
       "    }\n",
       "</style>\n",
       "<table border=\"1\" class=\"dataframe\">\n",
       "  <thead>\n",
       "    <tr style=\"text-align: right;\">\n",
       "      <th></th>\n",
       "      <th>tipo_delito</th>\n",
       "      <th>subtipo_delito</th>\n",
       "    </tr>\n",
       "  </thead>\n",
       "  <tbody>\n",
       "    <tr>\n",
       "      <th>0</th>\n",
       "      <td>Homicidio</td>\n",
       "      <td>[Doloso, Siniestro Vial]</td>\n",
       "    </tr>\n",
       "    <tr>\n",
       "      <th>1</th>\n",
       "      <td>Hurto (sin violencia)</td>\n",
       "      <td>[nan, Hurto Automotor]</td>\n",
       "    </tr>\n",
       "    <tr>\n",
       "      <th>2</th>\n",
       "      <td>Lesiones</td>\n",
       "      <td>[Siniestro Vial]</td>\n",
       "    </tr>\n",
       "    <tr>\n",
       "      <th>3</th>\n",
       "      <td>Robo (con violencia)</td>\n",
       "      <td>[nan, Robo Automotor]</td>\n",
       "    </tr>\n",
       "  </tbody>\n",
       "</table>\n",
       "</div>"
      ],
      "text/plain": [
       "             tipo_delito            subtipo_delito\n",
       "0  Homicidio              [Doloso, Siniestro Vial]\n",
       "1  Hurto (sin violencia)  [nan, Hurto Automotor]  \n",
       "2  Lesiones               [Siniestro Vial]        \n",
       "3  Robo (con violencia)   [nan, Robo Automotor]   "
      ]
     },
     "metadata": {},
     "output_type": "display_data"
    },
    {
     "data": {
      "text/html": [
       "<div>\n",
       "<style scoped>\n",
       "    .dataframe tbody tr th:only-of-type {\n",
       "        vertical-align: middle;\n",
       "    }\n",
       "\n",
       "    .dataframe tbody tr th {\n",
       "        vertical-align: top;\n",
       "    }\n",
       "\n",
       "    .dataframe thead th {\n",
       "        text-align: right;\n",
       "    }\n",
       "</style>\n",
       "<table border=\"1\" class=\"dataframe\">\n",
       "  <thead>\n",
       "    <tr style=\"text-align: right;\">\n",
       "      <th></th>\n",
       "      <th>tipo_delito</th>\n",
       "      <th>subtipo_delito</th>\n",
       "    </tr>\n",
       "  </thead>\n",
       "  <tbody>\n",
       "    <tr>\n",
       "      <th>0</th>\n",
       "      <td>Homicidio</td>\n",
       "      <td>[Siniestro Vial, Doloso]</td>\n",
       "    </tr>\n",
       "    <tr>\n",
       "      <th>1</th>\n",
       "      <td>Hurto (sin violencia)</td>\n",
       "      <td>[nan, Hurto Automotor]</td>\n",
       "    </tr>\n",
       "    <tr>\n",
       "      <th>2</th>\n",
       "      <td>Lesiones</td>\n",
       "      <td>[Siniestro Vial]</td>\n",
       "    </tr>\n",
       "    <tr>\n",
       "      <th>3</th>\n",
       "      <td>Robo (con violencia)</td>\n",
       "      <td>[nan, Robo Automotor]</td>\n",
       "    </tr>\n",
       "  </tbody>\n",
       "</table>\n",
       "</div>"
      ],
      "text/plain": [
       "             tipo_delito            subtipo_delito\n",
       "0  Homicidio              [Siniestro Vial, Doloso]\n",
       "1  Hurto (sin violencia)  [nan, Hurto Automotor]  \n",
       "2  Lesiones               [Siniestro Vial]        \n",
       "3  Robo (con violencia)   [nan, Robo Automotor]   "
      ]
     },
     "metadata": {},
     "output_type": "display_data"
    },
    {
     "data": {
      "text/html": [
       "<div>\n",
       "<style scoped>\n",
       "    .dataframe tbody tr th:only-of-type {\n",
       "        vertical-align: middle;\n",
       "    }\n",
       "\n",
       "    .dataframe tbody tr th {\n",
       "        vertical-align: top;\n",
       "    }\n",
       "\n",
       "    .dataframe thead th {\n",
       "        text-align: right;\n",
       "    }\n",
       "</style>\n",
       "<table border=\"1\" class=\"dataframe\">\n",
       "  <thead>\n",
       "    <tr style=\"text-align: right;\">\n",
       "      <th></th>\n",
       "      <th>tipo_delito</th>\n",
       "      <th>subtipo_delito</th>\n",
       "    </tr>\n",
       "  </thead>\n",
       "  <tbody>\n",
       "    <tr>\n",
       "      <th>0</th>\n",
       "      <td>Homicidio</td>\n",
       "      <td>[Doloso, Siniestro Vial]</td>\n",
       "    </tr>\n",
       "    <tr>\n",
       "      <th>1</th>\n",
       "      <td>Hurto (sin violencia)</td>\n",
       "      <td>[nan, Hurto Automotor]</td>\n",
       "    </tr>\n",
       "    <tr>\n",
       "      <th>2</th>\n",
       "      <td>Lesiones</td>\n",
       "      <td>[Siniestro Vial]</td>\n",
       "    </tr>\n",
       "    <tr>\n",
       "      <th>3</th>\n",
       "      <td>Robo (con violencia)</td>\n",
       "      <td>[nan, Robo Automotor]</td>\n",
       "    </tr>\n",
       "  </tbody>\n",
       "</table>\n",
       "</div>"
      ],
      "text/plain": [
       "             tipo_delito            subtipo_delito\n",
       "0  Homicidio              [Doloso, Siniestro Vial]\n",
       "1  Hurto (sin violencia)  [nan, Hurto Automotor]  \n",
       "2  Lesiones               [Siniestro Vial]        \n",
       "3  Robo (con violencia)   [nan, Robo Automotor]   "
      ]
     },
     "metadata": {},
     "output_type": "display_data"
    },
    {
     "data": {
      "text/html": [
       "<div>\n",
       "<style scoped>\n",
       "    .dataframe tbody tr th:only-of-type {\n",
       "        vertical-align: middle;\n",
       "    }\n",
       "\n",
       "    .dataframe tbody tr th {\n",
       "        vertical-align: top;\n",
       "    }\n",
       "\n",
       "    .dataframe thead th {\n",
       "        text-align: right;\n",
       "    }\n",
       "</style>\n",
       "<table border=\"1\" class=\"dataframe\">\n",
       "  <thead>\n",
       "    <tr style=\"text-align: right;\">\n",
       "      <th></th>\n",
       "      <th>tipo_delito</th>\n",
       "      <th>subtipo_delito</th>\n",
       "    </tr>\n",
       "  </thead>\n",
       "  <tbody>\n",
       "    <tr>\n",
       "      <th>0</th>\n",
       "      <td>Homicidio</td>\n",
       "      <td>[Doloso, Siniestro Vial]</td>\n",
       "    </tr>\n",
       "    <tr>\n",
       "      <th>1</th>\n",
       "      <td>Hurto (sin violencia)</td>\n",
       "      <td>[nan, Hurto Automotor]</td>\n",
       "    </tr>\n",
       "    <tr>\n",
       "      <th>2</th>\n",
       "      <td>Lesiones</td>\n",
       "      <td>[Siniestro Vial]</td>\n",
       "    </tr>\n",
       "    <tr>\n",
       "      <th>3</th>\n",
       "      <td>Robo (con violencia)</td>\n",
       "      <td>[nan, Robo Automotor]</td>\n",
       "    </tr>\n",
       "  </tbody>\n",
       "</table>\n",
       "</div>"
      ],
      "text/plain": [
       "             tipo_delito            subtipo_delito\n",
       "0  Homicidio              [Doloso, Siniestro Vial]\n",
       "1  Hurto (sin violencia)  [nan, Hurto Automotor]  \n",
       "2  Lesiones               [Siniestro Vial]        \n",
       "3  Robo (con violencia)   [nan, Robo Automotor]   "
      ]
     },
     "metadata": {},
     "output_type": "display_data"
    },
    {
     "data": {
      "text/html": [
       "<div>\n",
       "<style scoped>\n",
       "    .dataframe tbody tr th:only-of-type {\n",
       "        vertical-align: middle;\n",
       "    }\n",
       "\n",
       "    .dataframe tbody tr th {\n",
       "        vertical-align: top;\n",
       "    }\n",
       "\n",
       "    .dataframe thead th {\n",
       "        text-align: right;\n",
       "    }\n",
       "</style>\n",
       "<table border=\"1\" class=\"dataframe\">\n",
       "  <thead>\n",
       "    <tr style=\"text-align: right;\">\n",
       "      <th></th>\n",
       "      <th>tipo_delito</th>\n",
       "      <th>subtipo_delito</th>\n",
       "    </tr>\n",
       "  </thead>\n",
       "  <tbody>\n",
       "    <tr>\n",
       "      <th>0</th>\n",
       "      <td>Homicidio</td>\n",
       "      <td>[Siniestro Vial, Doloso]</td>\n",
       "    </tr>\n",
       "    <tr>\n",
       "      <th>1</th>\n",
       "      <td>Hurto (sin violencia)</td>\n",
       "      <td>[nan, Hurto Automotor]</td>\n",
       "    </tr>\n",
       "    <tr>\n",
       "      <th>2</th>\n",
       "      <td>Lesiones</td>\n",
       "      <td>[Siniestro Vial]</td>\n",
       "    </tr>\n",
       "    <tr>\n",
       "      <th>3</th>\n",
       "      <td>Robo (con violencia)</td>\n",
       "      <td>[nan, Robo Automotor]</td>\n",
       "    </tr>\n",
       "  </tbody>\n",
       "</table>\n",
       "</div>"
      ],
      "text/plain": [
       "             tipo_delito            subtipo_delito\n",
       "0  Homicidio              [Siniestro Vial, Doloso]\n",
       "1  Hurto (sin violencia)  [nan, Hurto Automotor]  \n",
       "2  Lesiones               [Siniestro Vial]        \n",
       "3  Robo (con violencia)   [nan, Robo Automotor]   "
      ]
     },
     "metadata": {},
     "output_type": "display_data"
    }
   ],
   "source": [
    "dataframes = [df_2016, df_2017, df_2018, df_2019, df_2020, df_2021]\n",
    "\n",
    "for dataframe in dataframes:\n",
    "    display(dataframe.groupby(['tipo_delito']).agg({'subtipo_delito':'unique'}).reset_index())"
   ]
  },
  {
   "cell_type": "markdown",
   "metadata": {},
   "source": [
    "## Barrio"
   ]
  },
  {
   "cell_type": "markdown",
   "metadata": {},
   "source": [
    "eliminamos todos los nan"
   ]
  },
  {
   "cell_type": "code",
   "execution_count": 35,
   "metadata": {},
   "outputs": [],
   "source": [
    "dataframes = [df_2016, df_2017, df_2018, df_2019, df_2020, df_2021]\n",
    "\n",
    "for dataframe in dataframes:\n",
    "    dataframe.drop(dataframe[(dataframe['barrio'].isna())].index, inplace=True)"
   ]
  },
  {
   "cell_type": "markdown",
   "metadata": {},
   "source": [
    "## Comuna"
   ]
  },
  {
   "cell_type": "markdown",
   "metadata": {},
   "source": [
    "los valores van del 1 al 15"
   ]
  },
  {
   "cell_type": "code",
   "execution_count": 36,
   "metadata": {},
   "outputs": [
    {
     "data": {
      "text/plain": [
       "array([ 9., 14.,  4.,  6.,  1.,  3., 10.,  8., 11.,  7.,  2., 12., 13.,\n",
       "        5., 15.])"
      ]
     },
     "metadata": {},
     "output_type": "display_data"
    },
    {
     "data": {
      "text/plain": [
       "array([ 6.,  1.,  4., 14., 11., 13.,  7., 15.,  3.,  9., 12.,  8.,  5.,\n",
       "        2., 10.])"
      ]
     },
     "metadata": {},
     "output_type": "display_data"
    },
    {
     "data": {
      "text/plain": [
       "array([10.,  8., 13.,  4.,  1.,  3., 14., 15.,  2., 12.,  9., 11.,  7.,\n",
       "        5.,  6.])"
      ]
     },
     "metadata": {},
     "output_type": "display_data"
    },
    {
     "data": {
      "text/plain": [
       "array([ 6.,  3.,  1., 11., 15.,  5.,  2., 14., 13., 12.,  8.,  9.,  4.,\n",
       "        7., 10.])"
      ]
     },
     "metadata": {},
     "output_type": "display_data"
    },
    {
     "data": {
      "text/plain": [
       "array([10., 11.,  9., 12., 15.,  8., 13.,  7.,  6., 14.,  5.,  4.,  3.,\n",
       "        2.,  1.])"
      ]
     },
     "metadata": {},
     "output_type": "display_data"
    },
    {
     "data": {
      "text/plain": [
       "array([ 1.,  9.,  7.,  5., 14., 15.,  4.,  6., 12.,  2.,  8., 10.,  3.,\n",
       "       13., 11.])"
      ]
     },
     "metadata": {},
     "output_type": "display_data"
    }
   ],
   "source": [
    "dataframes = [df_2016, df_2017, df_2018, df_2019, df_2020, df_2021]\n",
    "\n",
    "for dataframe in dataframes:\n",
    "    display(dataframe['comuna'].unique())\n",
    "    "
   ]
  },
  {
   "cell_type": "markdown",
   "metadata": {},
   "source": [
    "## ID"
   ]
  },
  {
   "cell_type": "code",
   "execution_count": 37,
   "metadata": {},
   "outputs": [
    {
     "data": {
      "text/plain": [
       "array([ 51585,  83256, 117697, ...,  79693,  81292,  81314], dtype=int64)"
      ]
     },
     "metadata": {},
     "output_type": "display_data"
    },
    {
     "data": {
      "text/plain": [
       "array([178852, 132140, 189963, ..., 243798, 243802, 243801], dtype=int64)"
      ]
     },
     "metadata": {},
     "output_type": "display_data"
    },
    {
     "data": {
      "text/plain": [
       "array([269335, 248498, 248172, ..., 367224, 367223, 360640], dtype=int64)"
      ]
     },
     "metadata": {},
     "output_type": "display_data"
    },
    {
     "data": {
      "text/plain": [
       "array([1038983, 1038986, 1038989, ..., 1038975, 1038977, 1038982],\n",
       "      dtype=int64)"
      ]
     },
     "metadata": {},
     "output_type": "display_data"
    },
    {
     "data": {
      "text/plain": [
       "array(['RH-2020-0000480', 'HD-2020-0001119', 'RH-2020-0001140', ...,\n",
       "       'RH-2020-0684431', 'RH-2021-0004353', 'RH-2020-0684320'],\n",
       "      dtype=object)"
      ]
     },
     "metadata": {},
     "output_type": "display_data"
    },
    {
     "data": {
      "text/plain": [
       "array(['HC-2021-1008202', 'HC-2021-1009094', 'HC-2021-1013236', ...,\n",
       "       'RH-2021-3768589', 'RH-2021-3783716', 'RH-2021-3807019'],\n",
       "      dtype=object)"
      ]
     },
     "metadata": {},
     "output_type": "display_data"
    }
   ],
   "source": [
    "dataframes = [df_2016, df_2017, df_2018, df_2019, df_2020, df_2021]\n",
    "\n",
    "for dataframe in dataframes:\n",
    "    display(dataframe['id'].unique())"
   ]
  },
  {
   "cell_type": "markdown",
   "metadata": {},
   "source": [
    "## Unimos los datasets"
   ]
  },
  {
   "cell_type": "code",
   "execution_count": 38,
   "metadata": {},
   "outputs": [],
   "source": [
    "df = pd.concat([df_2016, df_2017, df_2018, df_2019, df_2020, df_2021])"
   ]
  },
  {
   "cell_type": "code",
   "execution_count": 39,
   "metadata": {},
   "outputs": [
    {
     "data": {
      "text/plain": [
       "Index(['id', 'fecha', 'franja_horaria', 'tipo_delito', 'subtipo_delito',\n",
       "       'cantidad_registrada', 'comuna', 'barrio', 'lat', 'long'],\n",
       "      dtype='object')"
      ]
     },
     "execution_count": 39,
     "metadata": {},
     "output_type": "execute_result"
    }
   ],
   "source": [
    "df.columns"
   ]
  },
  {
   "cell_type": "code",
   "execution_count": 40,
   "metadata": {},
   "outputs": [
    {
     "data": {
      "text/plain": [
       "array(['Parque Avellaneda', 'Palermo', 'Parque Patricios', 'Caballito',\n",
       "       'Monserrat', 'Barracas', 'Mataderos', 'Balvanera', 'Constitución',\n",
       "       'Floresta', 'Villa Soldati', 'Villa Devoto', 'Flores', 'Boca',\n",
       "       'San Cristóbal', 'Recoleta', 'San Nicolás', 'Villa Santa Rita',\n",
       "       'Villa Pueyrredón', 'Monte Castro', 'Liniers', 'Vélez Sársfield',\n",
       "       'Villa Urquiza', 'Versalles', 'Colegiales', 'Retiro',\n",
       "       'Nueva Pompeya', 'Nuñez', 'Boedo', 'San Telmo', 'Almagro',\n",
       "       'Villa Real', 'Villa Luro', 'Coghlan', 'Villa Lugano',\n",
       "       'Villa Gral. Mitre', 'Villa Riachuelo', 'Parque Chacabuco',\n",
       "       'Chacarita', 'Belgrano', 'Villa del Parque', 'Saavedra',\n",
       "       'Paternal', 'Villa Crespo', 'Villa Ortuzar', 'Parque Chas',\n",
       "       'Agronomía', 'Puerto Madero', 'Villa Del Parque', 'La Boca',\n",
       "       'Nueva pompeya'], dtype=object)"
      ]
     },
     "execution_count": 40,
     "metadata": {},
     "output_type": "execute_result"
    }
   ],
   "source": [
    "df['barrio'].unique()"
   ]
  },
  {
   "cell_type": "code",
   "execution_count": 41,
   "metadata": {},
   "outputs": [],
   "source": [
    "df['fecha'] = pd.to_datetime(df['fecha'], format='%Y-%m-%d')"
   ]
  },
  {
   "cell_type": "code",
   "execution_count": 42,
   "metadata": {},
   "outputs": [
    {
     "data": {
      "text/html": [
       "<div>\n",
       "<style scoped>\n",
       "    .dataframe tbody tr th:only-of-type {\n",
       "        vertical-align: middle;\n",
       "    }\n",
       "\n",
       "    .dataframe tbody tr th {\n",
       "        vertical-align: top;\n",
       "    }\n",
       "\n",
       "    .dataframe thead th {\n",
       "        text-align: right;\n",
       "    }\n",
       "</style>\n",
       "<table border=\"1\" class=\"dataframe\">\n",
       "  <thead>\n",
       "    <tr style=\"text-align: right;\">\n",
       "      <th></th>\n",
       "      <th>id</th>\n",
       "      <th>fecha</th>\n",
       "      <th>franja_horaria</th>\n",
       "      <th>tipo_delito</th>\n",
       "      <th>subtipo_delito</th>\n",
       "      <th>cantidad_registrada</th>\n",
       "      <th>comuna</th>\n",
       "      <th>barrio</th>\n",
       "      <th>lat</th>\n",
       "      <th>long</th>\n",
       "    </tr>\n",
       "  </thead>\n",
       "  <tbody>\n",
       "    <tr>\n",
       "      <th>0</th>\n",
       "      <td>51585</td>\n",
       "      <td>2016-01-01</td>\n",
       "      <td>13</td>\n",
       "      <td>Robo (con violencia)</td>\n",
       "      <td>NaN</td>\n",
       "      <td>1.0</td>\n",
       "      <td>9.0</td>\n",
       "      <td>Parque Avellaneda</td>\n",
       "      <td>-34.64873</td>\n",
       "      <td>-58.468536</td>\n",
       "    </tr>\n",
       "    <tr>\n",
       "      <th>1</th>\n",
       "      <td>83256</td>\n",
       "      <td>2016-01-01</td>\n",
       "      <td>22</td>\n",
       "      <td>Robo (con violencia)</td>\n",
       "      <td>NaN</td>\n",
       "      <td>1.0</td>\n",
       "      <td>14.0</td>\n",
       "      <td>Palermo</td>\n",
       "      <td>-34.576925</td>\n",
       "      <td>-58.4074</td>\n",
       "    </tr>\n",
       "    <tr>\n",
       "      <th>2</th>\n",
       "      <td>117697</td>\n",
       "      <td>2016-01-01</td>\n",
       "      <td>1</td>\n",
       "      <td>Lesiones</td>\n",
       "      <td>Siniestro Vial</td>\n",
       "      <td>1.0</td>\n",
       "      <td>4.0</td>\n",
       "      <td>Parque Patricios</td>\n",
       "      <td>-34.645197</td>\n",
       "      <td>-58.401099</td>\n",
       "    </tr>\n",
       "    <tr>\n",
       "      <th>3</th>\n",
       "      <td>43088</td>\n",
       "      <td>2016-01-01</td>\n",
       "      <td>19</td>\n",
       "      <td>Hurto (sin violencia)</td>\n",
       "      <td>NaN</td>\n",
       "      <td>1.0</td>\n",
       "      <td>9.0</td>\n",
       "      <td>Parque Avellaneda</td>\n",
       "      <td>-34.65576</td>\n",
       "      <td>-58.478681</td>\n",
       "    </tr>\n",
       "    <tr>\n",
       "      <th>4</th>\n",
       "      <td>68588</td>\n",
       "      <td>2016-01-01</td>\n",
       "      <td>4</td>\n",
       "      <td>Robo (con violencia)</td>\n",
       "      <td>Robo Automotor</td>\n",
       "      <td>1.0</td>\n",
       "      <td>6.0</td>\n",
       "      <td>Caballito</td>\n",
       "      <td>-34.624128</td>\n",
       "      <td>-58.436826</td>\n",
       "    </tr>\n",
       "  </tbody>\n",
       "</table>\n",
       "</div>"
      ],
      "text/plain": [
       "       id      fecha franja_horaria            tipo_delito  subtipo_delito  \\\n",
       "0  51585  2016-01-01  13             Robo (con violencia)   NaN              \n",
       "1  83256  2016-01-01  22             Robo (con violencia)   NaN              \n",
       "2  117697 2016-01-01  1              Lesiones               Siniestro Vial   \n",
       "3  43088  2016-01-01  19             Hurto (sin violencia)  NaN              \n",
       "4  68588  2016-01-01  4              Robo (con violencia)   Robo Automotor   \n",
       "\n",
       "   cantidad_registrada  comuna             barrio        lat       long  \n",
       "0  1.0                  9.0     Parque Avellaneda -34.64873  -58.468536  \n",
       "1  1.0                  14.0    Palermo           -34.576925 -58.4074    \n",
       "2  1.0                  4.0     Parque Patricios  -34.645197 -58.401099  \n",
       "3  1.0                  9.0     Parque Avellaneda -34.65576  -58.478681  \n",
       "4  1.0                  6.0     Caballito         -34.624128 -58.436826  "
      ]
     },
     "execution_count": 42,
     "metadata": {},
     "output_type": "execute_result"
    }
   ],
   "source": [
    "df.head()"
   ]
  },
  {
   "cell_type": "code",
   "execution_count": 43,
   "metadata": {},
   "outputs": [
    {
     "data": {
      "text/plain": [
       "array([ 9., 14.,  4.,  6.,  1.,  3., 10.,  8., 11.,  7.,  2., 12., 13.,\n",
       "        5., 15.])"
      ]
     },
     "execution_count": 43,
     "metadata": {},
     "output_type": "execute_result"
    }
   ],
   "source": [
    "df['comuna'].unique()"
   ]
  },
  {
   "cell_type": "code",
   "execution_count": 44,
   "metadata": {},
   "outputs": [
    {
     "name": "stdout",
     "output_type": "stream",
     "text": [
      "<class 'pandas.core.frame.DataFrame'>\n",
      "Int64Index: 636598 entries, 0 to 88566\n",
      "Data columns (total 10 columns):\n",
      " #   Column               Non-Null Count   Dtype         \n",
      "---  ------               --------------   -----         \n",
      " 0   id                   636598 non-null  object        \n",
      " 1   fecha                636598 non-null  datetime64[ns]\n",
      " 2   franja_horaria       636598 non-null  object        \n",
      " 3   tipo_delito          636598 non-null  object        \n",
      " 4   subtipo_delito       91169 non-null   object        \n",
      " 5   cantidad_registrada  379844 non-null  float64       \n",
      " 6   comuna               636598 non-null  float64       \n",
      " 7   barrio               636598 non-null  object        \n",
      " 8   lat                  636598 non-null  object        \n",
      " 9   long                 636598 non-null  object        \n",
      "dtypes: datetime64[ns](1), float64(2), object(7)\n",
      "memory usage: 53.4+ MB\n"
     ]
    }
   ],
   "source": [
    "df.info()"
   ]
  },
  {
   "cell_type": "code",
   "execution_count": 45,
   "metadata": {},
   "outputs": [
    {
     "data": {
      "text/html": [
       "<div>\n",
       "<style scoped>\n",
       "    .dataframe tbody tr th:only-of-type {\n",
       "        vertical-align: middle;\n",
       "    }\n",
       "\n",
       "    .dataframe tbody tr th {\n",
       "        vertical-align: top;\n",
       "    }\n",
       "\n",
       "    .dataframe thead th {\n",
       "        text-align: right;\n",
       "    }\n",
       "</style>\n",
       "<table border=\"1\" class=\"dataframe\">\n",
       "  <thead>\n",
       "    <tr style=\"text-align: right;\">\n",
       "      <th></th>\n",
       "      <th>tipo_delito</th>\n",
       "      <th>subtipo_delito</th>\n",
       "    </tr>\n",
       "  </thead>\n",
       "  <tbody>\n",
       "    <tr>\n",
       "      <th>0</th>\n",
       "      <td>Homicidio</td>\n",
       "      <td>[Doloso, Siniestro Vial]</td>\n",
       "    </tr>\n",
       "    <tr>\n",
       "      <th>1</th>\n",
       "      <td>Hurto (sin violencia)</td>\n",
       "      <td>[nan, Hurto Automotor]</td>\n",
       "    </tr>\n",
       "    <tr>\n",
       "      <th>2</th>\n",
       "      <td>Lesiones</td>\n",
       "      <td>[Siniestro Vial]</td>\n",
       "    </tr>\n",
       "    <tr>\n",
       "      <th>3</th>\n",
       "      <td>Robo (con violencia)</td>\n",
       "      <td>[nan, Robo Automotor]</td>\n",
       "    </tr>\n",
       "  </tbody>\n",
       "</table>\n",
       "</div>"
      ],
      "text/plain": [
       "             tipo_delito            subtipo_delito\n",
       "0  Homicidio              [Doloso, Siniestro Vial]\n",
       "1  Hurto (sin violencia)  [nan, Hurto Automotor]  \n",
       "2  Lesiones               [Siniestro Vial]        \n",
       "3  Robo (con violencia)   [nan, Robo Automotor]   "
      ]
     },
     "execution_count": 45,
     "metadata": {},
     "output_type": "execute_result"
    }
   ],
   "source": [
    "df.groupby(['tipo_delito']).agg({'subtipo_delito':'unique'}).reset_index()"
   ]
  },
  {
   "cell_type": "markdown",
   "metadata": {},
   "source": [
    "## Cambios implementados: \n",
    "\n",
    "- Se eliminaron las filas con 'franja_horaria' = 'S/D', 'SD', 'sd'. Aprox 2100 filas\n",
    "- Se eliminaron las filas con 'barrio' = nan\n",
    "- En subtipo de lesiones se unificaron los datos. Por ejemplo se paso los femicidios a homicidio doloso, porque solo hay datos de femicidios de un solo año, lo mismo con los transvesticidios. Los robos con moto se los pone como roobo con violencia, etc\n"
   ]
  }
 ],
 "metadata": {
  "interpreter": {
   "hash": "062274e7162bb420c99cc7ca51c80b3d41f6466fb46f2923fcfecd2b904f14af"
  },
  "kernelspec": {
   "display_name": "Python 3.8.12 ('base')",
   "language": "python",
   "name": "python3"
  },
  "language_info": {
   "codemirror_mode": {
    "name": "ipython",
    "version": 3
   },
   "file_extension": ".py",
   "mimetype": "text/x-python",
   "name": "python",
   "nbconvert_exporter": "python",
   "pygments_lexer": "ipython3",
   "version": "3.8.12"
  },
  "orig_nbformat": 4
 },
 "nbformat": 4,
 "nbformat_minor": 2
}
